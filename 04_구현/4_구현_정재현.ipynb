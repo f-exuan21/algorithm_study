{
 "cells": [
  {
   "cell_type": "markdown",
   "id": "496ff517",
   "metadata": {},
   "source": [
    "# 4_구현"
   ]
  },
  {
   "cell_type": "markdown",
   "id": "dc2e84da",
   "metadata": {},
   "source": [
    "### 1) 아이디어를 코드로 바꾸는 구현\n",
    "- 구현: 머릿속에 있는 알고리즘을 소스코드로 바꾸는 과정\n",
    "- 완전탐색: 모든 경우의 수를 주저 없이 다 계산하는 해결법\n",
    "- 시뮬레이션: 문제에서 제시한 알고리즘을 한 단계씩 차례대로 직접 수행하는 방식\n",
    "- 피지컬로 승부하기\n",
    "- 구현 시 고려해야 할 메모리 제약 사항: 파이썬에서는 직접 자료형을 지정할 필요 없고 큰 수의 연산을 기본적으로 지원\n",
    "- 파이썬에서 리스트 크기\n"
   ]
  },
  {
   "cell_type": "markdown",
   "id": "f8e878f7",
   "metadata": {},
   "source": [
    "#### 예제4-1 상하좌우\n",
    "- N x N 크기의 정사각형 공간 위에 있다\n",
    "- 상,하,좌,우로 한칸 씩 이동가능하다\n",
    "- 계획서가 주어졌을 때 도착하게될 지점의 좌표를 출력하는 것이 목표"
   ]
  },
  {
   "cell_type": "code",
   "execution_count": 2,
   "id": "9c890990",
   "metadata": {},
   "outputs": [
    {
     "name": "stdout",
     "output_type": "stream",
     "text": [
      "5\n",
      "R R R R D D\n",
      "3 5\n"
     ]
    }
   ],
   "source": [
    "# N 입력받기\n",
    "n = int(input())  # NxN 정의\n",
    "x, y = 1, 1\n",
    "plans = input().split()\n",
    "\n",
    "# L, R, U, D에 따른 이동 방향\n",
    "dx = [0, 0, -1, 1]\n",
    "dy = [-1, 1, 0, 0]\n",
    "move_types = ['L', 'R', 'U', 'D']\n",
    "\n",
    "# 이동 계획을 하나씩 확인\n",
    "for plan in plans:\n",
    "    \n",
    "    # 이동 후 좌표 구하기\n",
    "    for i in range(len(move_types)):\n",
    "        if plan == move_types[i]:\n",
    "            nx = x + dx[i]\n",
    "            ny = y + dy[i]\n",
    "   \n",
    "    # 공간을 벗어나는 경우 무시\n",
    "    if nx < 1 or ny < 1 or nx > n or ny > n:\n",
    "        continue\n",
    "    \n",
    "    # 이동 수행\n",
    "    x, y = nx, ny\n",
    "\n",
    "print(x, y)"
   ]
  },
  {
   "cell_type": "code",
   "execution_count": null,
   "id": "dc3fde15",
   "metadata": {},
   "outputs": [],
   "source": [
    "# 이동 횟수가 N번인 경우 시간 복잡도는 O(N)\n",
    "# 일련의 명령에 따라 개체를 차례대로 이동시킨다는 점에서 시뮬레이션 유형으로 분류"
   ]
  },
  {
   "cell_type": "markdown",
   "id": "3c9f5bec",
   "metadata": {},
   "source": [
    "#### 예제4-2 시각\n",
    "- 정수 N이 입력되면 00시 00분 00초부터 N시 59분 59초까지 모든 시각 중에서 3이 하나라도 포함되는 모든 경우의 수를 구해야한다."
   ]
  },
  {
   "cell_type": "code",
   "execution_count": 4,
   "id": "62562850",
   "metadata": {},
   "outputs": [
    {
     "name": "stdout",
     "output_type": "stream",
     "text": [
      "2\n",
      "4725\n"
     ]
    }
   ],
   "source": [
    "\n",
    "# H를 입력받기\n",
    "h = int(input())\n",
    "\n",
    "count = 0\n",
    "for i in range(h + 1):\n",
    "    for j in range(60):\n",
    "        for k in range(60):\n",
    "            # 매 시각 안에 '3'이 포함되어 있다면 카운트 증가\n",
    "            if '3' in str(i) + str(j) + str(k):\n",
    "                count += 1\n",
    "\n",
    "print(count)"
   ]
  },
  {
   "cell_type": "code",
   "execution_count": null,
   "id": "b51a32b8",
   "metadata": {},
   "outputs": [],
   "source": [
    "# 이러한 유형은 완전 탐색(Brute Forcing)유형으로 분류되기도 함"
   ]
  },
  {
   "cell_type": "markdown",
   "id": "04e99c57",
   "metadata": {},
   "source": [
    "### 2) 왕실의 나이트\n",
    "- 8 x 8 좌표 평면\n",
    "- 나이트는 수평으로 두 칸 이동한 뒤에 수직으로 한 칸 이동할 수 있다\n",
    "- 나이트는 수직으로 두 칸 이동한 뒤에 수평으로 한 칸 이동할 수 있다\n",
    "    - 나이트 위치가 주어졌을 때 이동가능한 모든 경우의 수를 출력하는 것이 모표"
   ]
  },
  {
   "cell_type": "code",
   "execution_count": null,
   "id": "8e720257",
   "metadata": {},
   "outputs": [],
   "source": [
    "# 현재 나이트의 위치 입력받기\n",
    "input_data = input()\n",
    "row = int(input_data[1])\n",
    "column = int(ord(input_data[0])) - int(ord('a')) + 1\n",
    "\n",
    "# 나이트가 이동할 수 있는 8가지 방향 정의\n",
    "steps = [(-2, -1), (-1, -2), (1, -2), (2, -1), (2, 1), (1, 2), (-1, 2), (-2, 1)]\n",
    "\n",
    "# 8가지 방향에 대하여 각 위치로 이동이 가능한지 확인\n",
    "result = 0\n",
    "for step in steps:\n",
    "    # 이동하고자 하는 위치 확인\n",
    "    next_row = row + step[0]\n",
    "    next_column = column + step[1]\n",
    "    # 해당 위치로 이동이 가능하다면 카운트 증가\n",
    "    if next_row >= 1 and next_row <= 8 and next_column >= 1 and next_column <= 8:\n",
    "        result += 1\n",
    "\n",
    "print(result)"
   ]
  },
  {
   "cell_type": "markdown",
   "id": "2a5a4c22",
   "metadata": {},
   "source": [
    "### 3) 게임개발\n",
    "- N x M 크기의 사각형이고 각각의 칸은 육지 혹은 바다이다.\n",
    "- 캐릭터는 동서남북 중 한 곳을 바라본다\n",
    "- 현재 위치에서 현재 방향을 기준으로 왼쪽 방향부터 차례대로 갈 곳을 정한다.\n",
    "---\n",
    "manual\n",
    "- 캐릭터의 바로 왼쪽 방향에 아직 가보지 않은 칸이 존재한다면 왼쪽 방향으로 회전한 다음 왼쪽으로 한 칸 을 전진한다. 왼쪽 방향에 가보지 않은 칸니 없다면 왼쪽 방향으로 회전만 수행하고 1단계로 돌아간다.\n",
    "- 네 방향 모두 이미 가본 칸이거나 바다로 되어 있는 칸인 경우 바라보는 방향을 유지한 채로 한 칸 뒤로 가고 1단계로 돌아간다. 만약 뒤쪽 방향이 바다인 칸이라 뒤로 돌아갈 수 없다면 움직임을 멈춘다\n",
    "- 위 과정을 반복적으로 수행하면서 캐릭터를 이동시킨 뒤에 캐릭터가 방문한 칸의 수를 출력하는 것이 목표"
   ]
  },
  {
   "cell_type": "code",
   "execution_count": 5,
   "id": "47dda40e",
   "metadata": {},
   "outputs": [
    {
     "name": "stdout",
     "output_type": "stream",
     "text": [
      "4 4\n",
      "1 1 0\n",
      "1 1 1 1\n",
      "1 0 0 1\n",
      "1 1 0 1\n",
      "1 1 1 1\n",
      "3\n"
     ]
    }
   ],
   "source": [
    "# N, M을 공백을 기준으로 구분하여 입력받기\n",
    "n, m = map(int, input().split())\n",
    "\n",
    "# 방문한 위치를 저장하기 위한 맵을 생성하여 0으로 초기화\n",
    "d = [[0] * m for _ in range(n)]\n",
    "# 현재 캐릭터의 X 좌표, Y 좌표, 방향을 입력받기\n",
    "x, y, direction = map(int, input().split())\n",
    "d[x][y] = 1 # 현재 좌표 방문 처리\n",
    "\n",
    "# 전체 맵 정보를 입력받기\n",
    "array = []\n",
    "for i in range(n):\n",
    "    array.append(list(map(int, input().split())))\n",
    "\n",
    "# 북, 동, 남, 서 방향 정의\n",
    "dx = [-1, 0, 1, 0]\n",
    "dy = [0, 1, 0, -1]\n",
    "\n",
    "# 왼쪽으로 회전\n",
    "def turn_left():\n",
    "    global direction\n",
    "    direction -= 1\n",
    "    if direction == -1:\n",
    "        direction = 3\n",
    "\n",
    "# 시뮬레이션 시작\n",
    "count = 1\n",
    "turn_time = 0\n",
    "while True:\n",
    "    # 왼쪽으로 회전\n",
    "    turn_left()\n",
    "    nx = x + dx[direction]\n",
    "    ny = y + dy[direction]\n",
    "    # 회전한 이후 정면에 가보지 않은 칸이 존재하는 경우 이동\n",
    "    if d[nx][ny] == 0 and array[nx][ny] == 0:\n",
    "        d[nx][ny] = 1\n",
    "        x = nx\n",
    "        y = ny\n",
    "        count += 1\n",
    "        turn_time = 0\n",
    "        continue\n",
    "    # 회전한 이후 정면에 가보지 않은 칸이 없거나 바다인 경우\n",
    "    else:\n",
    "        turn_time += 1\n",
    "    # 네 방향 모두 갈 수 없는 경우\n",
    "    if turn_time == 4:\n",
    "        nx = x - dx[direction]\n",
    "        ny = y - dy[direction]\n",
    "        # 뒤로 갈 수 있다면 이동하기\n",
    "        if array[nx][ny] == 0:\n",
    "            x = nx\n",
    "            y = ny\n",
    "        # 뒤가 바다로 막혀있는 경우\n",
    "        else:\n",
    "            break\n",
    "        turn_time = 0\n",
    "\n",
    "# 정답 출력\n",
    "print(count)"
   ]
  },
  {
   "cell_type": "code",
   "execution_count": null,
   "id": "ad2a588a",
   "metadata": {},
   "outputs": [],
   "source": [
    "# 시뮬레이션 문제 유형"
   ]
  }
 ],
 "metadata": {
  "kernelspec": {
   "display_name": "Python 3 (ipykernel)",
   "language": "python",
   "name": "python3"
  },
  "language_info": {
   "codemirror_mode": {
    "name": "ipython",
    "version": 3
   },
   "file_extension": ".py",
   "mimetype": "text/x-python",
   "name": "python",
   "nbconvert_exporter": "python",
   "pygments_lexer": "ipython3",
   "version": "3.8.5"
  }
 },
 "nbformat": 4,
 "nbformat_minor": 5
}
