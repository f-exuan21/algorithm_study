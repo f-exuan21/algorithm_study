{
 "cells": [
  {
   "cell_type": "markdown",
   "id": "f2dcd2ac",
   "metadata": {},
   "source": [
    "# CHAPTER04. 구현\n",
    "- 머릿속에 있는 알고리즘을 소스코드로 바꾸는 과정\n",
    "- 완전 탐색 + 시뮬레이션\n",
    "- 완전 탐색 : 모든 경우의 수를 주저 없이 다 계산하는 해결 방법\n",
    "- 시뮬레이션 : 문제에서 제시한 알고리즘을 한 단계씩 차례대로 직접 수행"
   ]
  },
  {
   "cell_type": "markdown",
   "id": "2ae56e19",
   "metadata": {},
   "source": [
    "### 예제 4-1 상하좌우\n",
    "- N X N의 좌표에서 특정 위치로 이동"
   ]
  },
  {
   "cell_type": "code",
   "execution_count": 1,
   "id": "d9870397",
   "metadata": {},
   "outputs": [
    {
     "name": "stdout",
     "output_type": "stream",
     "text": [
      "5\n",
      "R R R U D D\n",
      "3 4\n"
     ]
    }
   ],
   "source": [
    "n = int(input())\n",
    "x, y = 1, 1\n",
    "plans = input().split()\n",
    "\n",
    "# L, R, U, D에 따른 이동 방향\n",
    "dx = [0, 0, -1, 1]\n",
    "dy = [-1, 1, 0, 0]\n",
    "move_types = ['L', 'R', 'U', 'D']\n",
    "\n",
    "for plan in plans:\n",
    "    for i in range(len(move_types)):\n",
    "        if plan == move_types[i]:\n",
    "            nx = x + dx[i]\n",
    "            ny = y + dy[i]\n",
    "    # 공간을 벗어나는 경우 무시\n",
    "    if nx < 1 or ny < 1 or nx > n or ny > n:\n",
    "        continue\n",
    "    \n",
    "    x, y = nx, ny\n",
    "    \n",
    "print(x, y)"
   ]
  },
  {
   "cell_type": "markdown",
   "id": "e4f69d2d",
   "metadata": {},
   "source": [
    "### 예제 4-2 시각\n",
    "- 정수 N이 입력되면 00시 00분 00초 부터 N시 59분 59초까지의 모든 시각 중에서 3이 하나라도 포함 되는 모든 경우의 수"
   ]
  },
  {
   "cell_type": "code",
   "execution_count": 2,
   "id": "f4e4b22f",
   "metadata": {},
   "outputs": [
    {
     "name": "stdout",
     "output_type": "stream",
     "text": [
      "5\n",
      "11475\n"
     ]
    }
   ],
   "source": [
    "h = int(input())\n",
    "\n",
    "count = 0\n",
    "for i in range(h + 1):\n",
    "    for j in range(60):\n",
    "        for k in range(60):\n",
    "            # 매 시각 안에 '3'이 포함되어 있다면 카운트 증가\n",
    "            if '3' in str(i) + str(j) + str(k):\n",
    "                count += 1\n",
    "\n",
    "print(count)"
   ]
  },
  {
   "cell_type": "markdown",
   "id": "594f4fe2",
   "metadata": {},
   "source": [
    "### 실전 문제, 왕실의 나이트\n",
    "- 8 x 8 의 체스판에서 L자로 움직이는 나이트의 위치가 주어졌을 때 나이트가 이동할 수 있는 경우의 수를 출력\n",
    "- 행 위치 1 ~ 8\n",
    "- 열 위치 a ~ h"
   ]
  },
  {
   "cell_type": "code",
   "execution_count": 3,
   "id": "53f2391f",
   "metadata": {},
   "outputs": [
    {
     "name": "stdout",
     "output_type": "stream",
     "text": [
      "a1\n",
      "2\n"
     ]
    }
   ],
   "source": [
    "input_data = input()\n",
    "row = int(input_data[1])\n",
    "column = int(ord(input_data[0])) - int(ord('a')) + 1\n",
    "\n",
    "# 나이트가 이동할 수 있는 8가지 방향 정의\n",
    "steps = [(-2, -1), (-1, -2),(1, -2),(2, -1),(2, 1),(1, 2),(-1, 2),(-2, 1)]\n",
    "\n",
    "# 8가지 방향에 대하여 각 위치로 이동이 가능한지 확인\n",
    "result = 0\n",
    "for step in steps:\n",
    "    next_row = row + step[0]\n",
    "    next_column = column + step[1]\n",
    "    # 해당 위치로 이동이 가능하다면 카운트 증가\n",
    "    if next_row >= 1 and next_row <= 8 and next_column >= 1 and next_column <= 8:\n",
    "        result += 1\n",
    "        \n",
    "print(result)"
   ]
  },
  {
   "cell_type": "markdown",
   "id": "f6e4cdb6",
   "metadata": {},
   "source": [
    "### 게임 개발\n",
    "- N x M 의 맵 에서  (A, B, C) 입력\n",
    "- A: 북쪽으로부터 떨어진 칸의 개수 \n",
    "- B: 서쪽으로부터 떨어진 칸의 개수\n",
    "- C: 0-북쪽, 1-동쪽, 2-남쪽, 3-서쪽\n",
    "- 셋째 줄 부터는 0-육지, 1-바다\n",
    "\n",
    "- 1. 현재 위치에서 현재 방향을 기준으로 왼쪽 방향 부터 차례대로 갈 곳을 정한다.\n",
    "- 2. 캐릭터의 왼쪽에 가보지 않은 칸이 존재하면, 가본 칸이면 왼쪽 방향으로 회전 수향하고 1단계로 돌아간다.\n",
    "- 3. 만약 네 방향 모두 이미 가본 칸이거나 바다로 되어 이쓴ㄴ 칸인 경우, 바라보는 방향을 유지한 채로 한칸 뒤로 가고 1단계로 돌아간다.\n",
    "-    단 , 뒤쪽 방향이 바다인 칸일 경우 움직임을 멈춘다"
   ]
  },
  {
   "cell_type": "code",
   "execution_count": 9,
   "id": "1de7bca7",
   "metadata": {},
   "outputs": [
    {
     "name": "stdout",
     "output_type": "stream",
     "text": [
      "4 4\n",
      "1 1 0\n",
      "1 1 1 1\n",
      "1 0 0 1\n",
      "1 1 0 1\n",
      "1 1 1 1\n",
      "3\n"
     ]
    }
   ],
   "source": [
    "n,m = map(int, input().split())\n",
    "\n",
    "d = [[0] * m for _ in range(n)]\n",
    "\n",
    "x,y, direction = map(int, input().split())\n",
    "d[x][y] = 1 # 현재 좌표 방문 처리\n",
    "\n",
    "# 전체 맵 정보를 입력받기\n",
    "array = []\n",
    "for i in range(n):\n",
    "    array.append(list(map(int, input().split())))\n",
    "    \n",
    "# 북, 동, 남, 서 방향 정의\n",
    "dx = [-1, 0, 1, 0]\n",
    "dy = [0, 1, 0, -1]\n",
    "\n",
    "# 왼쪽으로 회전\n",
    "def turn_left():\n",
    "    global direction\n",
    "    direction -= 1\n",
    "    if direction == -1:\n",
    "        direction = 3\n",
    "        \n",
    "# 시뮬레이션 시작\n",
    "count = 1\n",
    "turn_time = 0\n",
    "while True:\n",
    "    # 왼쪽으로 회전\n",
    "    turn_left()\n",
    "    nx = x + dx[direction]\n",
    "    ny = y + dy[direction]\n",
    "    # 회전한 이후 정면에 가보지 않은 칸이 존재하는 경우 이동\n",
    "    if d[nx][ny] == 0 and array[nx][ny] == 0:\n",
    "        d[nx][ny] = 1\n",
    "        x = nx\n",
    "        y = ny\n",
    "        count += 1\n",
    "        turn_time = 0\n",
    "        continue\n",
    "    # 회전한 이후 정면에 가보지 않은 칸이 없거나 바다인 경우\n",
    "    else:\n",
    "        turn_time += 1\n",
    "    # 네 방향 모두 갈 수 없는 경우\n",
    "    if turn_time == 4:\n",
    "        nx = x - dx[direction]\n",
    "        ny = y - dy[direction]\n",
    "        # 뒤로 갈 수 있다면 이동하기\n",
    "        if array[nx][ny] == 0:\n",
    "            x = nx\n",
    "            y = ny\n",
    "        # 뒤가 바다로 막혀있는 경우\n",
    "        else:\n",
    "            break\n",
    "        turn_time = 0\n",
    "        \n",
    "print(count)"
   ]
  },
  {
   "cell_type": "code",
   "execution_count": null,
   "id": "91c5ecb1",
   "metadata": {},
   "outputs": [],
   "source": []
  }
 ],
 "metadata": {
  "kernelspec": {
   "display_name": "Python 3 (ipykernel)",
   "language": "python",
   "name": "python3"
  },
  "language_info": {
   "codemirror_mode": {
    "name": "ipython",
    "version": 3
   },
   "file_extension": ".py",
   "mimetype": "text/x-python",
   "name": "python",
   "nbconvert_exporter": "python",
   "pygments_lexer": "ipython3",
   "version": "3.8.11"
  }
 },
 "nbformat": 4,
 "nbformat_minor": 5
}
