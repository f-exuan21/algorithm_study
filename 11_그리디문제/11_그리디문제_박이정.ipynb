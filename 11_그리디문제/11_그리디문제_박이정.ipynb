{
 "cells": [
  {
   "cell_type": "markdown",
   "id": "5d8c7f28",
   "metadata": {},
   "source": [
    "# 1. 모험가 길드"
   ]
  },
  {
   "cell_type": "markdown",
   "id": "44e18a8e",
   "metadata": {},
   "source": [
    " - 한 마을에 모험가가 N명 있음\n",
    " - 공포도가 X인 모험가는 반드시 X명 이상으로 구성한 무험가 그룹에 참여해야만 여행을 떠날 수 있음\n",
    " - 동빈이는 최대 몇 개의 모험가 그룹을 만들 수 있을까?\n",
    " - N명의 모험가에 대한 정보가 주어졌을 때, 여행을 떠날 수 있는 그룹 수의 최대값을 구하는 프로그램을 작성할 것\n",
    " - 몇 명의 모험가는 그대로 남아 있어도 되기 때문에, 모든 모험가를 특정한 그룹에 넣을 필요 없음."
   ]
  },
  {
   "cell_type": "markdown",
   "id": "cf29a061",
   "metadata": {},
   "source": [
    " - 예를 들어, N = 5 일 때, 각 모험가의 공포도는 2 3 1 2 2 라고 하자 \n",
    " - 그룹 1에 공포도가 1,2,3인 모험가를 한명씩 넣고, 그룹 2에 공포도가 2인 남은 두명을 넣게 되면 총 2개의 그룹을 만들 수 있음\n"
   ]
  },
  {
   "cell_type": "markdown",
   "id": "bc35c2ca",
   "metadata": {},
   "source": [
    "## 입력조건\n",
    " - 첫째 줄에 모험가의 수 N이 주어짐( 1 <= N <= 100,000)\n",
    " - 둘째 줄에 각 모험가의 공포도의 값을 N 이하의 자연수로 주어지며, 각 자연수는 공백으로 구분."
   ]
  },
  {
   "cell_type": "markdown",
   "id": "158a0a3f",
   "metadata": {},
   "source": [
    "## 출력조건\n",
    " - 여행을 떠날 수 있는 그룹 수의 최대값을 출력합니다."
   ]
  },
  {
   "cell_type": "code",
   "execution_count": 4,
   "id": "24072eb7",
   "metadata": {},
   "outputs": [
    {
     "name": "stdout",
     "output_type": "stream",
     "text": [
      "모험가 인원 : 5\n",
      "2 3 1 2 2 \n",
      "2\n"
     ]
    }
   ],
   "source": [
    "n = int(input('모험가 인원 : '))\n",
    "data = list(map(int, input().split()))\n",
    "data.sort()\n",
    "result = 0 # 총 그룹의 수\n",
    "count = 0 # 현재 그룹에 포함된 모험가의 수\n",
    "\n",
    "for i in data: # 공포도를 낮은 것부터 하나씩 확인하며\n",
    "    count += 1 # 현재 그룹에 해당 모험가를 포함시키기\n",
    "    if count >= i: # 현재 그룹에 포함된 모험가의 수가 현재의 공포도 이상이라면, 그룹 결성\n",
    "        result += 1 # 총 그룹의 수 증가시키기\n",
    "        count = 0 # 현재 그룹에 포함된 모험가의 수 초기화\n",
    "\n",
    "print(result) # 총 그룹의 수 출력"
   ]
  },
  {
   "cell_type": "markdown",
   "id": "92cb0b3a",
   "metadata": {},
   "source": [
    "# 2. 곱하기 혹은 더하기\n",
    " - 각 자리가 숫자(0부터 9)로만 이루어진 문자열 S가 주어졌을 때, \n",
    "    왼쪽부터 오른쪽으로 하나씩 모든 숫자를 확인하며 숫자 사이에 X 혹은 + 연산자를 넣어 \n",
    "    결과적으로 만들어질 수 있는 가장 큰 수를 구하는 프로그램을 작성하시오.\n",
    " - 단, 모든 연산은 왼쪽에서부터 순서대로 이루어진다고 가정\n",
    " - 예를 들어, 02984라는 문자열이 주어진다면, \n",
    "    (((0 + 2)* 9)* 8)* 4 = 576\n",
    " - 만들어질 수 있는 가장 큰 수는 항상 20억 이하의 정수가 되도록 입력이 주어집니다."
   ]
  },
  {
   "cell_type": "markdown",
   "id": "cfda547d",
   "metadata": {},
   "source": [
    "## 입력 조건\n",
    " - 첫째 줄에 여러 개의 숫자로 구성된 하나의 문자열 S가 주어짐.(1 <= S의 길이 <= 20)"
   ]
  },
  {
   "cell_type": "markdown",
   "id": "3eac2fd0",
   "metadata": {},
   "source": [
    "## 출력 조건\n",
    " - 첫째 줄에 만들어질 수 있는 가장 큰 수를 출력"
   ]
  },
  {
   "cell_type": "code",
   "execution_count": 7,
   "id": "7591923c",
   "metadata": {},
   "outputs": [
    {
     "name": "stdout",
     "output_type": "stream",
     "text": [
      "02984\n",
      "576\n"
     ]
    }
   ],
   "source": [
    "data = input()\n",
    "\n",
    "result = int(data[0])\n",
    "for i in range(1, len(data)):\n",
    "    # 두 수 중에서 하나라도 '0' 혹은 '1'인 경우, 곱하기보다는 더하기 수행\n",
    "    num = int(data[i])\n",
    "    if num <= 1 or result <= 1:\n",
    "        result += num\n",
    "    else:\n",
    "        result *= num\n",
    "        \n",
    "print(result)"
   ]
  },
  {
   "cell_type": "markdown",
   "id": "28113ca6",
   "metadata": {},
   "source": [
    "# 3. 문자열 뒤집기\n",
    " - 0과 1로만 이루어진 문자열 S가 있음\n",
    " - S에 있는 모든 숫자를 전부 같게 만들려고 함\n",
    " - 할 수 있는 것은 S에서 연속된 하나 이상의 숫자를 잡고 모두 뒤집는 것임.\n",
    "    뒤집는 것은 1을 0으로 0을 1로 바꾸는 것을 의미.\n",
    " - 예를 들어, S = 0001100일 때는 다음과 같음.\n",
    "    1) 전체를 뒤집으면 1110011이 됨.\n",
    "    2) 4번째 문자부터 5번째 문자까지 뒤집으면 1111111이 되어서 두번 만에 모두 같은 숫자로 만들 수 있음\n",
    "    3) 처음부터 4번째 문자부터 5번째 문자를 뒤집으면 한 번에 0000000이 됨\n",
    " - 문자열 S가 주어졌을 때, 다솜이가 해야 하는 행동의 최소 횟수를 출력하세요."
   ]
  },
  {
   "cell_type": "markdown",
   "id": "d22bef68",
   "metadata": {},
   "source": [
    "## 입력 조건\n",
    " - 첫째 줄에 0과 1로만 이루어진 문자열 S가 주어짐. S의 길이는 100만보다 작음."
   ]
  },
  {
   "cell_type": "markdown",
   "id": "b7d46778",
   "metadata": {},
   "source": [
    "## 출력 조건\n",
    " - 첫째 줄에 다솜이가 해야하는 행동의 최소 횟수를 출력"
   ]
  },
  {
   "cell_type": "code",
   "execution_count": 11,
   "id": "bbcae3b0",
   "metadata": {},
   "outputs": [
    {
     "name": "stdout",
     "output_type": "stream",
     "text": [
      "111100000110101\n",
      "4\n"
     ]
    }
   ],
   "source": [
    "data = input()\n",
    "count0 = 0 #전부 0으로 바꾸는 경우\n",
    "count1 = 1 #전부 1로 바꾸는 경우\n",
    "\n",
    "#첫번째 원소에 대해서 처리\n",
    "if data[0] == '1':\n",
    "    count0 += 1\n",
    "else:\n",
    "    count1 += 1\n",
    "    \n",
    "#두 번째 원소부터 모든 원소를 확인하며\n",
    "for i in range(len(data) - 1):\n",
    "    if data[i] != data[i + 1]:\n",
    "        #다음 수에서 1로 바뀌는 경우\n",
    "        if data[i + 1] == '1':\n",
    "            count0 += 1\n",
    "        #다음 수에서 0으로 바뀌는 경우\n",
    "        else:\n",
    "            count1 += 1\n",
    "\n",
    "print(min(count0, count1))\n",
    "           "
   ]
  },
  {
   "cell_type": "markdown",
   "id": "5da1b984",
   "metadata": {},
   "source": [
    "# 4.만들 수 없는 금액\n",
    " - N개의 동전을 갖고 있을 떄, 만들 수 없는 양의 정수 금액 중 최소값을 구하는 프로그램\n",
    " - 예를 들어, N = 5일 때 각각 동전이 3원, 2원, 1원, 1원, 9원짜리(화폐 단위) 동전이라고 가정할 때\n",
    " - 이때 만들 수 없는 양의 정수 금액 중 최소값은 8원입니다.\n",
    " - 또 다른 예시로, N = 3이고, 3원, 5원, 7원짜리(화폐단위) 동전이라고 가정할 때는 최소값은 1원입니다"
   ]
  },
  {
   "cell_type": "markdown",
   "id": "59b2ea01",
   "metadata": {},
   "source": [
    "## 입력 조건\n",
    " - 첫째 줄에는 동전의 개수를 나타내는 양의 정수 N이 주어짐(1 <= N <= 1,000)\n",
    " - 둘째 줄에는 각 동전의 화폐 단위를 나타내는 N개의 자연수가 주어지며, 각 자연수는 공백으로 구분\n",
    " - 각 화폐 단위는 1,000,000 이하의 자연수"
   ]
  },
  {
   "cell_type": "markdown",
   "id": "0571f436",
   "metadata": {},
   "source": [
    "## 출력 조건\n",
    " - 첫째 줄에 주어진 동전들로 만들 수 없는 양의 정수 금액 중 최솟값을 출력"
   ]
  },
  {
   "cell_type": "markdown",
   "id": "5fdcfa64",
   "metadata": {},
   "source": [
    "### 정렬을 이용한 그리디 알고리즘으로 해결 할 수 있는 문제\n",
    " - 동전의 정보가 주어졌을 때, 화폐 단위를 기준으로 오름차순 정렬\n",
    " - 이후에 1부터 차례대로 특정한 금액을 만들 수 있는지 확인\n",
    " - 1부터 target-1까지의 모든 금액을 만들 수 있다고 가정할 떄, 화폐 단위가 작은 순서대로 동전을 확인하며, \n",
    "    현재 확인하는 동전을 이용해 target금액 또한 만들 수 있는지 확인\n",
    " - target 금액이 가능하다면, target값을 업데이트하는(증가시키는) 방식을 이용"
   ]
  },
  {
   "cell_type": "code",
   "execution_count": 12,
   "id": "6bb01519",
   "metadata": {},
   "outputs": [
    {
     "name": "stdout",
     "output_type": "stream",
     "text": [
      "5\n",
      "3 2 1 1 9\n",
      "8\n"
     ]
    }
   ],
   "source": [
    "n = int(input())\n",
    "data = list(map(int, input().split()))\n",
    "data.sort()\n",
    "\n",
    "target = 1\n",
    "for x in data:\n",
    "    #만들 수 없는 금액을 찾았을 때 반복 종료\n",
    "    if target < x:\n",
    "        break\n",
    "    target += x\n",
    "\n",
    "print(target)"
   ]
  },
  {
   "cell_type": "markdown",
   "id": "79b8a0ac",
   "metadata": {},
   "source": [
    "# 5. 볼링공 구하기\n",
    " - A, B 두 사람은 서로 무게가 다른 볼링공을 고르려고 함.\n",
    " - 볼링공은 N개가 있고, 각 볼링공마다 무게가 적혀있음.\n",
    " - 공의 번호는 1번부터 순서대로 부여함.\n",
    " - 같은 무게의 공도 다른 공으로 간주함.\n",
    " - 볼링공의 무게는 1부터 M까지의 자연수 형태로 존재\n",
    " - 예를 들어, N이 5이고, M이 3이며 각각의 무게가 차례대로 1, 3, 2, 3, 2일 때 각 공의 번호가 차례대로 1번부터 5번까지 부여됨.\n",
    " - N개의 공의 무게가 각각 주어질 때, 두 사람이 볼링공을 고르는 경우의 수를 구하는 프로그램을 작성"
   ]
  },
  {
   "cell_type": "markdown",
   "id": "84d986db",
   "metadata": {},
   "source": [
    "# 입력 조건\n",
    " - 첫째 줄에 볼링공의 개수 N, 공의 최대 무대 M이 공백으로 구분되어 각각 자연수 형태로 주어짐\n",
    "    (1 <= N <= 1,000 1 <= M <= 10)\n",
    " - 둘째 줄에 각 볼링공의 무게 K가 공백으로 구분되어 순서대로 자연수 형태로 주어짐."
   ]
  },
  {
   "cell_type": "markdown",
   "id": "13b1e540",
   "metadata": {},
   "source": [
    "# 출력 조건\n",
    " - 첫째 줄에 두 사람이 볼링공을 고르는 경우의 수를 출력"
   ]
  },
  {
   "cell_type": "code",
   "execution_count": 13,
   "id": "20a6e99e",
   "metadata": {},
   "outputs": [
    {
     "name": "stdout",
     "output_type": "stream",
     "text": [
      "5 3\n",
      "1 3 2 3 2\n",
      "8\n"
     ]
    }
   ],
   "source": [
    "n, m = map(int, input().split())\n",
    "data = list(map(int, input().split()))\n",
    "\n",
    "#1부터 10까지의 무게를 담을 수 있는 리스트\n",
    "array = [0] * 11\n",
    "for x in data:\n",
    "    #각 무게에 해당하는 볼링공의 개수 카운트\n",
    "    array[x] += 1\n",
    "    \n",
    "result = 0\n",
    "#1부터 m까지의 각 무게에 대하여 처리\n",
    "for i in range(1, m + 1):\n",
    "    n -= array[i] #무게가 i인 볼링공의 개수(A가 선택할 수 있는 개수) 제외\n",
    "    result += array[i] * n #B가 선택하는 경우의 수와 곱하기\n",
    "    \n",
    "print(result)"
   ]
  },
  {
   "cell_type": "markdown",
   "id": "87a2a61e",
   "metadata": {},
   "source": [
    "# 6. 무지의 먹방 라이브\n",
    " - 회전판에 먹어야 할 N개의 음식이 있음\n",
    " - 각 음식에는 1부터 N까지 번호가 붙어있음\n",
    " - 각 음식을 섭취하는데 일정 시간이 소요됨\n",
    "  1) 1번 음식 부터 먹으며, 회전판은 번호가 증가하는 순서대로 음식을 무지 앞에 나둠\n",
    "  2) 마지막 번호의 음식을 섭취한 후에는 회전판에 의해 다시 1번 음식이 무지 앞으로 옴\n",
    "  3) 무지는 음식 하나를 1초 동안 섭취한 후 남은 음식은 그대로 두고, 다음 음식을 섭취\n",
    "  4) 회전판이 다음 음식을 무지 앞으로 가져오는데 걸리는 시간은 없다고 가정\n",
    " - 무지가 먹방을 시작한 지 K초 후에 네트워크 장애로 인해 방송이 잠시 중단\n",
    " - 네트워크 정상화 후 다시 방송을 이어갈 때, 몇 번 음식부터 섭취해야 하는지를 알고자함.\n",
    " - 각 음식을 모두 먹는데 필요한 시간이 담겨 있는 배열 food_times\n",
    " - 네트워크 장애가 발생한 시간 K초가 매개변수로 주어질 때, 몇번 음식부터 다시 섭취하면 되는지 return하는 solution 함수를 완성"
   ]
  },
  {
   "cell_type": "markdown",
   "id": "3b01b547",
   "metadata": {},
   "source": [
    "## 제한 사항\n",
    " - food_times는 각 음식을 모두 먹는데 필요한 시간이 음식의 번호 순서대로 들어있는 배열\n",
    " - K는 방송이 중단된 시간을 나타냄.\n",
    " - 만약 더 섭취해야할 음식이 없다면 -1 반환"
   ]
  },
  {
   "cell_type": "code",
   "execution_count": null,
   "id": "f6147178",
   "metadata": {},
   "outputs": [],
   "source": [
    "### 시간이 적게 걸리는 음식부터 확인하는 그리디 접근 방식으로 해결\n",
    " - 모든 음식을 시간을 기준으로 정렬한 뒤에, 시간이 적게 걸리는 음식부터 제거해 나가는 방식을 이용함\n",
    " - 이를 위해 우선순위 큐를 이용하여 구현할 수 있음\n",
    "\n",
    "import heapq\n",
    "\n",
    "def solution(food_times, k):\n",
    "    #전체 음식을 먹는 시간보다 k가 크거나 같다면 -1\n",
    "    if sum(food_times) <= k:\n",
    "        return -1\n",
    "    \n",
    "    #시간이 작은 음식부터 빼야 하므로 우선순위 큐를 이용\n",
    "    q = []\n",
    "    for i in ragne(len(food_times)):\n",
    "        heapq.heappush(q, (food_times[i], i + 1))\n",
    "    \n",
    "    sum_value = 0 #먹기 위해 사용한 시간\n",
    "    previous = 0 #직전에 다 먹은 음식 시간\n",
    "    length = len(food_times) #남은 음식의 개수\n",
    "    \n",
    "    # sum_value + (현재의 음식 시간 - 이전 음식 시간) * 현재 음식 개수와 k 비교\n",
    "    while sum_value + ((q[0][0] - previous) * length) <= k:\n",
    "        now = heapq.heappop(q)[0]\n",
    "        sum_value += (now - previous) * length\n",
    "        length -= 1 #다 먹은 음식 제외\n",
    "        previous = now #이전 음식 시간 재설정\n",
    "        \n",
    "    #남은 음식 중에서 몇 번째 음식인지 확인하여 출력\n",
    "    result = sorted(q, key = lambda x: x[1]) #음식의 번호 기준으로 정렬\n",
    "    return result[(k - sum_value) % length][1]"
   ]
  }
 ],
 "metadata": {
  "kernelspec": {
   "display_name": "Python 3 (ipykernel)",
   "language": "python",
   "name": "python3"
  },
  "language_info": {
   "codemirror_mode": {
    "name": "ipython",
    "version": 3
   },
   "file_extension": ".py",
   "mimetype": "text/x-python",
   "name": "python",
   "nbconvert_exporter": "python",
   "pygments_lexer": "ipython3",
   "version": "3.8.11"
  }
 },
 "nbformat": 4,
 "nbformat_minor": 5
}
