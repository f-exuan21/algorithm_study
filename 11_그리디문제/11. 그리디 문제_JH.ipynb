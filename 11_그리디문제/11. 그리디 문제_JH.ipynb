{
 "cells": [
  {
   "cell_type": "markdown",
   "id": "766e8cb3",
   "metadata": {},
   "source": [
    "# CHAPTER 11. 그리디 문제\n",
    "- 현재 상황에서 가장 좋아 보이는 것만을 선택하는 알고리즘. 현재 상황에서 가장 좋아 보이는 것만을 선택하기 때문에, 정확한 담을 도출하지 못하더라도 그럴싸한 답을 도출하는 데에 도움이 된다.\n",
    "- 하지만 코딩 테스트에서는 대부분의 최적의 해를 찾는 문제가 출제되기 떄문에 그리디 알고리즘의 정당성을 고민해야 한다."
   ]
  },
  {
   "cell_type": "markdown",
   "id": "180c8dc3",
   "metadata": {},
   "source": [
    "### 01. 모험가 길드\n",
    "- 모험가가 N명을 대상으로 공포도를 측정했는데, 공포도가 높은 모험가는 쉽게 공포를 느끼게 된다.\n",
    "- 공포도가 X인 모험가는 반드시 X명 이상으로 구성한 모험가 그룹에 참여하도록 할때 몇개의 그룹을 만들수 있을까\n",
    "- 첫 째줄에 모험가의 수 N 이 주어진다.\n",
    "- 둘째 줄에 각 모험가의 공포도의 값을 N 이하의 자연수로 주어준다.\n",
    "- 그룹 수의 최댓 값을 출력"
   ]
  },
  {
   "cell_type": "code",
   "execution_count": 2,
   "id": "33698969",
   "metadata": {},
   "outputs": [
    {
     "name": "stdout",
     "output_type": "stream",
     "text": [
      "5\n",
      "2 3 1 2 2\n",
      "2\n"
     ]
    }
   ],
   "source": [
    "n = int(input())\n",
    "data = list(map(int, input().split()))\n",
    "data.sort()\n",
    "\n",
    "result = 0 # 총 그룹의 수\n",
    "count = 0 # 현재 그룹에 포함된 모험가의 수\n",
    "\n",
    "for i in data: # 공포도를 낮은 것부터 하나씩 확인하며\n",
    "    count += 1 # 현재 그룹에 해당 모험가를 포함시키기\n",
    "    if count >= i: # 현재 그룹에 포함된 모험가의 수가 현재의 공포도 이상이라면, 그룹 결성\n",
    "        result += 1 # 총 그룹의 수 증가시키기\n",
    "        count = 0 # 현재 그룹에 포함된 모험가의 수 초기화\n",
    "\n",
    "print(result) # 총 그룹의 수 출력"
   ]
  },
  {
   "cell_type": "markdown",
   "id": "294c4359",
   "metadata": {},
   "source": [
    "### 02. 곱하기 혹은 더하기\n",
    "- 각 자리가 숫자로만 이루어진 물자열 S가 주어졌을 때, 왼쪽부터 오른쪽으로 하나씩 모든 숫자를 확인하며\n",
    "- 숫자 사이에 x 또는 + 연산자를 넣어 결과적으로 만들어지는 가장 큰 수를 구해라"
   ]
  },
  {
   "cell_type": "code",
   "execution_count": 3,
   "id": "4a52ae45",
   "metadata": {},
   "outputs": [
    {
     "name": "stdout",
     "output_type": "stream",
     "text": [
      "02984\n",
      "576\n"
     ]
    }
   ],
   "source": [
    "data = input()\n",
    "\n",
    "# 첫 번째 문자를 숫자로 변경하여 대입\n",
    "result = int(data[0])\n",
    "\n",
    "for i in range(1, len(data)):\n",
    "    # 두 수 중에서 하나라도 '0' 혹은 '1'인 경우, 곱하기보다는 더하기 수행\n",
    "    num = int(data[i])\n",
    "    if num <= 1 or result <= 1:\n",
    "        result += num\n",
    "    else:\n",
    "        \n",
    "        result *= num\n",
    "\n",
    "print(result)"
   ]
  },
  {
   "cell_type": "markdown",
   "id": "bc5f1e07",
   "metadata": {},
   "source": [
    "### 03. 문자열 뒤집기\n",
    "- https://www.acmicpc.net/problem/1439\n",
    "- 0,1로만 이루어진 문자열 S가 있을때, 이 문자열에 있는 모든 숫자를 전부 같게 만들고자 한다.\n",
    "- 0 -> 1, 1-> 0 로 뒤집는 행위를 최소로 할떄는 횟수는?"
   ]
  },
  {
   "cell_type": "code",
   "execution_count": 6,
   "id": "39a10717",
   "metadata": {},
   "outputs": [
    {
     "name": "stdout",
     "output_type": "stream",
     "text": [
      "0001100\n",
      "1\n"
     ]
    }
   ],
   "source": [
    "data = input()\n",
    "count0 = 0 # 전부 0으로 바꾸는 경우\n",
    "count1 = 0 # 전부 1로 바꾸는 경우\n",
    "\n",
    "# 첫 번째 원소에 대해서 처리\n",
    "if data[0] == '1':\n",
    "    count0 += 1\n",
    "else:\n",
    "    count1 += 1\n",
    "\n",
    "# 두 번째 원소부터 모든 원소를 확인하며\n",
    "for i in range(len(data) - 1):\n",
    "    if data[i] != data[i + 1]:\n",
    "        # 다음 수에서 1로 바뀌는 경우\n",
    "        if data[i + 1] == '1':\n",
    "            count0 += 1\n",
    "        # 다음 수에서 0으로 바뀌는 경우\n",
    "        else:\n",
    "            count1 += 1\n",
    "\n",
    "print(min(count0, count1))"
   ]
  },
  {
   "cell_type": "markdown",
   "id": "9c73edfa",
   "metadata": {},
   "source": [
    "### 04. 만들 수 없는 금액\n",
    "- N 개의 동전을 가지고 있을 때 만들 수 없는 양의 정수 금액 중 최솟값을 구하라\n",
    "- 첫째 줄에는 동전의 개수 N\n",
    "- 둘째 줄에는 각 동전의 화폐 단위를 나타내는 N개의 자연수가 주어진다."
   ]
  },
  {
   "cell_type": "code",
   "execution_count": 7,
   "id": "9cfc384f",
   "metadata": {},
   "outputs": [
    {
     "name": "stdout",
     "output_type": "stream",
     "text": [
      "5\n",
      "3 2 1 1 9\n",
      "8\n"
     ]
    }
   ],
   "source": [
    "n = int(input())\n",
    "data = list(map(int, input().split()))\n",
    "data.sort()\n",
    "\n",
    "target = 1\n",
    "for x in data:\n",
    "    # 만들 수 없는 금액을 찾았을 때 반복 종료\n",
    "    if target < x:\n",
    "        break\n",
    "    target += x\n",
    "\n",
    "# 만들 수 없는 금액 출력\n",
    "print(target)"
   ]
  },
  {
   "cell_type": "markdown",
   "id": "056a1c53",
   "metadata": {},
   "source": [
    "### 05. 볼링공 고르기\n",
    "- A,B가 서로 무게가 다른 볼링공을 고르려고 한다. 총 N개의 볼링공에 번호는 1부터 부여 되어 있다.\n",
    "- 무게는 1 ~ MRkwl whswo\n",
    "- 두 사람이 볼링공을 고르는 경우의 수를 구하라\n",
    "- 첫째 줄에 볼링공의 개수 N, 공의 최대 무게 M\n",
    "- 둘째 줄에 각 볼링공의 무게 K 가 공백으로 주어진다."
   ]
  },
  {
   "cell_type": "code",
   "execution_count": 8,
   "id": "4273eee7",
   "metadata": {},
   "outputs": [
    {
     "name": "stdout",
     "output_type": "stream",
     "text": [
      "5 3\n",
      "1 3 2 3 2\n",
      "8\n"
     ]
    }
   ],
   "source": [
    "n, m = map(int, input().split())\n",
    "data = list(map(int, input().split()))\n",
    "\n",
    "# 1부터 10까지의 무게를 담을 수 있는 리스트\n",
    "array = [0] * 11\n",
    "\n",
    "for x in data:\n",
    "    # 각 무게에 해당하는 볼링공의 개수 카운트\n",
    "    array[x] += 1\n",
    "\n",
    "result = 0\n",
    "# 1부터 m까지의 각 무게에 대하여 처리\n",
    "for i in range(1, m + 1):\n",
    "    n -= array[i] # 무게가 i인 볼링공의 개수(A가 선택할 수 있는 개수) 제외\n",
    "    result += array[i] * n # B가 선택하는 경우의 수와 곱해주기\n",
    "\n",
    "print(result)"
   ]
  },
  {
   "cell_type": "markdown",
   "id": "8d2a4626",
   "metadata": {},
   "source": [
    "### 06. 무지의 먹방 라이브\n",
    "- https://programmers.co.kr/learn/courses/30/lessons/42891\n",
    "- 회전판에 먹어야할 N개의 음식이 있고 ,1~N까지 번호가 붙어있다. 각 음식을 섭취하는데 일정 시간이 소요된다.\n",
    "1. 무지는 1번 음식부터 먹기 시작하며, 회전판은 번호가 증가하는 순서대로 음식을 무지 앞으로 가져다 놓는다.\n",
    "2. 마지막 번호의 음식을 섭취한 후에는 회전판에 의해 다시 1번 음식이 무지 앞으로 온다.\n",
    "3. 무지는 음식 하나를 1초 동한 섭취한 후 남은 음식은 그대로 두고, 다음 음식을 섭취한다. 다음 음식이란, 아직 남은 은식 중 다음으로 섭취해야 할 가장 가까운 번호릐 음식을 말한다.\n",
    "4. 회전판이 다음 음식을 무지 앞으로 가져오는 데 걸리는 시간은 없다고 가정\n",
    "\n",
    "- 무자가 먹방을 시작한 지 K초 후에 네트워크 장애로 인해 방속이 잠시 중단되었다.\n",
    "- 네트워크 정상화 후 다시 방송을 이어갈 떄 몇 번 음식부터 섭취해야 하는지를 알고자 한다.\n",
    "- 각 음식을 모두 먹는데 필요한 시간이 담겨있는 배열 food_times\n",
    "- 네트워크 장애가 발생한 시간 K로 가 주어질 때 몇번 음식 부터 다시 섭취하면 되는지?"
   ]
  },
  {
   "cell_type": "code",
   "execution_count": 1,
   "id": "509166cd",
   "metadata": {},
   "outputs": [],
   "source": [
    "import heapq\n",
    "\n",
    "def solution(food_times, k):\n",
    "    # 전체 음식을 먹는 시간보다 k가 크거나 같다면 -1\n",
    "    if sum(food_times) <= k:\n",
    "        return -1\n",
    "\n",
    "    # 시간이 작은 음식부터 빼야 하므로 우선순위 큐를 이용\n",
    "    q = []\n",
    "    for i in range(len(food_times)):\n",
    "        # (음식 시간, 음식 번호) 형태로 우선순위 큐에 삽입\n",
    "        heapq.heappush(q, (food_times[i], i + 1))  \n",
    "\n",
    "    sum_value = 0 # 먹기 위해 사용한 시간\n",
    "    previous = 0 # 직전에 다 먹은 음식 시간\n",
    "    length = len(food_times) # 남은 음식의 개수\n",
    "\n",
    "    # sum_value + (현재의 음식 시간 - 이전 음식 시간) * 현재 음식 개수와 k 비교\n",
    "    while sum_value + ((q[0][0] - previous) * length) <= k:\n",
    "        now = heapq.heappop(q)[0]\n",
    "        sum_value += (now - previous) * length\n",
    "        length -= 1 # 다 먹은 음식 제외\n",
    "        previous = now # 이전 음식 시간 재설정\n",
    "\n",
    "    # 남은 음식 중에서 몇 번째 음식인지 확인하여 출력\n",
    "    result = sorted(q, key=lambda x: x[1]) # 음식의 번호 기준으로 정렬\n",
    "    return result[(k - sum_value) % length][1]"
   ]
  },
  {
   "cell_type": "code",
   "execution_count": 2,
   "id": "216e463e",
   "metadata": {},
   "outputs": [
    {
     "data": {
      "text/plain": [
       "1"
      ]
     },
     "execution_count": 2,
     "metadata": {},
     "output_type": "execute_result"
    }
   ],
   "source": [
    "solution([3,1,2], 5)"
   ]
  },
  {
   "cell_type": "code",
   "execution_count": null,
   "id": "be462c47",
   "metadata": {},
   "outputs": [],
   "source": []
  },
  {
   "cell_type": "code",
   "execution_count": null,
   "id": "e289e1c9",
   "metadata": {},
   "outputs": [],
   "source": []
  }
 ],
 "metadata": {
  "kernelspec": {
   "display_name": "Python 3 (ipykernel)",
   "language": "python",
   "name": "python3"
  },
  "language_info": {
   "codemirror_mode": {
    "name": "ipython",
    "version": 3
   },
   "file_extension": ".py",
   "mimetype": "text/x-python",
   "name": "python",
   "nbconvert_exporter": "python",
   "pygments_lexer": "ipython3",
   "version": "3.8.11"
  }
 },
 "nbformat": 4,
 "nbformat_minor": 5
}
