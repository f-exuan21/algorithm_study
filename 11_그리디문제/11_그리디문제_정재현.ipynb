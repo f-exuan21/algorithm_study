{
 "cells": [
  {
   "cell_type": "markdown",
   "id": "46826c8a",
   "metadata": {},
   "source": [
    "# Q1. 모험가 길드\n",
    "- 한 마을에 모험가 N명이 있다\n",
    "- 공포도가 높은 모험가는 위기 상황에서 제대로 대처할 능력이 떨어진다\n",
    "- 공포도 X인 모험가는 반드시 X명 이상으로 구성한 모험가 그룹에 참여해야한다\n",
    "- N명의 모험가에 대한 정보가 주어졌을 때 만들 수 있는 그룹 수의 최댓값을 구하는 프로그램"
   ]
  },
  {
   "cell_type": "code",
   "execution_count": 1,
   "id": "0c9a07d4",
   "metadata": {},
   "outputs": [
    {
     "name": "stdout",
     "output_type": "stream",
     "text": [
      "5\n",
      "2 3 1 2 2\n",
      "2\n"
     ]
    }
   ],
   "source": [
    "n = int(input())\n",
    "data = list(map(int, input().split()))\n",
    "data.sort()\n",
    "\n",
    "result = 0 # 총 그룹의 수\n",
    "count = 0 # 현재 그룹에 포함된 모험가의 수\n",
    "\n",
    "for i in data: # 공포도를 낮은 것부터 하나씩 확인하며\n",
    "    count += 1 # 현재 그룹에 해당 모험가를 포함시키기\n",
    "    if count >= i: # 현재 그룹에 포함된 모험가의 수가 현재의 공포도 이상이라면, 그룹 결성\n",
    "        result += 1 # 총 그룹의 수 증가시키기\n",
    "        count = 0 # 현재 그룹에 포함된 모험가의 수 초기화\n",
    "\n",
    "print(result) # 총 그룹의 수 출력"
   ]
  },
  {
   "cell_type": "markdown",
   "id": "17793123",
   "metadata": {},
   "source": [
    "# Q2. 곱하기 혹은 더하기\n",
    "- 각자리가 0~9로만 이루어진 문자열 S가 주어졌을 때 왼쪽부터 오른쪽으로 하나씩 모든 숫자를 확인하며 숫자 사이에 '$\\times$' ghrdms '+'연산자를 넣어 결과적으로 만들어질 수 있는 가장 큰 수를 만드는 프로그램"
   ]
  },
  {
   "cell_type": "code",
   "execution_count": 2,
   "id": "021a004f",
   "metadata": {},
   "outputs": [
    {
     "name": "stdout",
     "output_type": "stream",
     "text": [
      "02984\n",
      "576\n"
     ]
    }
   ],
   "source": [
    "data = input()\n",
    "\n",
    "# 첫 번째 문자를 숫자로 변경하여 대입\n",
    "result = int(data[0])\n",
    "\n",
    "for i in range(1, len(data)):\n",
    "    # 두 수 중에서 하나라도 '0' 혹은 '1'인 경우, 곱하기보다는 더하기 수행\n",
    "    num = int(data[i])\n",
    "    if num <= 1 or result <= 1:\n",
    "        result += num\n",
    "    else:\n",
    "        result *= num\n",
    "\n",
    "print(result)"
   ]
  },
  {
   "cell_type": "markdown",
   "id": "d52ee417",
   "metadata": {},
   "source": [
    "# Q3. 문자열 뒤집기\n",
    "- 0과 1로만 이루어진 문자열 S존재\n",
    "- 다솜이는 이 문자열 S에 있는 모든 숫자를 같게 만들려고 한다\n",
    "- 뒤집기는 연속된 하나 이상의 숫자를 잡고 1을 0으로 0을 1로 바꾸는 것을 의미\n",
    "- 문자열 S가 주어졌을 때 뒤집기의 최소값을 출력"
   ]
  },
  {
   "cell_type": "code",
   "execution_count": null,
   "id": "70fc7c3d",
   "metadata": {},
   "outputs": [],
   "source": [
    "data = input()\n",
    "count0 = 0 # 전부 0으로 바꾸는 경우\n",
    "count1 = 0 # 전부 1로 바꾸는 경우\n",
    "\n",
    "# 첫 번째 원소에 대해서 처리\n",
    "if data[0] == '1':\n",
    "    count0 += 1\n",
    "else:\n",
    "    count1 += 1\n",
    "\n",
    "# 두 번째 원소부터 모든 원소를 확인하며\n",
    "for i in range(len(data) - 1):\n",
    "    if data[i] != data[i + 1]:\n",
    "        # 다음 수에서 1로 바뀌는 경우\n",
    "        if data[i + 1] == '1':\n",
    "            count0 += 1\n",
    "        # 다음 수에서 0으로 바뀌는 경우\n",
    "        else:\n",
    "            count1 += 1\n",
    "\n",
    "print(min(count0, count1))"
   ]
  },
  {
   "cell_type": "markdown",
   "id": "2883d4b6",
   "metadata": {},
   "source": [
    "# Q4. 만들 수 없는 금액\n",
    "- 동빈이은 N개의 동전을 가지고 있다\n",
    "- N개의 동전을 이용하여 만들 수 없는 양의 정수 금액 중 최솟값을 구하는 프로그램 작성"
   ]
  },
  {
   "cell_type": "code",
   "execution_count": 3,
   "id": "aac5cafe",
   "metadata": {},
   "outputs": [
    {
     "name": "stdout",
     "output_type": "stream",
     "text": [
      "5\n",
      "3 2 1 1 9\n",
      "8\n"
     ]
    }
   ],
   "source": [
    "n = int(input())\n",
    "data = list(map(int, input().split()))\n",
    "data.sort()\n",
    "\n",
    "target = 1\n",
    "for x in data:\n",
    "    # 만들 수 없는 금액을 찾았을 때 반복 종료\n",
    "    if target < x:\n",
    "        break\n",
    "    target += x\n",
    "\n",
    "# 만들 수 없는 금액 출력\n",
    "print(target)"
   ]
  },
  {
   "cell_type": "markdown",
   "id": "8182e70d",
   "metadata": {},
   "source": [
    "# Q5. 볼링공 고르기\n",
    "- A, B두 사람이 볼링을 친다\n",
    "- 볼링공은 총 N개가 있고 무게가 적혀있으며 공의 번호는 1번부터 순서대로 부여\n",
    "- 같은 무게의 공이 존재하지만 다른 공으로 간주\n",
    "- 볼링공의 무게는 1부터 M까지 자연수 형태로 존재\n",
    "- N개의 공의 무게가 각각 주어질 때 두 사람이 볼링공을 고르는 경우의 수를 구하는 프로그램 작성"
   ]
  },
  {
   "cell_type": "code",
   "execution_count": 4,
   "id": "8070c971",
   "metadata": {},
   "outputs": [
    {
     "name": "stdout",
     "output_type": "stream",
     "text": [
      "5 3\n",
      "1 3 2 3 2\n",
      "8\n"
     ]
    }
   ],
   "source": [
    "n, m = map(int, input().split())\n",
    "data = list(map(int, input().split()))\n",
    "\n",
    "# 1부터 10까지의 무게를 담을 수 있는 리스트\n",
    "array = [0] * 11\n",
    "\n",
    "for x in data:\n",
    "    # 각 무게에 해당하는 볼링공의 개수 카운트\n",
    "    array[x] += 1\n",
    "\n",
    "result = 0\n",
    "# 1부터 m까지의 각 무게에 대하여 처리\n",
    "for i in range(1, m + 1):\n",
    "    n -= array[i] # 무게가 i인 볼링공의 개수(A가 선택할 수 있는 개수) 제외\n",
    "    result += array[i] * n # B가 선택하는 경우의 수와 곱해주기\n",
    "\n",
    "print(result)"
   ]
  },
  {
   "cell_type": "markdown",
   "id": "f9aed65d",
   "metadata": {},
   "source": [
    "# Q6. 무지의 먹방 라이브\n",
    "- 회전판에 먹어야 할 N개의 음식이 있다\n",
    "- 각 음식에는 1부터 N까지의 번호가 붙어있고 각 음식을 섭취하는데 일정 시간이 소요\n",
    "- 음식 섭취방법은 다음과 같다\n",
    "        1. 1번 음식부터 먹기 시작하며 회전판은 번호가 증가하는 순서대로 음식을 무지 앞으로 가져다 놓는다\n",
    "        2. 마지막 번호의 음식을 섭취한 후에는 회전판에 의해 다시 1번 음식이 무지 앞으로 온다\n",
    "        3. 무지는 음식 하나를 1초 동안 섭취한 후 남은 음식은 그대로 두고 다음 음식(가장 가까운 음식)을 섭취\n",
    "        4. 회전파이 다음 음식을 무지 앞으로 가져오는데 걸리는 시간은 없다고 가정\n",
    "- 무지가 먹방을 시작한 지 K초 후에 네트워크 장애로 방송이 잠시 중단되었다\n",
    "- 각 음식을 모두 먹는데 필요한 시간이 담겨있는 배열 food_times, 네트워크 장애가 발생한 시간 K초가 매개변수로 주어질 때 몇번 음식부터 다시 섭취하면 되는지 return하는 solution 함수 작성"
   ]
  },
  {
   "cell_type": "code",
   "execution_count": 6,
   "id": "4cbbd11b",
   "metadata": {},
   "outputs": [],
   "source": [
    "import heapq\n",
    "\n",
    "def solution(food_times, k):\n",
    "    # 전체 음식을 먹는 시간보다 k가 크거나 같다면 -1\n",
    "    if sum(food_times) <= k:\n",
    "        return -1\n",
    "\n",
    "    # 시간이 작은 음식부터 빼야 하므로 우선순위 큐를 이용\n",
    "    q = []\n",
    "    for i in range(len(food_times)):\n",
    "        # (음식 시간, 음식 번호) 형태로 우선순위 큐에 삽입\n",
    "        heapq.heappush(q, (food_times[i], i + 1))  \n",
    "\n",
    "    sum_value = 0 # 먹기 위해 사용한 시간\n",
    "    previous = 0 # 직전에 다 먹은 음식 시간\n",
    "    length = len(food_times) # 남은 음식의 개수\n",
    "\n",
    "    # sum_value + (현재의 음식 시간 - 이전 음식 시간) * 현재 음식 개수와 k 비교\n",
    "    while sum_value + ((q[0][0] - previous) * length) <= k:\n",
    "        now = heapq.heappop(q)[0]\n",
    "        sum_value += (now - previous) * length\n",
    "        length -= 1 # 다 먹은 음식 제외\n",
    "        previous = now # 이전 음식 시간 재설정\n",
    "\n",
    "    # 남은 음식 중에서 몇 번째 음식인지 확인하여 출력\n",
    "    result = sorted(q, key=lambda x: x[1]) # 음식의 번호 기준으로 정렬\n",
    "    return result[(k - sum_value) % length][1]"
   ]
  },
  {
   "cell_type": "code",
   "execution_count": 8,
   "id": "d48c8730",
   "metadata": {},
   "outputs": [
    {
     "data": {
      "text/plain": [
       "1"
      ]
     },
     "execution_count": 8,
     "metadata": {},
     "output_type": "execute_result"
    }
   ],
   "source": [
    "food_times = [3,1,2]\n",
    "k = 5\n",
    "solution(food_times, k)"
   ]
  }
 ],
 "metadata": {
  "kernelspec": {
   "display_name": "Python 3 (ipykernel)",
   "language": "python",
   "name": "python3"
  },
  "language_info": {
   "codemirror_mode": {
    "name": "ipython",
    "version": 3
   },
   "file_extension": ".py",
   "mimetype": "text/x-python",
   "name": "python",
   "nbconvert_exporter": "python",
   "pygments_lexer": "ipython3",
   "version": "3.8.5"
  }
 },
 "nbformat": 4,
 "nbformat_minor": 5
}
