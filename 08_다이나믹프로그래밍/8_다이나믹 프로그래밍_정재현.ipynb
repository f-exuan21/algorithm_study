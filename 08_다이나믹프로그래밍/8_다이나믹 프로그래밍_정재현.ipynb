{
 "cells": [
  {
   "cell_type": "markdown",
   "id": "f85ba427",
   "metadata": {},
   "source": [
    "# Chapter08. 다이나믹 프로그래밍"
   ]
  },
  {
   "cell_type": "markdown",
   "id": "27df96ae",
   "metadata": {},
   "source": [
    "## 1. 다이나믹 프로그래밍"
   ]
  },
  {
   "cell_type": "markdown",
   "id": "a11f6deb",
   "metadata": {},
   "source": [
    "### 중복되는 연산을 줄이자\n",
    "- 연산 속도와 메모리 공간을 초대한으로 활용할 수 있는 효율적인 알고리즘을 작성할 필요가 있다.\n",
    "- 어떤 문제는 메모리 공간을 약간 더 사용하면 연산 속도를 비약적으로 증가시킬 수 있다\n",
    "- 이를 위한 대표적이 방법이 다이나믹 프로그래밍 기법(동적 계획법)이다.\n",
    "- 대표적인 예시로 피보나치 수열이 있다."
   ]
  },
  {
   "cell_type": "code",
   "execution_count": 1,
   "id": "9c919fa0",
   "metadata": {},
   "outputs": [
    {
     "name": "stdout",
     "output_type": "stream",
     "text": [
      "3\n"
     ]
    }
   ],
   "source": [
    "# 피보나치 함수(Fibonacci Function)을 재귀함수로 구현\n",
    "def fibo(x):\n",
    "    if x == 1 or x == 2:\n",
    "        return 1\n",
    "    return fibo(x - 1) + fibo(x - 2)\n",
    "\n",
    "print(fibo(4))"
   ]
  },
  {
   "cell_type": "markdown",
   "id": "89b6a993",
   "metadata": {},
   "source": [
    "- 재귀함수를 사용하면 n이 커짐에 따라 수행 시간이 기하급수적으로 늘어남\n",
    "- $O(2^N)$의 지수 시간이 소요된다고 표현할 수 있다"
   ]
  },
  {
   "cell_type": "code",
   "execution_count": 2,
   "id": "b99cc56c",
   "metadata": {},
   "outputs": [
    {
     "name": "stdout",
     "output_type": "stream",
     "text": [
      "218922995834555169026\n"
     ]
    }
   ],
   "source": [
    "# 한 번 계산된 결과를 메모이제이션(Memoization)하기 위한 리스트 초기화\n",
    "\n",
    "d = [0] * 100\n",
    "\n",
    "# 피보나치 함수(Fibonacci Function)를 재귀함수로 구현 (탑다운 다이나믹 프로그래밍)\n",
    "def fibo(x):\n",
    "    # 종료 조건(1 혹은 2일 때 1을 반환)\n",
    "    if x == 1 or x == 2:\n",
    "        return 1\n",
    "    # 이미 계산한 적 있는 문제라면 그대로 반환\n",
    "    if d[x] != 0:\n",
    "        return d[x]\n",
    "    # 아직 계산하지 않은 문제라면 점화식에 따라서 피보나치 결과 반환\n",
    "    d[x] = fibo(x - 1) + fibo(x - 2)\n",
    "    return d[x]\n",
    "\n",
    "print(fibo(99))"
   ]
  },
  {
   "cell_type": "markdown",
   "id": "30aba6fc",
   "metadata": {},
   "source": [
    "1. 큰 문제를 작은 문제로 나눌 수 있다.\n",
    "2. 작은 문제에서 구한 정답은 그것을 포함하는 큰 문제에서도 동일하다.\n",
    "- 위의 두 조건을 만족할 때 다이나믹 프로그래밍 사용 가능\n",
    "- 메모이제이션 기법: 한 번 구한 결과를 메모리 공간에 메모해두고 같은 식을 다시 호출하면 메모한 결과를 그대로 가져오는 기법(캐싱이라고도 함)"
   ]
  },
  {
   "cell_type": "code",
   "execution_count": null,
   "id": "aa9d1d72",
   "metadata": {},
   "outputs": [],
   "source": [
    "d = [0] * 100\n",
    "\n",
    "def fibo(x):\n",
    "    print('f(' + str(x) + ')', end=' ')\n",
    "    if x == 1 or x == 2:\n",
    "        return 1\n",
    "    if d[x] != 0:\n",
    "        return d[x]\n",
    "    d[x] = fibo(x - 1) + fibo(x - 2)\n",
    "    return d[x]\n",
    "\n",
    "fibo(6)"
   ]
  },
  {
   "cell_type": "markdown",
   "id": "8424aa2d",
   "metadata": {},
   "source": [
    "- 다이나믹 프로그래밍을 활용하여 피보나치 수열 알고리즘을 구현할 때 시간복잡도는 $O(N)$이다.\n",
    "- 재귀 함수를 이용하여 다이나믹 프로그래밍 소스코드를 작성하는 방법을  큰 문제를 해결하기 위해 작은 문제를 호출한다고 하여 탑다운(하향식) 방식이라고 한다.\n",
    "- 단순히 반복문을 이용하여 소스코드를 작성하는 경우 작은 문제부터 차근차근 답을 도출한다고 하여 보텀업(상향식) 방식이라고 한다."
   ]
  },
  {
   "cell_type": "code",
   "execution_count": null,
   "id": "8273f96b",
   "metadata": {},
   "outputs": [],
   "source": [
    "# 앞서 계산된 결과를 저장하기 위한 DP 테이블 초기화\n",
    "d = [0] * 100\n",
    "\n",
    "# 첫 번째 피보나치 수와 두 번째 피보나치 수는 1\n",
    "d[1] = 1\n",
    "d[2] = 1\n",
    "n = 99\n",
    "\n",
    "# 피보나치 함수(Fibonacci Function) 반복문으로 구현(보텀업 다이나믹 프로그래밍)\n",
    "for i in range(3, n + 1):\n",
    "    d[i] = d[i - 1] + d[i - 2]\n",
    "\n",
    "print(d[n])"
   ]
  },
  {
   "cell_type": "markdown",
   "id": "d75c2544",
   "metadata": {},
   "source": [
    "## 2. 1로 만들기\n",
    "- 정수 X가 주어질 때 정수 X에 사용할 수 있는 연산은 다음과 같이 4가지이다.\n",
    "1. X가 5로 나누어떨어지면, 5로 나눈다.\n",
    "2. X가 3로 나누어떨어지면, 3으로 나눈다.\n",
    "3. X가 2로 나누어떨어지면, 2로 나눈다.\n",
    "4. X에서 1을 뺀다.\n",
    "- 정수 X가 주어졌을 때 연산 4개를 최소한으로 활용해서 1로 만드는 것이 목표"
   ]
  },
  {
   "cell_type": "code",
   "execution_count": 3,
   "id": "4045161a",
   "metadata": {},
   "outputs": [
    {
     "name": "stdout",
     "output_type": "stream",
     "text": [
      "28\n",
      "4\n"
     ]
    }
   ],
   "source": [
    "# 정수 X를 입력 받기\n",
    "x = int(input())\n",
    "\n",
    "# 앞서 계산된 결과를 저장하기 위한 DP 테이블 초기화\n",
    "d = [0] * 1000001\n",
    "\n",
    "# 다이나믹 프로그래밍(Dynamic Programming) 진행(보텀업)\n",
    "for i in range(2, x + 1):\n",
    "    # 현재의 수에서 1을 빼는 경우\n",
    "    d[i] = d[i - 1] + 1\n",
    "    # 현재의 수가 2로 나누어 떨어지는 경우\n",
    "    if i % 2 == 0:\n",
    "        d[i] = min(d[i], d[i // 2] + 1)\n",
    "    # 현재의 수가 3으로 나누어 떨어지는 경우\n",
    "    if i % 3 == 0:\n",
    "        d[i] = min(d[i], d[i // 3] + 1)\n",
    "    # 현재의 수가 5로 나누어 떨어지는 경우\n",
    "    if i % 5 == 0:\n",
    "        d[i] = min(d[i], d[i // 5] + 1)\n",
    "\n",
    "print(d[x])"
   ]
  },
  {
   "cell_type": "markdown",
   "id": "4ca94c0b",
   "metadata": {},
   "source": [
    "- 다이나믹 프로그래밍 문제로 피보나치 수열의 경우와 같이 도식화해서 생각하면 해결하는데 도움이 된다."
   ]
  },
  {
   "cell_type": "markdown",
   "id": "48893df4",
   "metadata": {},
   "source": [
    "## 3. 개미 전사\n",
    "- 개미 전사는 메뚜기 마을의 식량창고를 몰래 약탈하고자 한다.\n",
    "- 식량 창고는 일직선으로 이어져 있고 인접한 식량창고가 공격받으면 공격을 알아챌 수 있다.\n",
    "- 개미 전사에게 식량창고 N개에 대한 정보가 주어졌을 때 얻을 수 있는 식량의 최댓값을 구하는 것이 목표"
   ]
  },
  {
   "cell_type": "code",
   "execution_count": 6,
   "id": "04ac4b31",
   "metadata": {},
   "outputs": [
    {
     "name": "stdout",
     "output_type": "stream",
     "text": [
      "5\n",
      "3 2 7 9 1\n",
      "12\n"
     ]
    }
   ],
   "source": [
    "# 정수 N을 입력 받기\n",
    "n = int(input())\n",
    "# 모든 식량 정보 입력 받기\n",
    "array = list(map(int, input().split()))\n",
    "\n",
    "# 앞서 계산된 결과를 저장하기 위한 DP 테이블 초기화\n",
    "d = [0] * 100\n",
    "\n",
    "# 다이나믹 프로그래밍(Dynamic Programming) 진행 (보텀업)\n",
    "d[0] = array[0]\n",
    "d[1] = max(array[0], array[1]) \n",
    "for i in range(2, n):\n",
    "    d[i] = max(d[i - 1], d[i - 2] + array[i])\n",
    "\n",
    "# 계산된 결과 출력\n",
    "print(d[n - 1])"
   ]
  },
  {
   "cell_type": "markdown",
   "id": "758f0bf5",
   "metadata": {},
   "source": [
    "- 도식화 하여 생각하고 점화식을 세워보자\n",
    "- 점화식은 $a_i = max(a_{i-1},a_{i-2}+k_{i})$로 표현 가능하다."
   ]
  },
  {
   "cell_type": "markdown",
   "id": "09b7e90b",
   "metadata": {},
   "source": [
    "## 4. 바닥 공사\n",
    "- 가로의 길이가 N, 새로의 길이가 2인 직사각형 형태의 얇은 바닥이 있다\n",
    "- 이 얇은 바닥을 1 x 2의 덮개와 2 x 1의 덮개를 이용해 채우고자 한다.\n",
    "- 바닥의 채우는 모든 경우의 수를 구하는 프로그램 작성하는 것이 목표"
   ]
  },
  {
   "cell_type": "code",
   "execution_count": 7,
   "id": "5b9a7a86",
   "metadata": {},
   "outputs": [
    {
     "name": "stdout",
     "output_type": "stream",
     "text": [
      "5\n",
      "21\n"
     ]
    }
   ],
   "source": [
    "# 정수 N을 입력 받기\n",
    "n = int(input())\n",
    "\n",
    "# 앞서 계산된 결과를 저장하기 위한 DP 테이블 초기화\n",
    "d = [0] * 1001\n",
    "\n",
    "# 다이나믹 프로그래밍(Dynamic Programming) 진행 (보텀업)\n",
    "d[1] = 1\n",
    "d[2] = 3\n",
    "for i in range(3, n + 1):\n",
    "    d[i] = (d[i - 1] + 2 * d[i - 2]) % 796796\n",
    "\n",
    "# 계산된 결과 출력\n",
    "print(d[n])"
   ]
  },
  {
   "cell_type": "markdown",
   "id": "770ee036",
   "metadata": {},
   "source": [
    "- $a_i = a_{i-1}+a_{i-2}\\times2$로 표현 가능"
   ]
  },
  {
   "cell_type": "markdown",
   "id": "8b0a0f78",
   "metadata": {},
   "source": [
    "## 5. 효율적인 화폐 구성\n",
    "- N가지 종류의 화폐가 있다\n",
    "- 이 화폐들의 개수를 최소한으로 이용해서 그 가치의 합이 M원이 되도록 하는 것이 목표"
   ]
  },
  {
   "cell_type": "code",
   "execution_count": 8,
   "id": "b6951354",
   "metadata": {},
   "outputs": [
    {
     "name": "stdout",
     "output_type": "stream",
     "text": [
      "2 15\n",
      "2\n",
      "3\n",
      "5\n"
     ]
    }
   ],
   "source": [
    "# 정수 N, M을 입력 받기\n",
    "n, m = map(int, input().split())\n",
    "# N개의 화폐 단위 정보를 입력 받기\n",
    "array = []\n",
    "for i in range(n):\n",
    "    array.append(int(input()))\n",
    "\n",
    "# 한 번 계산된 결과를 저장하기 위한 DP 테이블 초기화\n",
    "d = [10001] * (m + 1)\n",
    "\n",
    "# 다이나믹 프로그래밍(Dynamic Programming) 진행(보텀업)\n",
    "d[0] = 0\n",
    "for i in range(n):\n",
    "    for j in range(array[i], m + 1):\n",
    "        if d[j - array[i]] != 10001: # (i - k)원을 만드는 방법이 존재하는 경우\n",
    "            d[j] = min(d[j], d[j - array[i]] + 1)\n",
    "\n",
    "# 계산된 결과 출력\n",
    "if d[m] == 10001: # 최종적으로 M원을 만드는 방법이 없는 경우\n",
    "    print(-1)\n",
    "else:\n",
    "    print(d[m])"
   ]
  },
  {
   "cell_type": "markdown",
   "id": "8b650a26",
   "metadata": {},
   "source": [
    "- 그리디에서 다루었던 거스름돈 문제와 거의 동일하나 큰 단위가 작은 단위의 배수가 아니라는 점이 다름\n",
    "- 그렇기 때문에 다이나믹 프로그래밍 이용\n",
    "- $a_{i-k}$를 만드는 방법이 존재하는 경우: $a_i = min(a_{i}+a_{i-k}+1)$\n",
    "- $a_{i-k}$를 만드는 방법이 존재하지 않는 경우: $a_i = 10,001$"
   ]
  }
 ],
 "metadata": {
  "kernelspec": {
   "display_name": "Python 3 (ipykernel)",
   "language": "python",
   "name": "python3"
  },
  "language_info": {
   "codemirror_mode": {
    "name": "ipython",
    "version": 3
   },
   "file_extension": ".py",
   "mimetype": "text/x-python",
   "name": "python",
   "nbconvert_exporter": "python",
   "pygments_lexer": "ipython3",
   "version": "3.8.5"
  }
 },
 "nbformat": 4,
 "nbformat_minor": 5
}
