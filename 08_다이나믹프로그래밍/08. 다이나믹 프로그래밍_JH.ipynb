{
 "cells": [
  {
   "cell_type": "markdown",
   "id": "b8f1482f",
   "metadata": {},
   "source": [
    "# CHAPTER 08. 다이나믹 프로그래밍\n",
    "- 한 번 계산한 문제는 다시 계산하지 않도록 하는 알고리즘\n",
    "- 1. 큰 문제를 작은 문제로 나눌 수 있다\n",
    "- 2. 작은 문제에서 구한 정답은 그것을 포함하는 큰 문제에서도 동일하다\n",
    "- 탑다운 (Top Down) 방식 : 재귀함수, 큰 문제를 해결하기 위해 작은 문제를 호출\n",
    "- 보텀업 (Bottom Up) 방식 : 반복문. 작은문제부터 차근차근 답을 도출"
   ]
  },
  {
   "cell_type": "code",
   "execution_count": 1,
   "id": "03a07543",
   "metadata": {},
   "outputs": [
    {
     "name": "stdout",
     "output_type": "stream",
     "text": [
      "218922995834555169026\n"
     ]
    }
   ],
   "source": [
    "# 피보나치 수열 (재귀적)\n",
    "# 한 번 계산된 결과를 메모이제이션(Memoization) 하기 위한 리스트 초기화\n",
    "d = [0] * 100\n",
    "\n",
    "# 피보나치 함수를 재귀함수로 구현 (탑다운 다이나믹 프로그래밍)\n",
    "def fibo(x):\n",
    "    if x == 1 or x ==2:\n",
    "        return 1\n",
    "    # 이미 계산한 적 있는 문제라면 그대로 반환\n",
    "    if d[x] != 0:\n",
    "        return d[x]\n",
    "    # 아직 계산하지 않은 문제라면 점화식에 따라서 피보나치 결과 반환\n",
    "    d[x] = fibo(x - 1) + fibo(x - 2)\n",
    "    return d[x]\n",
    "print(fibo(99))"
   ]
  },
  {
   "cell_type": "code",
   "execution_count": 4,
   "id": "d7f1c7e5",
   "metadata": {},
   "outputs": [
    {
     "name": "stdout",
     "output_type": "stream",
     "text": [
      "f(6) f(5) f(4) f(3) f(2) f(1) f(2) f(3) f(4) "
     ]
    },
    {
     "data": {
      "text/plain": [
       "8"
      ]
     },
     "execution_count": 4,
     "metadata": {},
     "output_type": "execute_result"
    }
   ],
   "source": [
    "# 호출되는 함수 확인\n",
    "d = [0] * 100\n",
    "\n",
    "def fibo(x):\n",
    "    print('f(' + str(x) + ')', end=' ')\n",
    "    if x == 1 or x ==2:\n",
    "        return 1\n",
    "    # 이미 계산한 적 있는 문제라면 그대로 반환\n",
    "    if d[x] != 0:\n",
    "        return d[x]\n",
    "    # 아직 계산하지 않은 문제라면 점화식에 따라서 피보나치 결과 반환\n",
    "    d[x] = fibo(x - 1) + fibo(x - 2)\n",
    "    return d[x]\n",
    "fibo(6)"
   ]
  },
  {
   "cell_type": "code",
   "execution_count": 5,
   "id": "c1ff7193",
   "metadata": {},
   "outputs": [
    {
     "name": "stdout",
     "output_type": "stream",
     "text": [
      "218922995834555169026\n"
     ]
    }
   ],
   "source": [
    "# 피보나치 수열 (반복적)\n",
    "# DP Table\n",
    "d = [0] * 100\n",
    "\n",
    "# 첫 번째 피보나치 수와 두 번쨰 피보나치 수는 1\n",
    "d[1] = 1\n",
    "d[2] = 1\n",
    "n = 99\n",
    "\n",
    "# 피보나치 함수 반복문 구현\n",
    "for i in range(3, n+1):\n",
    "    d[i] = d[i-1] + d[i-2]\n",
    "    \n",
    "print(d[n])"
   ]
  },
  {
   "cell_type": "markdown",
   "id": "66308d5c",
   "metadata": {},
   "source": [
    "## 실전문제. 1로 만들기\n",
    "- 정수 X가 주어질 때 정수 X에 사용할 수 있는 연산은 4가지이다\n",
    "1. X가 5로 나누어떨어지면, 5로 나눈다\n",
    "2. X가 3으로 나누어떨어지면, 3으로 나눈다\n",
    "3. X가 2로 나누어떨어지면, 2로 나눈다.\n",
    "4. X에서 1을 뺸다\n",
    "\n",
    "- 정수 X가 주어졌을 때, 연산 4개를 사용하여 1을 만들려고 한다. 연산을 사용하는 횟수의 최솟값을 출력"
   ]
  },
  {
   "cell_type": "code",
   "execution_count": 6,
   "id": "31f9e4f0",
   "metadata": {},
   "outputs": [
    {
     "name": "stdout",
     "output_type": "stream",
     "text": [
      "26\n",
      "3\n"
     ]
    }
   ],
   "source": [
    "x = int(input())\n",
    "\n",
    "# 계산된 결과를 저장하기 위한 DP 테이블 초기화\n",
    "d = [0] * 30001\n",
    "\n",
    "# 다이나믹 프로그래밍 (보텀업)\n",
    "for i in range(2, x + 1):\n",
    "    # 현재의 수에서 1을 뺴는 경우\n",
    "    d[i] = d[i-1] + 1\n",
    "    # 현재의 수가 2로 나누어 떨어지는 경우\n",
    "    if i % 2 == 0:\n",
    "        d[i] = min(d[i], d[i//2] + 1)\n",
    "    # 현재의 수가 3으로 나누어 떨어지는 경우\n",
    "    if i % 3 == 0:\n",
    "        d[i] = min(d[i], d[i//3] + 1)\n",
    "    # 현재의 수가 5로 나누어 떨어지는 경우\n",
    "    if i % 5 == 0:\n",
    "        d[i] = min(d[i], d[i//5] + 1)\n",
    "print(d[x])"
   ]
  },
  {
   "cell_type": "markdown",
   "id": "4d947627",
   "metadata": {},
   "source": [
    "## 개미 전사\n",
    "- 식량창고를 약탈하는데 들키지 않기 위해 최소한 한 칸 이상 떨어진 식량창고를 약탈해야 한다.\n",
    "- 얻을 수 있는 식량의 최댓값을 구하라"
   ]
  },
  {
   "cell_type": "code",
   "execution_count": 8,
   "id": "8c966663",
   "metadata": {},
   "outputs": [
    {
     "name": "stdout",
     "output_type": "stream",
     "text": [
      "5\n",
      "1 5 9 10 9\n",
      "19\n"
     ]
    }
   ],
   "source": [
    "# 정수 N을 입력\n",
    "n = int(input())\n",
    "# 모든 식량 정보 입력받기\n",
    "array = list(map(int, input().split()))\n",
    "\n",
    "# DP 테이블 초기화\n",
    "d = [0] * 100\n",
    "\n",
    "# 다이나믹 프로그래밍 (보텀업)\n",
    "d[0] = array[0]\n",
    "d[1] = max(array[0], array[1])\n",
    "for i in range(2, n):\n",
    "    d[i] = max(d[i-1], d[i-2] + array[i])\n",
    "    \n",
    "# 계산된 결과 출력\n",
    "print(d[n-1])"
   ]
  },
  {
   "cell_type": "markdown",
   "id": "97207835",
   "metadata": {},
   "source": [
    "## 바닥 공사\n",
    "- N x 2 인 직사각형 형태의 바닥을 1 x 2, 2 x 1, 2 x 2의 타일을 이용ㅎ여 채우고자 한다\n",
    "- 이 때 바닥을 채우는 모든 경우의 수를 구하는 프로그램"
   ]
  },
  {
   "cell_type": "code",
   "execution_count": 9,
   "id": "aad91563",
   "metadata": {},
   "outputs": [
    {
     "name": "stdout",
     "output_type": "stream",
     "text": [
      "3\n",
      "5\n"
     ]
    }
   ],
   "source": [
    "n = int(input())\n",
    "\n",
    "d = [0] * 1001\n",
    "\n",
    "# 다이나믹 프로그래밍 (보텀업)\n",
    "d[1] = 1\n",
    "d[2] = 3\n",
    "for i in range(3, n+1):\n",
    "    d[i] = (d[i - 1] + 2 * d[i - 2]) % 796796\n",
    "    \n",
    "print(d[n])"
   ]
  },
  {
   "cell_type": "markdown",
   "id": "fbde286f",
   "metadata": {},
   "source": [
    "## 효율적인 화폐 구성\n",
    "- N 가지 종류의 화폐를 최소한의 개수로 합이 M원이 되도록 한다."
   ]
  },
  {
   "cell_type": "code",
   "execution_count": 15,
   "id": "7e62e5e5",
   "metadata": {},
   "outputs": [
    {
     "name": "stdout",
     "output_type": "stream",
     "text": [
      "3 4\n",
      "3\n",
      "5\n",
      "7\n",
      "-1\n"
     ]
    }
   ],
   "source": [
    "n, m = map(int, input().split())\n",
    "# N개의 화폐 단위 정보를 입력받기\n",
    "array = []\n",
    "for i in range(n):\n",
    "    array.append(int(input()))\n",
    "\n",
    "# 한 번 계산된 결과를 저장하기 위한 DP 테이블 초기화\n",
    "d = [10001] * (m + 1)\n",
    "\n",
    "# 다이나믹 프로그래밍 (보텀업)\n",
    "d[0] = 0\n",
    "for i in range(n):\n",
    "    for j in range(array[i], m+1):\n",
    "        if d[j - array[i]] != 10001: # (i - k)원을 만드는 방법이 존재하는 경우\n",
    "            d[j] = min(d[j], d[j - array[i]] + 1)\n",
    "\n",
    "if d[m] == 10001:  # 최종적으로 M원을 만드는 방법이 없는 경우\n",
    "    print(-1)\n",
    "else:\n",
    "    print(d[m])"
   ]
  },
  {
   "cell_type": "code",
   "execution_count": null,
   "id": "84d8c053",
   "metadata": {},
   "outputs": [],
   "source": []
  }
 ],
 "metadata": {
  "kernelspec": {
   "display_name": "Python 3 (ipykernel)",
   "language": "python",
   "name": "python3"
  },
  "language_info": {
   "codemirror_mode": {
    "name": "ipython",
    "version": 3
   },
   "file_extension": ".py",
   "mimetype": "text/x-python",
   "name": "python",
   "nbconvert_exporter": "python",
   "pygments_lexer": "ipython3",
   "version": "3.8.11"
  }
 },
 "nbformat": 4,
 "nbformat_minor": 5
}
