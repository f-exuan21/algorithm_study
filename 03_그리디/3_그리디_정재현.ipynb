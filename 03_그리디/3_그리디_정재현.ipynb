{
 "cells": [
  {
   "cell_type": "markdown",
   "id": "630cce6c",
   "metadata": {},
   "source": [
    "# 3_그리디"
   ]
  },
  {
   "cell_type": "markdown",
   "id": "ece9d94c",
   "metadata": {},
   "source": [
    "## 1)  당장 좋은 것만 선택하는 그리디\n",
    "- 그리디: 현재 상황에서 지금 당장 좋은 것만 고르는 방법을 의미\n",
    "- 코딩 테스트의 그리디 알고리즘 유형의 문제는 최소한의 아이디어를 떠올릴 수 있는 능력 요구"
   ]
  },
  {
   "cell_type": "code",
   "execution_count": 6,
   "id": "6f834742",
   "metadata": {},
   "outputs": [
    {
     "name": "stdout",
     "output_type": "stream",
     "text": [
      "거스름돈 입력: 5000\n",
      "10\n"
     ]
    }
   ],
   "source": [
    "# 예제3-1 거스름돈\n",
    "\n",
    "\n",
    "\n",
    "n = int(input('거스름돈 입력: '))\n",
    "count = 0\n",
    "\n",
    "# 큰 단위의 화폐부터 차례대로 확인하기\n",
    "coin_types = [500, 100, 50, 10]\n",
    "\n",
    "for coin in coin_types:\n",
    "    count += n // coin # 해당 화폐로 거슬러 줄 수 있는 동전의 개수 세기\n",
    "    n %= coin\n",
    "\n",
    "print(count)\n",
    "\n",
    "# 본 답안 예시의 시간 복잡도는 O(K)이다"
   ]
  },
  {
   "cell_type": "code",
   "execution_count": null,
   "id": "8f33635f",
   "metadata": {},
   "outputs": [],
   "source": [
    "# idea: 가장 큰 화폐 단위를 우선적으로 거슬러 줄 것(greedy)"
   ]
  },
  {
   "cell_type": "code",
   "execution_count": null,
   "id": "f8071836",
   "metadata": {},
   "outputs": [],
   "source": [
    "# 동전의 종류별 개수 구분해보기\n",
    "\n",
    "n = int(input('거스름돈 입력: '))\n",
    "count = 0\n",
    "\n",
    "# 큰 단위의 화폐부터 차례대로 확인하기\n",
    "coin_types = [500, 100, 50, 10]\n",
    "\n",
    "for coin in coin_types:\n",
    "    count += n // coin # 해당 화폐로 거슬러 줄 수 있는 동전의 개수 세기\n",
    "    n %= coin\n",
    "\n",
    "print(count)"
   ]
  },
  {
   "cell_type": "markdown",
   "id": "0f978b0d",
   "metadata": {},
   "source": [
    "#### 그리디 알고리즘의 정당성"
   ]
  },
  {
   "cell_type": "markdown",
   "id": "03e10f8e",
   "metadata": {},
   "source": [
    "## 2) 큰 수의 법칙\n",
    "- N개로 이루어진 배열의 수들을 M번 더하고 특정 인덱스 수를 K번 이상 중복가능하지 않을 때 가장 큰 수를 만들기. "
   ]
  },
  {
   "cell_type": "code",
   "execution_count": 11,
   "id": "01da6a53",
   "metadata": {},
   "outputs": [
    {
     "name": "stdout",
     "output_type": "stream",
     "text": [
      "4 8 3\n",
      "1 2 3 4\n",
      "30\n"
     ]
    }
   ],
   "source": [
    "# N, M, K를 공백을 기준으로 구분하여 입력 받기\n",
    "n, m, k = map(int, input().split())\n",
    "# N개의 수를 공백을 기준으로 구분하여 입력 받기\n",
    "data = list(map(int, input().split()))\n",
    "\n",
    "data.sort() # 입력 받은 수들 정렬하기\n",
    "first = data[n - 1] # 가장 큰 수\n",
    "second = data[n - 2] # 두 번째로 큰 수\n",
    "\n",
    "# 가장 큰 수가 더해지는 횟수 계산\n",
    "count = int(m / (k + 1)) * k\n",
    "count += m % (k + 1)\n",
    "\n",
    "result = 0\n",
    "result += (count) * first # 가장 큰 수 더하기\n",
    "result += (m - count) * second # 두 번째로 큰 수 더하기\n",
    "\n",
    "print(result) # 최종 답안 출력\n",
    "\n",
    "# 반복되는 수열에 대해 파악"
   ]
  },
  {
   "cell_type": "markdown",
   "id": "83a1e958",
   "metadata": {},
   "source": [
    "## 3) 숫자 카드 게임\n",
    "\n",
    "- N x M 의 행렬 형태로 카드가 놓여 있다.\n",
    "- 뽑고자 하는 카드가 포함되어 있는 행을 선택하고 각 행에서 가장 숫자가 낮은 카드를 뽑는다\n",
    "- 각 행에서 뽑은 카드 중에서 가장 높은 숫자를 뽑는 것이 목표"
   ]
  },
  {
   "cell_type": "code",
   "execution_count": 12,
   "id": "47bfea6b",
   "metadata": {},
   "outputs": [
    {
     "name": "stdout",
     "output_type": "stream",
     "text": [
      "3 3\n",
      "3 1 2\n",
      "4 1 4\n",
      "2 2 2\n",
      "2\n"
     ]
    }
   ],
   "source": [
    "# N, M을 공백을 기준으로 구분하여 입력 받기\n",
    "n, m = map(int, input().split())\n",
    "\n",
    "result = 0\n",
    "\n",
    "# 한 줄씩 입력 받아 확인하기\n",
    "for i in range(n):\n",
    "    data = list(map(int, input().split()))\n",
    "    \n",
    "    # 현재 행에서 '가장 작은 수' 찾기\n",
    "    min_value = min(data)\n",
    "    \n",
    "    # '가장 작은 수'들 중에서 가장 큰 수 찾기\n",
    "    result = max(result, min_value)\n",
    "\n",
    "print(result) # 최종 답안 출력"
   ]
  },
  {
   "cell_type": "markdown",
   "id": "dff7beb9",
   "metadata": {},
   "source": [
    "## 4) 1이 될 때까지\n",
    "- N에서 K를 나누고 나누어 떨어지지 않는다면 N에서 1을 뺀다\n",
    "- 이를 1이 될 때까지 시행할 때 그 최소 횟수를 구하는 것이 목표"
   ]
  },
  {
   "cell_type": "code",
   "execution_count": 15,
   "id": "c22c9df7",
   "metadata": {},
   "outputs": [
    {
     "name": "stdout",
     "output_type": "stream",
     "text": [
      "1000000000 5\n",
      "19\n"
     ]
    }
   ],
   "source": [
    "# N, K공백을 기준으로 구분하여 입력 받기\n",
    "n, k = map(int, input().split())\n",
    "\n",
    "result = 0\n",
    "\n",
    "while True:\n",
    "    # N이 K로 나누어 떨어지는 수가 될 때까지만 1씩 빼기\n",
    "    target = (n // k) * k\n",
    "    result += (n - target)\n",
    "    n = target\n",
    "    \n",
    "    # N이 K보다 작을 때 (더 이상 나눌 수 없을 때) 반복문 탈출\n",
    "    if n < k:\n",
    "        break\n",
    "        \n",
    "    # K로 나누기\n",
    "    result += 1\n",
    "    n //= k\n",
    "\n",
    "# 마지막으로 남은 수에 대하여 1씩 빼기\n",
    "result += (n - 1)\n",
    "print(result)"
   ]
  },
  {
   "cell_type": "code",
   "execution_count": null,
   "id": "c484345b",
   "metadata": {},
   "outputs": [],
   "source": [
    "# idea: 나누기 연산을 우선적으로(greedy)"
   ]
  }
 ],
 "metadata": {
  "kernelspec": {
   "display_name": "Python 3 (ipykernel)",
   "language": "python",
   "name": "python3"
  },
  "language_info": {
   "codemirror_mode": {
    "name": "ipython",
    "version": 3
   },
   "file_extension": ".py",
   "mimetype": "text/x-python",
   "name": "python",
   "nbconvert_exporter": "python",
   "pygments_lexer": "ipython3",
   "version": "3.8.5"
  }
 },
 "nbformat": 4,
 "nbformat_minor": 5
}
