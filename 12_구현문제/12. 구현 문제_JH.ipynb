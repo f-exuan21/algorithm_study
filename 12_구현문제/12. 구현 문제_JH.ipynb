{
 "cells": [
  {
   "cell_type": "markdown",
   "id": "ce9731f7",
   "metadata": {},
   "source": [
    "# CHAPTER 12. 구현 문제\n",
    "- 머릿속에 있는 알고리즘을 정확하고 빠르게 프로그램으로 작성하는 과정을 구현이라고 한다.\n",
    "- 완전 탐색 : 모든 경우의 수를 빠짐없이 다 계산하는 해결 방법을 의미\n",
    "- 시뮬레이션 : 문제에서 제시하는 논리나 동작 과정을 그대로 코드로 옮겨야 하는 유형"
   ]
  },
  {
   "cell_type": "markdown",
   "id": "77fd3f7f",
   "metadata": {},
   "source": [
    "### 07. 럭키 스트레이트\n",
    "- https://www.acmicpc.net/problem/18406\n",
    "- 특정 상황이란, 현재 캐릭터의 점수를 N이라고 할 떄 자릿수를 기준으로 점수 N을 반으로 나누어 왼쪽 부분의 각 자릿수의 합과 오른쪽 부분의 각 자릿수의 합을 더한 값이 동일한 상황을 의미한다.\n",
    "- 현재 점수 N이 주어지면 럭키 스트레이트를 사용할 수 있는 특정 상황인지 출력"
   ]
  },
  {
   "cell_type": "code",
   "execution_count": 2,
   "id": "eb99bad1",
   "metadata": {},
   "outputs": [
    {
     "name": "stdout",
     "output_type": "stream",
     "text": [
      "123402\n",
      "LUCKY\n"
     ]
    }
   ],
   "source": [
    "n = input()\n",
    "length = len(n) # 점수 값의 총 자릿수\n",
    "summary = 0\n",
    "\n",
    "# 왼쪽 부분의 자릿수의 합 더하기\n",
    "for i in range(length // 2):\n",
    "    summary += int(n[i])\n",
    "\n",
    "# 오른쪽 부분의 자릿수의 합 빼기\n",
    "for i in range(length // 2, length):\n",
    "    summary -= int(n[i])\n",
    "\n",
    "# 왼쪽 부분과 오른쪽 부분의 자릿수 합이 동일한지 검사\n",
    "if summary == 0:\n",
    "    print(\"LUCKY\")\n",
    "else:\n",
    "    print(\"READY\")"
   ]
  },
  {
   "cell_type": "markdown",
   "id": "1dc52989",
   "metadata": {},
   "source": [
    "### 08. 문자열 재정렬\n",
    "- 알파벳 대문자와 숫자 0~9로만 구성된 물자열이 입력으로 올때, 모든 알파벳을 오름차순으로 정렬하여 출력한 뒤, 그 뒤에 모든 숫자를 더한 값을 이어서 출력"
   ]
  },
  {
   "cell_type": "code",
   "execution_count": 3,
   "id": "ea2b66f2",
   "metadata": {},
   "outputs": [
    {
     "name": "stdout",
     "output_type": "stream",
     "text": [
      "K1KA5CB7\n",
      "ABCKK13\n"
     ]
    }
   ],
   "source": [
    "data = input()\n",
    "result = []\n",
    "value = 0\n",
    "\n",
    "# 문자를 하나씩 확인하며\n",
    "for x in data:\n",
    "    # 알파벳인 경우 결과 리스트에 삽입\n",
    "    if x.isalpha():\n",
    "        result.append(x)\n",
    "    # 숫자는 따로 더하기\n",
    "    else:\n",
    "        value += int(x)\n",
    "\n",
    "# 알파벳을 오름차순으로 정렬\n",
    "result.sort()\n",
    "\n",
    "# 숫자가 하나라도 존재하는 경우 가장 뒤에 삽입\n",
    "if value != 0:\n",
    "    result.append(str(value))\n",
    "\n",
    "# 최종 결과 출력(리스트를 문자열로 변환하여 출력)\n",
    "print(''.join(result))"
   ]
  },
  {
   "cell_type": "markdown",
   "id": "55c38896",
   "metadata": {},
   "source": [
    "### 09. 문자열 압축\n",
    "- https://programmers.co.kr/learn/courses/30/lessons/60057\n",
    "- 문자열에서 같은 값이 연속해서 나타나는 것을 그 문자의 개수와 반복되는 값으로 표현하여 더 짧은 문자열로 줄이고 싶다\n",
    "- 압축할 문자열 s가 매개변수로 주어질 때, 1개 이상 단위로 문자열을 잘라 압축하여 표현한 문자열 중 가장 짧은 것의 길이를 반환 하도록"
   ]
  },
  {
   "cell_type": "code",
   "execution_count": 15,
   "id": "e2fd63a4",
   "metadata": {},
   "outputs": [],
   "source": [
    "def solution(s):\n",
    "    answer = len(s)\n",
    "    # 1개 단위(step)부터 압축 단위를 늘려가며 확인\n",
    "    for step in range(1, len(s) // 2 + 1):\n",
    "        compressed = \"\"\n",
    "        prev = s[0:step] # 앞에서부터 step만큼의 문자열 추출\n",
    "        count = 1\n",
    "        # 단위(step) 크기만큼 증가시키며 이전 문자열과 비교\n",
    "        for j in range(step, len(s), step):\n",
    "            # 이전 상태와 동일하다면 압축 횟수(count) 증가\n",
    "            if prev == s[j:j + step]:\n",
    "                count += 1\n",
    "            # 다른 문자열이 나왔다면(더 이상 압축하지 못하는 경우라면)\n",
    "            else:\n",
    "                compressed += str(count) + prev if count >= 2 else prev\n",
    "                prev = s[j:j + step] # 다시 상태 초기화\n",
    "                count = 1\n",
    "        # 남아있는 문자열에 대해서 처리\n",
    "        compressed += str(count) + prev if count >= 2 else prev\n",
    "        # 만들어지는 압축 문자열이 가장 짧은 것이 정답\n",
    "        answer = min(answer, len(compressed))\n",
    "    return answer"
   ]
  },
  {
   "cell_type": "code",
   "execution_count": 16,
   "id": "d90e0ab9",
   "metadata": {},
   "outputs": [
    {
     "data": {
      "text/plain": [
       "7"
      ]
     },
     "execution_count": 16,
     "metadata": {},
     "output_type": "execute_result"
    }
   ],
   "source": [
    "solution('aabbaccc')"
   ]
  },
  {
   "cell_type": "markdown",
   "id": "e1dc79bc",
   "metadata": {},
   "source": [
    "### 10. 자물쇠와 열쇠\n",
    "- https://programmers.co.kr/learn/courses/30/lessons/60059\n",
    "- 잠겨있는 자물쇠는 격자 한 칸의 크기가 1x1이 NxN 크기의 정사각 격자 형태이고 특이한 모양의 열쇠는 MxM크기인 정사각 격자 형태로 되어있다\n",
    "- 열쇠는 회전과 이동이 가능하고, 열쇠의 돌기 부분을 자물쇠의 홈 부분에 딱 맞게 채우면 자물쇠가 열리게 되는 구조이다.\n",
    "- 자물쇠 영역을 벗어난 부분에 있는 열쇠의 홈과 돌기는 자물쇠를 여는 데 영향을 주지 않지만, 자물쇠 영역내에서는 열쇠의 돌기 부분과 자물쇠의 홈 부분이 정확히 일치해야 하며 열쇠의 돌기와 자물쇠의 돌기가 만나서는 안된다.\n",
    "- 자물쇠의 모든 홈을 채워 비어있는 것이 없어야 자물쇠를 열 수 있다.\n",
    "- 열쇠를 나타내는 2차원 배열 key와 자물쇠를 나타내는 2차원 배열 lock이 매개변수로 주어질 때 열쇠로 열 수 있으면 true, 아니면 false 반환"
   ]
  },
  {
   "cell_type": "code",
   "execution_count": 17,
   "id": "68ed72e2",
   "metadata": {},
   "outputs": [],
   "source": [
    "# 2차원 리스트 90도 회전하기\n",
    "def rotate_a_matrix_by_90_degree(a):\n",
    "    n = len(a) # 행 길이 계산\n",
    "    m = len(a[0]) # 열 길이 계산\n",
    "    result = [[0] * n for _ in range(m)] # 결과 리스트\n",
    "    for i in range(n):\n",
    "        for j in range(m):\n",
    "            result[j][n - i - 1] = a[i][j]\n",
    "    return result\n",
    "\n",
    "# 자물쇠의 중간 부분이 모두 1인지 확인\n",
    "def check(new_lock):\n",
    "    lock_length = len(new_lock) // 3\n",
    "    for i in range(lock_length, lock_length * 2):\n",
    "        for j in range(lock_length, lock_length * 2):\n",
    "            if new_lock[i][j] != 1:\n",
    "                return False\n",
    "    return True\n",
    "\n",
    "def solution(key, lock):\n",
    "    n = len(lock)\n",
    "    m = len(key)\n",
    "    # 자물쇠의 크기를 기존의 3배로 변환\n",
    "    new_lock = [[0] * (n * 3) for _ in range(n * 3)]\n",
    "    # 새로운 자물쇠의 중앙 부분에 기존의 자물쇠 넣기\n",
    "    for i in range(n):\n",
    "        for j in range(n):\n",
    "            new_lock[i + n][j + n] = lock[i][j]\n",
    "\n",
    "    # 4가지 방향에 대해서 확인\n",
    "    for rotation in range(4):\n",
    "        key = rotate_a_matrix_by_90_degree(key) # 열쇠 회전\n",
    "        for x in range(n * 2):\n",
    "            for y in range(n * 2):\n",
    "                # 자물쇠에 열쇠를 끼워 넣기\n",
    "                for i in range(m):\n",
    "                    for j in range(m):\n",
    "                        new_lock[x + i][y + j] += key[i][j]\n",
    "                # 새로운 자물쇠에 열쇠가 정확히 들어 맞는지 검사\n",
    "                if check(new_lock) == True:\n",
    "                    return True\n",
    "                # 자물쇠에서 열쇠를 다시 빼기\n",
    "                for i in range(m):\n",
    "                    for j in range(m):\n",
    "                        new_lock[x + i][y + j] -= key[i][j]\n",
    "    return False\n"
   ]
  },
  {
   "cell_type": "code",
   "execution_count": 18,
   "id": "46c4ad7e",
   "metadata": {},
   "outputs": [
    {
     "data": {
      "text/plain": [
       "True"
      ]
     },
     "execution_count": 18,
     "metadata": {},
     "output_type": "execute_result"
    }
   ],
   "source": [
    "solution([[0,0,0], [1,0,0], [0,1,1]], [[1,1,1], [1,1,0], [1,0,1]])"
   ]
  },
  {
   "cell_type": "markdown",
   "id": "0edf030b",
   "metadata": {},
   "source": [
    "### 11. 뱀\n",
    "- https://www.acmicpc.net/problem/3190\n",
    "- 뱀이 나와서 기어 다니다, 사과를 먹으면 뱀 길이가 늘어난다. 뱀이 벽 또는 자기 자신의 몸과 부딪히면 게임이 끝난다.\n",
    "- 게임은 NxN 정사각 보드 위에서 진행되고, 몇몇 칸에는 사과가 있다. 게임 시작할 때 뱀은 맨 위 좌측에 위치하고 뱀의 길이는 1이다. 뱀은 처음에 오른쪽을 향한다.\n",
    "- 먼저 뱀은 몸길이를 늘려 머리를 다음 칸에 위치시킵니다.\n",
    "- 만약 이동한 칸에 사과가 있다면, 그 칸에 있던 사과가 없어지고 꼬리는 움직이지 않습니다.\n",
    "- 만약 이동한 칸에 사과가 없다면, 몸길이를 줄여서 꼬리가 위치한 칸을 비워줍니다. 즉, 몸길이는 변하지 않습니다.\n",
    "- 사과의 위치와 뱀의 이동 경로가 주어질 때 이게임이 몇 초에 끝나는지 계산하시오\n",
    "- 첫째 줄에 보드의 크기 N, 다음 줄에 사과의 개수 K가 주어진다.\n",
    "- 다음 K개의 줄에는 사과의 위치가 주어지는데 행, 열을 의미한다.\n",
    "- 다음 줄에는 뱀의 방향 변환 횟수 L이 주어진다.\n",
    "- 다음 L개의 줄에는 뱀의 방향 변환 정고가 주어지는데, 정수 X, 문자 C로 게임시작 시간으로부터 X초가 끝난 뒤에 왼쪽(L) 또는 오른쪽(D)로 90도 방향을 회전시킨다는 뜻"
   ]
  },
  {
   "cell_type": "code",
   "execution_count": 7,
   "id": "fd2519d8",
   "metadata": {},
   "outputs": [
    {
     "name": "stdout",
     "output_type": "stream",
     "text": [
      "6\n",
      "3\n",
      "3 4\n",
      "2 5\n",
      "5 3\n",
      "3\n",
      "3 D\n",
      "15 L\n",
      "17 D\n",
      "9\n"
     ]
    }
   ],
   "source": [
    "n = int(input())\n",
    "k = int(input())\n",
    "data = [[0] * (n + 1) for _ in range(n + 1)] # 맵 정보\n",
    "info = [] # 방향 회전 정보\n",
    "\n",
    "# 맵 정보(사과 있는 곳은 1로 표시)\n",
    "for _ in range(k):\n",
    "    a, b = map(int, input().split())\n",
    "    data[a][b] = 1\n",
    "\n",
    "# 방향 회전 정보 입력\n",
    "l = int(input())\n",
    "for _ in range(l):\n",
    "    x, c = input().split()\n",
    "    info.append((int(x), c))\n",
    "\n",
    "# 처음에는 오른쪽을 보고 있으므로(동, 남, 서, 북)\n",
    "dx = [0, 1, 0, -1]\n",
    "dy = [1, 0, -1, 0]\n",
    "\n",
    "def turn(direction, c):\n",
    "    if c == \"L\":\n",
    "        direction = (direction - 1) % 4\n",
    "    else:\n",
    "        direction = (direction + 1) % 4\n",
    "    return direction\n",
    "\n",
    "def simulate():\n",
    "    x, y = 1, 1 # 뱀의 머리 위치\n",
    "    data[x][y] = 2 # 뱀이 존재하는 위치는 2로 표시\n",
    "    direction = 0 # 처음에는 동쪽을 보고 있음\n",
    "    time = 0 # 시작한 뒤에 지난 '초' 시간\n",
    "    index = 0 # 다음에 회전할 정보\n",
    "    q = [(x, y)] # 뱀이 차지하고 있는 위치 정보(꼬리가 앞쪽)\n",
    "\n",
    "    while True:\n",
    "        nx = x + dx[direction]\n",
    "        ny = y + dy[direction]\n",
    "        # 맵 범위 안에 있고, 뱀의 몸통이 없는 위치라면\n",
    "        if 1 <= nx and nx <= n and 1 <= ny and ny <= n and data[nx][ny] != 2:\n",
    "            # 사과가 없다면 이동 후에 꼬리 제거\n",
    "            if data[nx][ny] == 0:\n",
    "                data[nx][ny] = 2\n",
    "                q.append((nx, ny))\n",
    "                px, py = q.pop(0)\n",
    "                data[px][py] = 0\n",
    "            # 사과가 있다면 이동 후에 꼬리 그대로 두기\n",
    "            if data[nx][ny] == 1:\n",
    "                data[nx][ny] = 2\n",
    "                q.append((nx, ny))\n",
    "        # 벽이나 뱀의 몸통과 부딪혔다면\n",
    "        else:\n",
    "            time += 1\n",
    "            break\n",
    "        x, y = nx, ny # 다음 위치로 머리를 이동\n",
    "        time += 1\n",
    "        if index < l and time == info[index][0]: # 회전할 시간인 경우 회전\n",
    "            direction = turn(direction, info[index][1])\n",
    "            index += 1\n",
    "    return time\n",
    "\n",
    "print(simulate())"
   ]
  },
  {
   "cell_type": "markdown",
   "id": "defe50a1",
   "metadata": {},
   "source": [
    "### 12. 기둥과 보 설치\n",
    "- https://programmers.co.kr/learn/courses/30/lessons/60061\n",
    "- 프로그램은 2차원 가상 벽면에 기둥과 보를 이용한 구조물을 설치할 수 있는데, 기둥과 보는 길이가 1인 선분으로 표현되며 다음과 같은 규칙을 가지고 있다.\n",
    "- 기둥은 바닥 위에 있거나 보의 한쪽 끝부분 위에 있거나, 또는 다른 기둥 위에 있어야 합니다.\n",
    "- 보는 한쪽 끝부분이 기둥 위에 있거나, 또는 양쪽 끝부분이 다른 보와 동시에 연결되어 있어야 합니다.\n",
    "- 단 바닥은 벽면의 맨 아래 지면을 말합니다.\n",
    "- 2차원 벽면은 nxn 크기 정사각 격자 형태이며, 각 격자는 1x1 크기입니다."
   ]
  },
  {
   "cell_type": "code",
   "execution_count": 19,
   "id": "a724f53d",
   "metadata": {},
   "outputs": [],
   "source": [
    "# 현재 설치된 구조물이 '가능한' 구조물인지 확인하는 함수\n",
    "def possible(answer):\n",
    "    for x, y, stuff in answer:\n",
    "        if stuff == 0: # 설치된 것이 '기둥'인 경우\n",
    "            # '바닥 위' 혹은 '보의 한쪽 끝 부분 위' 혹은 '다른 기둥 위'라면 정상\n",
    "            if y == 0 or [x - 1, y, 1] in answer or [x, y, 1] in answer or [x, y - 1, 0] in answer:\n",
    "                continue\n",
    "            return False # 아니라면 거짓(False) 반환\n",
    "        elif stuff == 1: # 설치된 것이 '보'인 경우\n",
    "            # '한쪽 끝부분이 기둥 위' 혹은 '양쪽 끝부분이 다른 보와 동시에 연결'이라면 정상\n",
    "            if [x, y - 1, 0] in answer or [x + 1, y - 1, 0] in answer or ([x - 1, y, 1] in answer and [x + 1, y, 1] in answer):\n",
    "                continue\n",
    "            return False # 아니라면 거짓(False) 반환\n",
    "    return True\n",
    "\n",
    "def solution(n, build_frame):\n",
    "    answer = []\n",
    "    for frame in build_frame: # 작업(frame)의 개수는 최대 1,000개\n",
    "        x, y, stuff, operate = frame\n",
    "        if operate == 0: # 삭제하는 경우\n",
    "            answer.remove([x, y, stuff]) # 일단 삭제를 해본 뒤에\n",
    "            if not possible(answer): # 가능한 구조물인지 확인\n",
    "                answer.append([x, y, stuff]) # 가능한 구조물이 아니라면 다시 설치\n",
    "        if operate == 1: # 설치하는 경우\n",
    "            answer.append([x, y, stuff]) # 일단 설치를 해본 뒤에\n",
    "            if not possible(answer): # 가능한 구조물인지 확인\n",
    "                answer.remove([x, y, stuff]) # 가능한 구조물이 아니라면 다시 제거\n",
    "    return sorted(answer) # 정렬된 결과를 반환"
   ]
  },
  {
   "cell_type": "code",
   "execution_count": 20,
   "id": "6ada8dc3",
   "metadata": {},
   "outputs": [
    {
     "data": {
      "text/plain": [
       "[[1, 0, 0],\n",
       " [1, 1, 1],\n",
       " [2, 1, 0],\n",
       " [2, 2, 1],\n",
       " [3, 2, 1],\n",
       " [4, 2, 1],\n",
       " [5, 0, 0],\n",
       " [5, 1, 0]]"
      ]
     },
     "execution_count": 20,
     "metadata": {},
     "output_type": "execute_result"
    }
   ],
   "source": [
    "solution(5, [[1,0,0,1], [1,1,1,1], [2,1,0,1], [2,2,1,1], [5,0,0,1], [5,1,0,1], [4,2,1,1], [3,2,1,1]])"
   ]
  },
  {
   "cell_type": "markdown",
   "id": "38787d58",
   "metadata": {},
   "source": [
    "### 치킨 배달\n",
    "- https://www.acmicpc.net/problem/15686\n",
    "- 치킨거리는 집과 가장 가까운 치킨집 사이의 거리이다. 도시의 치킨 거리는 모든 집의 치킨 거리의 합니다.\n",
    "- 도시에 있는 치킨집 중에 최대 M개를 골고, 나머지 치킨집은 모두 폐업시키려고 한다. 도시의 치킨거리가 가장 작게 될지 구해보자"
   ]
  },
  {
   "cell_type": "code",
   "execution_count": 11,
   "id": "436aee8d",
   "metadata": {},
   "outputs": [
    {
     "name": "stdout",
     "output_type": "stream",
     "text": [
      "5 3\n",
      "0 0 1 0 0\n",
      "0 0 2 0 1\n",
      "0 1 2 0 0\n",
      "0 0 1 0 0\n",
      "0 0 0 0 2\n",
      "5\n"
     ]
    }
   ],
   "source": [
    "from itertools import combinations\n",
    "\n",
    "n, m = map(int, input().split())\n",
    "chicken, house = [], []\n",
    "\n",
    "for r in range(n):\n",
    "    data = list(map(int, input().split()))\n",
    "    for c in range(n):\n",
    "        if data[c] == 1:\n",
    "            house.append((r, c)) # 일반 집\n",
    "        elif data[c] == 2:\n",
    "            chicken.append((r, c)) # 치킨집\n",
    "\n",
    "# 모든 치킨 집 중에서 m개의 치킨 집을 뽑는 조합 계산\n",
    "candidates = list(combinations(chicken, m))\n",
    "\n",
    "# 치킨 거리의 합을 계산하는 함수\n",
    "def get_sum(candidate):\n",
    "    result = 0\n",
    "    # 모든 집에 대하여\n",
    "    for hx, hy in house:\n",
    "        # 가장 가까운 치킨 집을 찾기\n",
    "        temp = 1e9\n",
    "        for cx, cy in candidate:\n",
    "            temp = min(temp, abs(hx - cx) + abs(hy - cy))\n",
    "        # 가장 가까운 치킨 집까지의 거리를 더하기\n",
    "        result += temp\n",
    "    # 치킨 거리의 합 반환\n",
    "    return result\n",
    "\n",
    "# 치킨 거리의 합의 최소를 찾아 출력\n",
    "result = 1e9\n",
    "for candidate in candidates:\n",
    "    result = min(result, get_sum(candidate))\n",
    "\n",
    "print(result)"
   ]
  },
  {
   "cell_type": "markdown",
   "id": "dd34a9af",
   "metadata": {},
   "source": [
    "### 14. 외벽 점검\n",
    "- https://programmers.co.kr/learn/courses/30/lessons/60062\n",
    "- 레스토랑 구조는 동그란 모양이고, 외벽의 총 둘레는 n미터이며, 외벽의 몇몇 지점은 취약 지점이다.\n",
    "- 친구들이 1시간 동안 점검을 해야하고, 친구들 별 이동할 수 있는 거리는 제각각이다.최소한의 친구들을 투입하려한다.\n",
    "- 레스토랑의 정북 방향을 0으로 나타내며 취약 지점 위치는 시계 방향으로 떨어진 거리로 나타낸다. 친구들은 출발 지점부터 시계, 혹은 반시계 방향으로 외벽을 따라서만 이동한다.\n",
    "- 외벽의 길이 n, 취약 지점의 위치가 담긴 배열 weak, 각 친구가 1시간 동안 이동할 수 있는 거리가 담긴 배열 dist가 주어질때 친구수 최솟값을 구해라"
   ]
  },
  {
   "cell_type": "code",
   "execution_count": 13,
   "id": "162a1e9e",
   "metadata": {},
   "outputs": [],
   "source": [
    "from itertools import permutations\n",
    "\n",
    "def solution(n, weak, dist):\n",
    "    # 길이를 2배로 늘려서 '원형'을 일자 형태로 변형\n",
    "    length = len(weak)\n",
    "    for i in range(length):\n",
    "        weak.append(weak[i] + n)\n",
    "    answer = len(dist) + 1 # 투입할 친구 수의 최솟값을 찾아야 하므로 len(dist) + 1로 초기화\n",
    "    # 0부터 length - 1까지의 위치를 각각 시작점으로 설정\n",
    "    for start in range(length):\n",
    "        # 친구를 나열하는 모든 경우 각각에 대하여 확인\n",
    "        for friends in list(permutations(dist, len(dist))):\n",
    "            count = 1 # 투입할 친구의 수\n",
    "            # 해당 친구가 점검할 수 있는 마지막 위치\n",
    "            position = weak[start] + friends[count - 1]\n",
    "            # 시작점부터 모든 취약한 지점을 확인\n",
    "            for index in range(start, start + length):\n",
    "                # 점검할 수 있는 위치를 벗어나는 경우\n",
    "                if position < weak[index]:\n",
    "                    count += 1 # 새로운 친구를 투입\n",
    "                    if count > len(dist): # 더 투입이 불가능하다면 종료\n",
    "                        break\n",
    "                    position = weak[index] + friends[count - 1]\n",
    "            answer = min(answer, count) # 최솟값 계산\n",
    "    if answer > len(dist):\n",
    "        return -1\n",
    "    return answer"
   ]
  },
  {
   "cell_type": "code",
   "execution_count": 14,
   "id": "f5bca821",
   "metadata": {},
   "outputs": [
    {
     "data": {
      "text/plain": [
       "2"
      ]
     },
     "execution_count": 14,
     "metadata": {},
     "output_type": "execute_result"
    }
   ],
   "source": [
    "solution(12,[1,5,6,10], [1,2,3,4])"
   ]
  },
  {
   "cell_type": "code",
   "execution_count": null,
   "id": "97eb25fa",
   "metadata": {},
   "outputs": [],
   "source": []
  }
 ],
 "metadata": {
  "kernelspec": {
   "display_name": "Python 3 (ipykernel)",
   "language": "python",
   "name": "python3"
  },
  "language_info": {
   "codemirror_mode": {
    "name": "ipython",
    "version": 3
   },
   "file_extension": ".py",
   "mimetype": "text/x-python",
   "name": "python",
   "nbconvert_exporter": "python",
   "pygments_lexer": "ipython3",
   "version": "3.8.11"
  }
 },
 "nbformat": 4,
 "nbformat_minor": 5
}
