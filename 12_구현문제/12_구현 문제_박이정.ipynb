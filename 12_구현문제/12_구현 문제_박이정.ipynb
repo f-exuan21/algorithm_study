{
 "cells": [
  {
   "cell_type": "markdown",
   "id": "e34cae94",
   "metadata": {},
   "source": [
    "# 7. 럭키 스트레이트"
   ]
  },
  {
   "cell_type": "markdown",
   "id": "2ccf62b3",
   "metadata": {},
   "source": [
    " - 게임의 아웃복서 캐릭터는 필살기인 '럭키 스트레이트' 기술\n",
    " - 매우 강력한 대신에 게임내 점수가 특정 조건을 만족할 때만 사용할 수 있음.\n",
    " - 특정 조건이란 현재 캐릭터의 점수를 N이라고 할 때 자릿수를 기준으로 점수 N을 반으로 나누어 왼쪽 부분의 각 자릿수의 합과 \n",
    "    오른쪽 부분의 각 자릿수의 합을 더한 값이 동일한 상황을 의미함.\n",
    " - 현재 점수 N이 주어지면, 럭키 스트레이트를 사용할 수 있는 상태인지 아닌지 알려주는 프로그램 작성."
   ]
  },
  {
   "cell_type": "markdown",
   "id": "9b390f15",
   "metadata": {},
   "source": [
    "## 입력 조건\n",
    " - 첫째 줄에 점수 N이 정수로 주어짐. (10 <= N <= 99,999,999) \n",
    " - 단, 정수 N의 자릿수는 항상 짝수 형태로 주어짐.\n",
    " - 예를 들어, 자릿수가 5인 12,345 같은 형태는 주어지지 않음."
   ]
  },
  {
   "cell_type": "markdown",
   "id": "5fb10f0d",
   "metadata": {},
   "source": [
    "## 출력 조건\n",
    " - 첫째 줄에 럭키 스트레이트를 사용할 수 있다면 \"LUCKY\", 사용할 수 없다면 \"READY\""
   ]
  },
  {
   "cell_type": "markdown",
   "id": "57fbdc33",
   "metadata": {},
   "source": [
    " - 정수형 데이터가 들어왔을 때 이를 각 자릿수로 구분하여 합을 계산해야 함.\n",
    " - 입력받은 데이터가 문자열 형태이므로, 문자열에서 각 문자를 하나씩 확인하며 정수형 변환한 뒤에 그 값을 합 변수에 더할 수 있음."
   ]
  },
  {
   "cell_type": "code",
   "execution_count": 2,
   "id": "5f5ff951",
   "metadata": {},
   "outputs": [
    {
     "name": "stdout",
     "output_type": "stream",
     "text": [
      "7755\n",
      "READY\n"
     ]
    }
   ],
   "source": [
    "n = input()\n",
    "length = len(n) #점수값으 총 자릿수\n",
    "summary = 0\n",
    "\n",
    "#왼쪽 부분의 자릿수 합 더하기\n",
    "for i in range(length // 2):\n",
    "    summary += int(n[i])\n",
    "    \n",
    "#오른쪽 부분의 자릿수 합 빼기\n",
    "for i in range(length // 2, length):\n",
    "    summary -= int(n[i])\n",
    "\n",
    "#왼쪽 부분과 오른쪽 부분의 자릿수 합이 동일한지 검사\n",
    "if summary == 0:\n",
    "    print(\"LUCKY\")\n",
    "else:\n",
    "    print(\"READY\")\n",
    "    "
   ]
  },
  {
   "cell_type": "markdown",
   "id": "6827cdf1",
   "metadata": {},
   "source": [
    "# 8. 문자열 재정렬\n",
    " - 알파벳 대문자의 숫자(0~9)로 구성된 문자열이 입력으로 주어짐.\n",
    " - 이때 모든 알파벳을 오름차순으로 정렬하여 이어서 출력한 뒤에, 그 뒤에 모든 숫자를 더한 값을 이어서 출력함.\n",
    " - 예를 들어, KIKA5CB7 이라는 값이 들어오면 ABCKK13을 출력"
   ]
  },
  {
   "cell_type": "markdown",
   "id": "2e388f4a",
   "metadata": {},
   "source": [
    "## 입력 조건\n",
    " - 첫째 줄에 하나의 문자열 S가 주어짐.(1 <= S의길이 <= 10,000)"
   ]
  },
  {
   "cell_type": "markdown",
   "id": "3abbfc1b",
   "metadata": {},
   "source": [
    "## 출력 조건\n",
    " - 첫째 줄에 문제에서 요구되는 정답을 출력"
   ]
  },
  {
   "cell_type": "code",
   "execution_count": 5,
   "id": "0147a88d",
   "metadata": {},
   "outputs": [
    {
     "name": "stdout",
     "output_type": "stream",
     "text": [
      "K1KA5CB7\n",
      "ABCKK13\n"
     ]
    }
   ],
   "source": [
    "data = input()\n",
    "result = []\n",
    "value = 0\n",
    "\n",
    "#문자를 하나씩 확인하며\n",
    "for x in data:\n",
    "    #알파벳인 경우 결과 리스트에 삽입\n",
    "    if x.isalpha():\n",
    "        result.append(x)\n",
    "    #숫자는 따로 더하기\n",
    "    else:\n",
    "        value += int(x)\n",
    "    \n",
    "#알파벳을 오름차순으로 정렬\n",
    "result.sort()\n",
    "\n",
    "#숫자가 하나라도 존재하는 경우에 가장 뒤에 삽입\n",
    "if value != 0:\n",
    "    result.append(str(value))\n",
    "    \n",
    "#최종 결과 출력(리스트를 문자열로 변환하여 출력)\n",
    "print(''.join(result))"
   ]
  },
  {
   "cell_type": "markdown",
   "id": "d0f455c7",
   "metadata": {},
   "source": [
    "# 9. 문자열 압축"
   ]
  },
  {
   "cell_type": "markdown",
   "id": "0800883c",
   "metadata": {},
   "source": [
    " - 입력으로 주어지는 문자열의 길이가 1,000이하이기 때문에 가능한 모든 경우의 수를 탐색하는 완전 탐색을 수행할 수 있음.\n",
    " - 길이가 N인 문자열이 입력되었다면 1부터 N/2 까지의 모든 수를 단위로 하여 문자열을 압축하는 방법을 모두 확인하고,\n",
    "    가장 짧게 압축되는 길이를 출력."
   ]
  },
  {
   "cell_type": "code",
   "execution_count": 8,
   "id": "181c3090",
   "metadata": {},
   "outputs": [],
   "source": [
    "# 프로그래머스 사이트에서 테스트 요망\n",
    "\n",
    "def solution(s):\n",
    "    answer = len(s)\n",
    "    # 1개 단위(step)부터 압축 단위를 늘려가며 확인\n",
    "    for step in range(1, len(s) // 2 + 1):\n",
    "        compressed = \"\"\n",
    "        prev = s[0:step] #앞에서부터 step만큼의 문자열 추출\n",
    "        count = 1\n",
    "        #단위(step) 크기만큼 증가시키며 이전 문자열과 비교\n",
    "        for j in range(step, len(s), step):\n",
    "            #이전 상태와 동일하다면 압축 횟수(count)증가\n",
    "            if prev == s[j:j + step]:\n",
    "                count += 1\n",
    "            #다른 문자열이 나왔다면(더이상 압축하지 못하는 경우라면)\n",
    "            else:\n",
    "                compressed += str(count) + prev if count >= 2 else prev\n",
    "                prev = s[j:j + step] # 다시 상태 초기화\n",
    "                count = 1\n",
    "        #남아 있는 문자열에 대해서 처리\n",
    "        compressed += str(count) + prev if count >= 2 else prev\n",
    "        #만들어지는 압축 문자열이 가장 짧은 것이 정답\n",
    "        answer = min(answer, len(compressed))\n",
    "    return answer        "
   ]
  },
  {
   "cell_type": "markdown",
   "id": "30870c84",
   "metadata": {},
   "source": [
    "# 10. 자물쇠와 열쇠"
   ]
  },
  {
   "cell_type": "code",
   "execution_count": null,
   "id": "4ac113e9",
   "metadata": {},
   "outputs": [],
   "source": [
    "# 프로그래머스 사이트에서 테스트 요망\n",
    "\n",
    "def rotate_a_matrix_by_90_degree(a):\n",
    "    n = len(a) #행 길이 계산\n",
    "    m = len(a[0]) # 열 길이 계산\n",
    "    result = [[0] * n for _ in range(m)] #결과 리스트\n",
    "    for in range(n):\n",
    "        for j in range(m):\n",
    "            result[j][n - i - 1] = a[i][j]\n",
    "        return result\n",
    "    \n",
    "def check(new_lock):\n",
    "    lock_length = len(new_lock) // 3\n",
    "    for i in range(lock_length, lock_length * 2):\n",
    "        for j in range(lock_length, lock_length * 2):\n",
    "            if new_lock[i][j] != 1:\n",
    "                return False\n",
    "    return True\n",
    "\n",
    "def solution(key, lock):\n",
    "    n = len(lock)\n",
    "    m = len(key)\n",
    "    \n",
    "    #자물쇠의 크기를 기존의 3배로 변환\n",
    "    new_lock = [[0] * (n * 3) for _ in range(n * 3)]\n",
    "    #새로운 자물쇠의 중앙 부분에 기존 자물쇠 넣기\n",
    "    for i in range(n):\n",
    "        for j in range(n):\n",
    "            new_lock[i + n][j + n] = lock[i][j]\n",
    "    \n",
    "    # 4가지 방향에 대해서 확인\n",
    "    for roration in range(4):\n",
    "        key = rotate_a_matrix_by_90_degree(key) #열쇠 회전\n",
    "        for x in range(n * 2):\n",
    "            for y in range(n * 2):\n",
    "                #자물쇠에 열쇠를 끼워 넣기\n",
    "                for i in range(m):\n",
    "                    for j in range(m):\n",
    "                        new_lock[x + i][y + j] += key[i][j]\n",
    "                \n",
    "                #새로운 자물쇠에 열쇠가 정확히 들어맞는지 검사\n",
    "                if check(new_lock) == True:\n",
    "                    return True\n",
    "                #자물쇠에서 열쇠를 다시 빼기\n",
    "                for i in ragne(m):\n",
    "                    for j in range(m):\n",
    "                        new_lock[x + i][y + j] -= key[i][j]\n",
    "    return False"
   ]
  },
  {
   "cell_type": "markdown",
   "id": "d2c49c6b",
   "metadata": {},
   "source": [
    "# 11. 뱀"
   ]
  },
  {
   "cell_type": "code",
   "execution_count": null,
   "id": "02a5c85f",
   "metadata": {},
   "outputs": [],
   "source": [
    "n = int(input())\n",
    "k = int(input())\n",
    "data [[0] * (n + 1) for _ in range(n + 1)] # 맵 정보\n",
    "info = [] #방향 회전 정보\n",
    "\n",
    "# 맵 정보(사과 있는 곳은 1로 표시)\n",
    "for _ in range(k):\n",
    "    a, b = map(int, input().split())\n",
    "    data[a][b] = 1\n",
    "\n",
    "# 방향 회전 정보 입력\n",
    "l = int(input())\n",
    "for _ in range(l):\n",
    "    x, c = input().split()\n",
    "    info.append(int(x), c))\n",
    "    \n",
    "#처음에는 오른쪽을 보고 있으므로(동, 서, 남, 북)\n",
    "\n",
    "dx = [0, 1, 0, -1]\n",
    "dy = [1, 0, -1, 0]\n",
    "\n",
    "def turn(direction, c):\n",
    "    if c == \"L\":\n",
    "        direction = (direction -1) % 4\n",
    "    else:\n",
    "        direction = (direction + 1) % 4\n",
    "    return direction\n",
    "\n",
    "def simulate():\n",
    "    x, y = 1, 1 #뱀 머리 위치\n",
    "    data[x][y] = 2 #뱀이 존재하는 위치는 2로 표시\n",
    "    direction = 0 #처음에는 동쪽을 보고 있음\n",
    "    time = 0 #시작한 뒤에 지난 '초' 시간\n",
    "    index = 0 #다음에 회전할 정보\n",
    "    q = [(x, y)] #뱀이 차지하고 있는 위치 정보(꼬리가 앞쪽)\n",
    "    while True:\n",
    "        nx = x + dx[direction]\n",
    "        ny = y + dy[direction]\n",
    "        \n",
    "        if 1 <= nx and nx <= n and 1 <= ny and ny <= n and data[nx][ny] != 2:\n",
    "            if data[nx][ny] == 0:\n",
    "                data[nx][ny] = 2\n",
    "                q.append((nx, ny))\n",
    "                px, py = q.pop(0)\n",
    "                data[px][py] = 0\n",
    "            if data[nx][ny] == 1:\n",
    "                data[nx][ny] = 2\n",
    "                q.append((nx, ny))\n",
    "        else:\n",
    "            time += 1\n",
    "            break\n",
    "        x, y = nx, ny\n",
    "        time += 1\n",
    "        if index < 1and time == info[index][0]:\n",
    "            direction = turn(direction, info[index][1])\n",
    "            index += 1\n",
    "    return time\n",
    "\n",
    "print(simulate())\n",
    "\n"
   ]
  },
  {
   "cell_type": "markdown",
   "id": "883ce680",
   "metadata": {},
   "source": [
    "# 12. 기둥과 보 설치"
   ]
  },
  {
   "cell_type": "code",
   "execution_count": null,
   "id": "f6b84462",
   "metadata": {},
   "outputs": [],
   "source": [
    "# 프로그래머스 사이트에서 테스트 요망\n",
    "\n",
    "def possible(answer):\n",
    "    for x, y stuff in answer:\n",
    "        if stuff == 0:\n",
    "            if y == 0 or [x - 1, y - 1] in answer or [x, y, 1] in answer or [x, y - 1, 0] in answer:\n",
    "                continue\n",
    "            return False\n",
    "        elif stuff == 1:\n",
    "            if [x, y - 1, 0] in answer or [x + 1, y - 1, 0] in answer or ([x - 1, y, 1] in answer and [x + 1, y, 1] in answer):\n",
    "                continue\n",
    "            return False\n",
    "\n",
    "    return True\n",
    "\n",
    "def solution(n, build_frame):\n",
    "    answer = []\n",
    "    for frame in build_frame:\n",
    "        x, y, stuff, operate = frame\n",
    "        if operate == 0:\n",
    "            answer.remove([x, y, stuff])\n",
    "            if not possible(answer):\n",
    "                answer.append([x, y, stuff])\n",
    "        if operate == 1:\n",
    "            answer.append([x, y, stuff])\n",
    "            if not possible(answer):\n",
    "                answer.remove([x, y, stuff])\n",
    "    return sorted(answer)"
   ]
  },
  {
   "cell_type": "markdown",
   "id": "fe7fc7e2",
   "metadata": {},
   "source": [
    "# 13. 치킨 배달"
   ]
  },
  {
   "cell_type": "code",
   "execution_count": null,
   "id": "0effc0e8",
   "metadata": {},
   "outputs": [],
   "source": [
    "from itertools import combinations\n",
    "\n",
    "n, m = map(int, input().split())\n",
    "chicken, house = [], []\n",
    "\n",
    "for r in range(n):\n",
    "    data = list(map(int, input().split()))\n",
    "    for c in range(n):\n",
    "        if data[c] == 1:\n",
    "            house.append((r,c))\n",
    "        elif data[c] == 2:\n",
    "            chicken.append((r,c))\n",
    "            \n",
    "candidates = list(combinations(chicken, m))\n",
    "\n",
    "def get_sum(candidate):\n",
    "    result = 0\n",
    "    for hx, hy in house:\n",
    "        temp = 1e9\n",
    "        for cx, cy in candidate:\n",
    "            temp = min(temp, abs(hx - cx) + abs(hy - cy))\n",
    "        result += temp\n",
    "    return result\n",
    "\n",
    "result = 1e9\n",
    "for candidate in candidates:\n",
    "    result = min(result, get_sum(candidate))\n",
    "\n",
    "print(result)"
   ]
  },
  {
   "cell_type": "markdown",
   "id": "501644ee",
   "metadata": {},
   "source": [
    "# 14. 외벽 점검"
   ]
  },
  {
   "cell_type": "code",
   "execution_count": null,
   "id": "31080a13",
   "metadata": {},
   "outputs": [],
   "source": [
    "# 프로그래머스 사이트에서 테스트 요망\n",
    "from itertools import combinations\n",
    "\n",
    "def solution(n, weak, dist):\n",
    "    length = len(weak)\n",
    "    for i in range(length):\n",
    "        weak.append(weak[i] + n)\n",
    "    answer = len(dist) + 1\n",
    "    for start in range(length):\n",
    "        for friends in list(permutations(dist, len(dist))):\n",
    "            count = 1\n",
    "            position = weak[start] + friends[count - 1]\n",
    "            for index in range(start, start + length):\n",
    "                if position < weak[index]:\n",
    "                    count += 1\n",
    "                    if count > len(dist):\n",
    "                        break\n",
    "                    position = weak[index] + friends[count - 1]\n",
    "            answer = min(answer, count)\n",
    "    if answer > len(dist):\n",
    "        return -1\n",
    "    return answer"
   ]
  }
 ],
 "metadata": {
  "kernelspec": {
   "display_name": "Python 3 (ipykernel)",
   "language": "python",
   "name": "python3"
  },
  "language_info": {
   "codemirror_mode": {
    "name": "ipython",
    "version": 3
   },
   "file_extension": ".py",
   "mimetype": "text/x-python",
   "name": "python",
   "nbconvert_exporter": "python",
   "pygments_lexer": "ipython3",
   "version": "3.8.11"
  }
 },
 "nbformat": 4,
 "nbformat_minor": 5
}
