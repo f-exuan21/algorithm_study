{
 "cells": [
  {
   "cell_type": "markdown",
   "id": "f6ad99e4",
   "metadata": {},
   "source": [
    "# CHAPTER 07. 이진탐색\n",
    "- 탐색 범위를 반으로 좁혀가며 빠르게 탐색하는 알고리즘\n",
    "- 순차 탐색 (Sequential Search) : 리스트 안에 있는 특정한 데이터를 찾기 위해 앞에서부터 데이터를 하나씩 차례대로 확인하는 방법 O(N)\n",
    "- 이진 탐색 (Binary Search) : 찾으려는 데이터와 중간점 위치에 있는 데이터를 반복적으로 비교  O(logN)"
   ]
  },
  {
   "cell_type": "code",
   "execution_count": 2,
   "id": "79693399",
   "metadata": {},
   "outputs": [
    {
     "name": "stdout",
     "output_type": "stream",
     "text": [
      "생성한 원소 개수를 입력한 다음 한 칸 띄고 찾을 문자열을 입력하세요.\n",
      "5 Dongbin\n",
      "앞서 적은 원소 개수만큼 문자열을 입력하세요, 구분은 띄어쓰기 한 칸을 합니다.\n",
      "Hanul Jonggu Dongbin Taeil Sangwook\n",
      "3\n"
     ]
    }
   ],
   "source": [
    "# 순차 탐색 예제\n",
    "def sequential_search(n, target, array):\n",
    "    # 각 원소를 하나씩 확인하며\n",
    "    for i in range(n):\n",
    "        # 현재의 원소가 찾고자 하는 원소와 동일한 경우\n",
    "        if array[i] == target:\n",
    "            return i + 1 # 현재의 위치 반환 (인덱스는 0부터 시작하므로 +1)\n",
    "print(\"생성한 원소 개수를 입력한 다음 한 칸 띄고 찾을 문자열을 입력하세요.\")\n",
    "input_data = input().split()\n",
    "n = int(input_data[0])\n",
    "target = input_data[1]\n",
    "\n",
    "print(\"앞서 적은 원소 개수만큼 문자열을 입력하세요, 구분은 띄어쓰기 한 칸을 합니다.\")\n",
    "array = input().split()\n",
    "\n",
    "# 순차 탐색 수행 결과 출력\n",
    "print(sequential_search(n, target, array))"
   ]
  },
  {
   "cell_type": "code",
   "execution_count": 3,
   "id": "003081c9",
   "metadata": {},
   "outputs": [
    {
     "name": "stdout",
     "output_type": "stream",
     "text": [
      "10 7\n",
      "1 3 5 7 9 11 13 15 17 19\n",
      "4\n"
     ]
    }
   ],
   "source": [
    "# 이진 탐색 예제\n",
    "# 재귀함수 Version\n",
    "def binary_search(array, target, start, end):\n",
    "    if start > end:\n",
    "        return None\n",
    "    mid = (start + end) // 2\n",
    "    # 찾은 경우 중간점 인덱스 반환\n",
    "    if array[mid] == target:\n",
    "        return mid\n",
    "    # 중간점의 값보다 찾고자 하는 값이 작은 경우 왼쪽 확인\n",
    "    elif array[mid] > target:\n",
    "        return binary_search(array, target, start, mid - 1)\n",
    "    # 중간점의 값보다 찾고자 하는 값이 큰 경우 오른쪽 확인\n",
    "    else:\n",
    "        return binary_search(array, target, mid + 1, end)\n",
    "\n",
    "n, target = list(map(int, input().split()))\n",
    "array = list(map(int, input().split()))\n",
    "\n",
    "# 이진 탐색 결과 출력\n",
    "result = binary_search(array, target, 0, n-1)\n",
    "if result == None:\n",
    "    print(\"원소가 존재하지 않습니다.\")\n",
    "else:\n",
    "    print(result + 1)"
   ]
  },
  {
   "cell_type": "code",
   "execution_count": 5,
   "id": "53c699df",
   "metadata": {},
   "outputs": [
    {
     "name": "stdout",
     "output_type": "stream",
     "text": [
      "4\n"
     ]
    }
   ],
   "source": [
    "# 이진 탐색 예제\n",
    "# 반복문 Version\n",
    "def binary_search(array, target, start, end):\n",
    "    while start <= end:\n",
    "        mid = (start + end) // 2\n",
    "        # 찾은 경우 중간점 인덱스 반환\n",
    "        if array[mid] == target:\n",
    "            return mid\n",
    "        # 중간점의 값보다 찾고자 하는 값이 적은 경우 왼쪽 확인\n",
    "        elif array[mid] > target:\n",
    "            end = mid - 1\n",
    "        # 중간점의 값보다 찾고자 하는 값이 큰 경우 오른쪽 확인\n",
    "        else:\n",
    "            start = mid + 1\n",
    "    return None\n",
    "\n",
    "# 이진 탐색 결과 출력\n",
    "result = binary_search(array, target, 0, n-1)\n",
    "if result == None:\n",
    "    print(\"원소가 존재하지 않습니다.\")\n",
    "else:\n",
    "    print(result + 1)"
   ]
  },
  {
   "cell_type": "code",
   "execution_count": 8,
   "id": "f5bfc731",
   "metadata": {},
   "outputs": [
    {
     "name": "stdout",
     "output_type": "stream",
     "text": [
      "\n"
     ]
    }
   ],
   "source": [
    "# 빠른 입력\n",
    "# Jupyter Notebook 에서는 작동 X\n",
    "import sys\n",
    "input_data = sys.stdin.readline().rstrip()\n",
    "\n",
    "print(input_data)"
   ]
  },
  {
   "cell_type": "markdown",
   "id": "1c8a0e26",
   "metadata": {},
   "source": [
    "## 실전문제. 부품 찾기\n",
    "- 전자 매장에 부품이 N 개 있다.각 부품은 정수 형태의 고유한 번호가 있 다.\n",
    "- 손님이 M개 종류의 부품을 확인해 달라고 할때 있으면 yes, 없으면 no 출력"
   ]
  },
  {
   "cell_type": "code",
   "execution_count": 9,
   "id": "d8838610",
   "metadata": {},
   "outputs": [
    {
     "name": "stdout",
     "output_type": "stream",
     "text": [
      "5\n",
      "8 3 7 9 2\n",
      "3\n",
      "5 7 9\n",
      "no yes yes "
     ]
    }
   ],
   "source": [
    "# 이진 탐색 Version\n",
    "def binary_search(array, target, start, end):\n",
    "    while start <= end:\n",
    "        mid = (start + end) // 2\n",
    "        # 찾은 경우 중간점 인덱스 반환\n",
    "        if array[mid] == target:\n",
    "            return mid\n",
    "        # 중간점의 값보다 찾고자 하는 값이 적은 경우 왼쪽 확인\n",
    "        elif array[mid] > target:\n",
    "            end = mid - 1\n",
    "        # 중간점의 값보다 찾고자 하는 값이 큰 경우 오른쪽 확인\n",
    "        else:\n",
    "            start = mid + 1\n",
    "    return None\n",
    "\n",
    "n = int(input())\n",
    "# 가게에 있는 전체 부품 번호를 공백으로 구분하여 입력\n",
    "array = list(map(int, input().split()))\n",
    "array.sort() # 이진 탐색을 위한 정렬\n",
    "\n",
    "m = int(input())\n",
    "# 손님이 확인 요청한 전체 부품 번호를 공백으로 구분하여 입력\n",
    "x = list(map(int, input().split()))\n",
    "\n",
    "# 손님이 확인 요청한 부품 번호를 하나씩 확인\n",
    "for i in x:\n",
    "    # 해당 부품이 존재하는지 확인\n",
    "    result = binary_search(array, i, 0, n-1)\n",
    "    if result != None:\n",
    "        print('yes', end=\" \")\n",
    "    else:\n",
    "        print(\"no\", end=\" \")"
   ]
  },
  {
   "cell_type": "code",
   "execution_count": 10,
   "id": "5ba002f0",
   "metadata": {},
   "outputs": [
    {
     "name": "stdout",
     "output_type": "stream",
     "text": [
      "5\n",
      "8 3 7 9 2\n",
      "3\n",
      "5 7 9\n",
      "no yes yes "
     ]
    }
   ],
   "source": [
    "# 계수 정렬 Version\n",
    "n = int(input())\n",
    "array = [0] * 1000001\n",
    "\n",
    "# 가게에 있는 전체 부품 번호를 입력받아서 기록\n",
    "for i in input().split():\n",
    "    array[int(i)] = 1\n",
    "\n",
    "m = int(input())\n",
    "# 손님이 확인 요청한 전체 부품 번호를 공백으로 구분하여 입력\n",
    "x = list(map(int, input().split()))\n",
    "\n",
    "# 손님이 확인 요청한 부품 번호를 하나씩 확인\n",
    "for i in x:\n",
    "    # 해당 부품이 존재하는지 확인\n",
    "    if array[i] == 1:\n",
    "        print(\"yes\", end=\" \")\n",
    "    else:\n",
    "        print(\"no\", end=\" \")"
   ]
  },
  {
   "cell_type": "code",
   "execution_count": 11,
   "id": "3b3e2754",
   "metadata": {},
   "outputs": [
    {
     "name": "stdout",
     "output_type": "stream",
     "text": [
      "5\n",
      "8 3 7 9 2\n",
      "3\n",
      "5 7 9\n",
      "no yes yes "
     ]
    }
   ],
   "source": [
    "# 집합 자료형 Version\n",
    "n = int(input())\n",
    "# 가게에 있는 전체 부품 번호를 입력받아서 집합(set) 자료형에 기록\n",
    "array = set(map(int, input().split()))\n",
    "\n",
    "m = int(input())\n",
    "# 손님이 확인 요청한 전체 부품 번호를 공백으로 구분하여 입력\n",
    "x = list(map(int, input().split()))\n",
    "\n",
    "# 손님이 확인 요청한 부품 번호를 하나씩 확인\n",
    "for i in x:\n",
    "    # 해당 부품이 존재하는지 확인\n",
    "    if i in array:\n",
    "        print(\"yes\", end=\" \")\n",
    "    else:\n",
    "        print(\"no\", end=\" \")"
   ]
  },
  {
   "cell_type": "markdown",
   "id": "0a34b5c8",
   "metadata": {},
   "source": [
    "## 떡볶이 떡 만들기\n",
    "- 절단기 높이 H를 지정하면 줄지어진 떡을 한 번에 절단한다.\n",
    "- 손님이 요청한 총 길이가 M일 때 적어도 M만큼의 떡을 얻기 위해 절단기에 설정할 수 있는 높이의 최댓값을 구하는 프로그램을 작성\n",
    "- ex) 높이가 19, 14, 10, 17cm 인 떡이 나란히 있고, 절단기 높이를 15cm로 지정하면 자른 뒤 떡의 높이는\n",
    "- 15, 14, 10, 15cm 가 죌 것이고, 잘린 떡의 길이는 차례대로 4, 0, 0, 2cm 이다. 손님은 6cm 만큼의 길이를 가져간다"
   ]
  },
  {
   "cell_type": "code",
   "execution_count": 12,
   "id": "4f8c869b",
   "metadata": {},
   "outputs": [
    {
     "name": "stdout",
     "output_type": "stream",
     "text": [
      "4 6\n",
      "19 15 10 17\n",
      "15\n"
     ]
    }
   ],
   "source": [
    "# 떡의 개수 N 와 요청한 떡의 길이 M 을 입력받기\n",
    "n, m = list(map(int, input().split(' ')))\n",
    "# 각 떡의 개별 높이 정보를 입력받기\n",
    "array = list(map(int, input().split()))\n",
    "\n",
    "# 이진 참색을 위한 시작점과 끝점 설정\n",
    "start = 0\n",
    "end = max(array)\n",
    "\n",
    "# 이진 탐색 수행\n",
    "result = 0\n",
    "while (start <= end):\n",
    "    total = 0\n",
    "    mid = (start + end) // 2\n",
    "    for x in array:\n",
    "        # 잘랐을 때의 떡의 양 계산\n",
    "        if x > mid:\n",
    "            total += x - mid\n",
    "    # 떡의 양이 부족한 경우 더 많이 자르기 (왼쪽 부분 탐색)\n",
    "    if total < m:\n",
    "        end = mid - 1\n",
    "    # 떡의 양이 충분한 경우 덜 자르기 (오른쪽 부분 탐색)\n",
    "    else:\n",
    "        result = mid # 최대한 덜 잘랐을 떄가 정답이므로, 여기에서 result에 기록\n",
    "        start = mid + 1\n",
    "        \n",
    "print(result)"
   ]
  },
  {
   "cell_type": "code",
   "execution_count": null,
   "id": "942bad33",
   "metadata": {},
   "outputs": [],
   "source": []
  }
 ],
 "metadata": {
  "kernelspec": {
   "display_name": "Python 3 (ipykernel)",
   "language": "python",
   "name": "python3"
  },
  "language_info": {
   "codemirror_mode": {
    "name": "ipython",
    "version": 3
   },
   "file_extension": ".py",
   "mimetype": "text/x-python",
   "name": "python",
   "nbconvert_exporter": "python",
   "pygments_lexer": "ipython3",
   "version": "3.8.11"
  }
 },
 "nbformat": 4,
 "nbformat_minor": 5
}
