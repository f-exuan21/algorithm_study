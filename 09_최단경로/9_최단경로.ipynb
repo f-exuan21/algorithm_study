{
 "cells": [
  {
   "cell_type": "markdown",
   "id": "d1a7a93d",
   "metadata": {},
   "source": [
    "# Chapter 09. 최단경로"
   ]
  },
  {
   "cell_type": "markdown",
   "id": "5a9deeed",
   "metadata": {},
   "source": [
    "## 1. 가장 빠른 길 찾기"
   ]
  },
  {
   "cell_type": "markdown",
   "id": "1592de98",
   "metadata": {},
   "source": [
    "### 가장 빠르게 도달하는 방법\n",
    "- 최단 경로(Shortest Path)알고리즘: 가장 짧은 경로를 찾는 알고리즘으로 '길 찾기'문제라고도 불린다"
   ]
  },
  {
   "cell_type": "markdown",
   "id": "d916971a",
   "metadata": {},
   "source": [
    "### 다익스트라 최단 경로 알고리즘\n",
    "- 그래프에서 여러 개의 노드가 있을 때, 특정한 노드에서 출발하여 다른 노드로 가는 각각의 최단 경로를 구해주는 알고리즘이다.\n",
    "- 매번 '가장 비용이 적은 노드'를 선택해서 과정을 반복하기 때문에 그리디 알고리즘으로 분류된다\n",
    "- 알고리즘 원리는 다음과 같다\n",
    "1. 출발 노드 설정\n",
    "2. 최단 거리 테이블 초기화\n",
    "3. 방문하지 않은 노드 중에서 최단 거리가 가장 짧은 노드 선택\n",
    "4. 해당 노드를 거쳐 다른 노드로 가는 비용을 계산하여 최단 거리 테이블 갱신\n",
    "5. 3,4 과정 반복"
   ]
  },
  {
   "cell_type": "markdown",
   "id": "a1e21702",
   "metadata": {},
   "source": [
    "#### 방법1. 간단한 다익스트라 알고리즘 \n",
    "- $O(V^2)$의 시간복잡도 보장"
   ]
  },
  {
   "cell_type": "code",
   "execution_count": 26,
   "id": "8c0a00ba",
   "metadata": {},
   "outputs": [],
   "source": [
    "del input"
   ]
  },
  {
   "cell_type": "code",
   "execution_count": 23,
   "id": "24c9ec94",
   "metadata": {},
   "outputs": [
    {
     "name": "stdout",
     "output_type": "stream",
     "text": [
      "6 11\n",
      "1\n",
      "1 2 2\n",
      "1 3 5\n",
      "1 4 1\n",
      "2 3 3\n",
      "2 4 2\n",
      "3 2 3\n",
      "3 6 5\n",
      "4 3 3\n",
      "4 5 1\n",
      "5 3 1\n",
      "5 6 2\n",
      "0\n",
      "2\n",
      "3\n",
      "1\n",
      "2\n",
      "4\n"
     ]
    }
   ],
   "source": [
    "import sys\n",
    "# input = sys.stdin.readline\n",
    "INF = int(1e9) # 무한을 의미하는 값으로 10억을 설정\n",
    "\n",
    "# 노드의 개수, 간선의 개수를 입력받기\n",
    "n, m = map(int, input().split())\n",
    "# 시작 노드 번호를 입력받기\n",
    "start = int(input())\n",
    "# 각 노드에 연결되어 있는 노드에 대한 정보를 담는 리스트를 만들기\n",
    "graph = [[] for i in range(n + 1)]\n",
    "# 방문한 적이 있는지 체크하는 목적의 리스트를 만들기\n",
    "visited = [False] * (n + 1)\n",
    "# 최단 거리 테이블을 모두 무한으로 초기화\n",
    "distance = [INF] * (n + 1)\n",
    "\n",
    "# 모든 간선 정보를 입력받기\n",
    "for _ in range(m):\n",
    "    a, b, c = map(int, input().split())\n",
    "    # a번 노드에서 b번 노드로 가는 비용이 c라는 의미\n",
    "    graph[a].append((b, c))\n",
    "\n",
    "# 방문하지 않은 노드 중에서, 가장 최단 거리가 짧은 노드의 번호를 반환\n",
    "def get_smallest_node():\n",
    "    min_value = INF\n",
    "    index = 0 # 가장 최단 거리가 짧은 노드(인덱스)\n",
    "    for i in range(1, n + 1):\n",
    "        if distance[i] < min_value and not visited[i]:\n",
    "            min_value = distance[i]\n",
    "            index = i\n",
    "    return index\n",
    "\n",
    "def dijkstra(start):\n",
    "    # 시작 노드에 대해서 초기화\n",
    "    distance[start] = 0\n",
    "    visited[start] = True\n",
    "    for j in graph[start]:\n",
    "        distance[j[0]] = j[1]\n",
    "    # 시작 노드를 제외한 전체 n - 1개의 노드에 대해 반복\n",
    "    for i in range(n - 1):\n",
    "        # 현재 최단 거리가 가장 짧은 노드를 꺼내서, 방문 처리\n",
    "        now = get_smallest_node()\n",
    "        visited[now] = True\n",
    "        # 현재 노드와 연결된 다른 노드를 확인\n",
    "        for j in graph[now]:\n",
    "            cost = distance[now] + j[1]\n",
    "            # 현재 노드를 거쳐서 다른 노드로 이동하는 거리가 더 짧은 경우\n",
    "            if cost < distance[j[0]]:\n",
    "                distance[j[0]] = cost\n",
    "\n",
    "# 다익스트라 알고리즘을 수행\n",
    "dijkstra(start)\n",
    "\n",
    "# 모든 노드로 가기 위한 최단 거리를 출력\n",
    "for i in range(1, n + 1):\n",
    "    # 도달할 수 없는 경우, 무한(INFINITY)이라고 출력\n",
    "    if distance[i] == INF:\n",
    "        print(\"INFINITY\")\n",
    "    # 도달할 수 있는 경우 거리를 출력\n",
    "    else:\n",
    "        print(distance[i])"
   ]
  },
  {
   "cell_type": "markdown",
   "id": "bd3c2b07",
   "metadata": {},
   "source": [
    "#### 방법2. 개선된 다익스트라 알고리즘\n",
    "- $O(ElogV)$ 보장 (V는 노드의 개수, E는 간선의 개수)\n",
    "- 힙(heap)"
   ]
  },
  {
   "cell_type": "code",
   "execution_count": 27,
   "id": "7ed8543f",
   "metadata": {},
   "outputs": [
    {
     "name": "stdout",
     "output_type": "stream",
     "text": [
      "6 11\n",
      "1\n",
      "1 2 2\n",
      "1 3 5\n",
      "1 4 1\n",
      "2 3 3\n",
      "2 4 2\n",
      "3 2 3\n",
      "3 6 5\n",
      "4 3 3\n",
      "4 5 1\n",
      "5 3 1\n",
      "5 6 2\n",
      "0\n",
      "2\n",
      "3\n",
      "1\n",
      "2\n",
      "4\n"
     ]
    }
   ],
   "source": [
    "import heapq\n",
    "import sys\n",
    "#input = sys.stdin.readline\n",
    "INF = int(1e9) # 무한을 의미하는 값으로 10억을 설정\n",
    "\n",
    "# 노드의 개수, 간선의 개수를 입력받기\n",
    "n, m = map(int, input().split())\n",
    "# 시작 노드 번호를 입력받기\n",
    "start = int(input())\n",
    "# 각 노드에 연결되어 있는 노드에 대한 정보를 담는 리스트를 만들기\n",
    "graph = [[] for i in range(n + 1)]\n",
    "# 최단 거리 테이블을 모두 무한으로 초기화\n",
    "distance = [INF] * (n + 1)\n",
    "\n",
    "# 모든 간선 정보를 입력받기\n",
    "for _ in range(m):\n",
    "    a, b, c = map(int, input().split())\n",
    "    # a번 노드에서 b번 노드로 가는 비용이 c라는 의미\n",
    "    graph[a].append((b, c))\n",
    "\n",
    "def dijkstra(start):\n",
    "    q = []\n",
    "    # 시작 노드로 가기 위한 최단 경로는 0으로 설정하여, 큐에 삽입\n",
    "    heapq.heappush(q, (0, start))\n",
    "    distance[start] = 0\n",
    "    while q: # 큐가 비어있지 않다면\n",
    "        # 가장 최단 거리가 짧은 노드에 대한 정보 꺼내기\n",
    "        dist, now = heapq.heappop(q)\n",
    "        # 현재 노드가 이미 처리된 적이 있는 노드라면 무시\n",
    "        if distance[now] < dist:\n",
    "            continue\n",
    "        # 현재 노드와 연결된 다른 인접한 노드들을 확인\n",
    "        for i in graph[now]:\n",
    "            cost = dist + i[1]\n",
    "            # 현재 노드를 거쳐서, 다른 노드로 이동하는 거리가 더 짧은 경우\n",
    "            if cost < distance[i[0]]:\n",
    "                distance[i[0]] = cost\n",
    "                heapq.heappush(q, (cost, i[0]))\n",
    "\n",
    "# 다익스트라 알고리즘을 수행\n",
    "dijkstra(start)\n",
    "\n",
    "# 모든 노드로 가기 위한 최단 거리를 출력\n",
    "for i in range(1, n + 1):\n",
    "    # 도달할 수 없는 경우, 무한(INFINITY)이라고 출력\n",
    "    if distance[i] == INF:\n",
    "        print(\"INFINITY\")\n",
    "    # 도달할 수 있는 경우 거리를 출력\n",
    "    else:\n",
    "        print(distance[i])"
   ]
  },
  {
   "cell_type": "markdown",
   "id": "e730218c",
   "metadata": {},
   "source": [
    "### 플로이드 워셜 알고리즘\n",
    "- 모든 지점에서 다른 모든 지점까지의 최단 경로를 모두 구해야 하는 경우에 사용"
   ]
  },
  {
   "cell_type": "code",
   "execution_count": 28,
   "id": "3f69b886",
   "metadata": {},
   "outputs": [
    {
     "name": "stdout",
     "output_type": "stream",
     "text": [
      "4\n",
      "7\n",
      "1 2 4\n",
      "1 4 6\n",
      "2 1 3\n",
      "2 3 7\n",
      "3 1 5\n",
      "3 4 4\n",
      "4 3 2\n",
      "0 4 8 6 \n",
      "3 0 7 9 \n",
      "5 9 0 4 \n",
      "7 11 2 0 \n"
     ]
    }
   ],
   "source": [
    "INF = int(1e9) # 무한을 의미하는 값으로 10억을 설정\n",
    "\n",
    "# 노드의 개수 및 간선의 개수를 입력받기\n",
    "n = int(input())\n",
    "m = int(input())\n",
    "# 2차원 리스트(그래프 표현)를 만들고, 모든 값을 무한으로 초기화\n",
    "graph = [[INF] * (n + 1) for _ in range(n + 1)]\n",
    "\n",
    "# 자기 자신에서 자기 자신으로 가는 비용은 0으로 초기화\n",
    "for a in range(1, n + 1):\n",
    "    for b in range(1, n + 1):\n",
    "        if a == b:\n",
    "            graph[a][b] = 0\n",
    "\n",
    "# 각 간선에 대한 정보를 입력 받아, 그 값으로 초기화\n",
    "for _ in range(m):\n",
    "    # A에서 B로 가는 비용은 C라고 설정\n",
    "    a, b, c = map(int, input().split())\n",
    "    graph[a][b] = c\n",
    "\n",
    "# 점화식에 따라 플로이드 워셜 알고리즘을 수행\n",
    "for k in range(1, n + 1):\n",
    "    for a in range(1, n + 1):\n",
    "        for b in range(1, n + 1):\n",
    "            graph[a][b] = min(graph[a][b], graph[a][k] + graph[k][b])\n",
    "\n",
    "# 수행된 결과를 출력\n",
    "for a in range(1, n + 1):\n",
    "    for b in range(1, n + 1):\n",
    "        # 도달할 수 없는 경우, 무한(INFINITY)이라고 출력\n",
    "        if graph[a][b] == 1e9:\n",
    "            print(\"INFINITY\", end=\" \")\n",
    "        # 도달할 수 있는 경우 거리를 출력\n",
    "        else:\n",
    "            print(graph[a][b], end=\" \")\n",
    "    print()"
   ]
  },
  {
   "cell_type": "markdown",
   "id": "f61499f5",
   "metadata": {},
   "source": [
    "## 2. 미래 도시\n",
    "- 공중 미래 도시에는 1번부터 N번까지의 회사가 있고 특정 회사끼리는 서로 도로를 통해 연결되어있다.\n",
    "- 방문판매원A는 현재 1번 회사에 위치해 있고 X번 회사에 방문해 물건을 판매하고자 한다.\n",
    "- 특정 회사에 도착하기 위해서 연결된 도로를 이용하는 방법이 유일하고 1만큼의 시간이 걸린다(양방향 도로)\n",
    "- A는 소개팅에도 참석하고자 하고 상대는 K번 회사에 존재한다\n",
    "- A는 1번 회사에서 K번 회사를 방문하고 X번 회사로 가장 빠르게 가는 것이 목표이다.\n",
    "- A가 회사 사이를 이동하게 되는 최소시간을 계산하는 프로그램 작성"
   ]
  },
  {
   "cell_type": "code",
   "execution_count": 29,
   "id": "3ca68f16",
   "metadata": {},
   "outputs": [
    {
     "name": "stdout",
     "output_type": "stream",
     "text": [
      "5 7\n",
      "1 2\n",
      "1 3\n",
      "1 4\n",
      "2 4\n",
      "3 4\n",
      "3 5\n",
      "4 5\n",
      "4 5\n",
      "3\n"
     ]
    }
   ],
   "source": [
    "INF = int(1e9) # 무한을 의미하는 값으로 10억을 설정\n",
    "\n",
    "# 노드의 개수 및 간선의 개수를 입력받기\n",
    "n, m = map(int, input().split())\n",
    "# 2차원 리스트(그래프 표현)를 만들고, 모든 값을 무한으로 초기화\n",
    "graph = [[INF] * (n + 1) for _ in range(n + 1)]\n",
    "\n",
    "# 자기 자신에서 자기 자신으로 가는 비용은 0으로 초기화\n",
    "for a in range(1, n + 1):\n",
    "    for b in range(1, n + 1):\n",
    "        if a == b:\n",
    "            graph[a][b] = 0\n",
    "\n",
    "# 각 간선에 대한 정보를 입력 받아, 그 값으로 초기화\n",
    "for _ in range(m):\n",
    "    # A와 B가 서로에게 가는 비용은 1이라고 설정\n",
    "    a, b = map(int, input().split())\n",
    "    graph[a][b] = 1\n",
    "    graph[b][a] = 1\n",
    "\n",
    "# 거쳐 갈 노드 X와 최종 목적지 노드 K를 입력받기\n",
    "x, k = map(int, input().split())\n",
    "\n",
    "# 점화식에 따라 플로이드 워셜 알고리즘을 수행\n",
    "for k in range(1, n + 1):\n",
    "    for a in range(1, n + 1):\n",
    "        for b in range(1, n + 1):\n",
    "            graph[a][b] = min(graph[a][b], graph[a][k] + graph[k][b])\n",
    "\n",
    "# 수행된 결과를 출력\n",
    "distance = graph[1][k] + graph[k][x]\n",
    "\n",
    "# 도달할 수 없는 경우, -1을 출력\n",
    "if distance >= 1e9:\n",
    "    print(\"-1\")\n",
    "# 도달할 수 있다면, 최단 거리를 출력\n",
    "else:\n",
    "    print(distance)"
   ]
  },
  {
   "cell_type": "markdown",
   "id": "df094c31",
   "metadata": {},
   "source": [
    "## 3. 전보\n",
    "- 어떤 나라에는 N개의 도시가 있다\n",
    "- X라는 도시에서 Y라는 도시에 전보를 보내고자 한다면 통로가 설치되어 있어야한다(일방향 통로, 통로 거칠때 일정 시간 소요)\n",
    "- C라는 도시에 위급상황이 발생했고 최대한 많은 도시로 전보를 보내고자 한다\n",
    "- 각 도시의 번호와 통로가 설치되어 있는 정보가 주어졌을 때 도시 C에서 보낸 매세지를 받게 되는 도시의 개수는 총 몇개이며 도시들이 모두 메시지를 받는 데까지 걸리는 시간을 계산하는 프로그램 작성"
   ]
  },
  {
   "cell_type": "code",
   "execution_count": 31,
   "id": "d8137c83",
   "metadata": {},
   "outputs": [],
   "source": [
    "del input"
   ]
  },
  {
   "cell_type": "code",
   "execution_count": 32,
   "id": "9d88e147",
   "metadata": {},
   "outputs": [
    {
     "name": "stdout",
     "output_type": "stream",
     "text": [
      "3 2 1\n",
      "1 2 4\n",
      "1 3 2\n",
      "2 4\n"
     ]
    }
   ],
   "source": [
    "import heapq\n",
    "import sys\n",
    "#input = sys.stdin.readline\n",
    "INF = int(1e9) # 무한을 의미하는 값으로 10억을 설정\n",
    "\n",
    "# 노드의 개수, 간선의 개수, 시작 노드를 입력받기\n",
    "n, m, start = map(int, input().split())\n",
    "# 각 노드에 연결되어 있는 노드에 대한 정보를 담는 리스트를 만들기\n",
    "graph = [[] for i in range(n + 1)]\n",
    "# 최단 거리 테이블을 모두 무한으로 초기화\n",
    "distance = [INF] * (n + 1)\n",
    "\n",
    "# 모든 간선 정보를 입력받기\n",
    "for _ in range(m):\n",
    "    x, y, z = map(int, input().split())                  \n",
    "    # X번 노드에서 Y번 노드로 가는 비용이 Z라는 의미\n",
    "    graph[x].append((y, z))\n",
    "\n",
    "def dijkstra(start):\n",
    "   q = []\n",
    "   # 시작 노드로 가기 위한 최단 경로는 0으로 설정하여, 큐에 삽입\n",
    "   heapq.heappush(q, (0, start))\n",
    "   distance[start] = 0\n",
    "   while q: # 큐가 비어있지 않다면\n",
    "        # 가장 최단 거리가 짧은 노드에 대한 정보를 꺼내기\n",
    "        dist, now = heapq.heappop(q)\n",
    "        if distance[now] < dist:\n",
    "            continue\n",
    "        # 현재 노드와 연결된 다른 인접한 노드들을 확인                                    \n",
    "        for i in graph[now]:\n",
    "            cost = dist + i[1]\n",
    "            # 현재 노드를 거쳐서, 다른 노드로 이동하는 거리가 더 짧은 경우\n",
    "            if cost < distance[i[0]]:\n",
    "                distance[i[0]] = cost\n",
    "                heapq.heappush(q, (cost, i[0]))\n",
    "\n",
    "# 다익스트라 알고리즘을 수행\n",
    "dijkstra(start)\n",
    "\n",
    "# 도달할 수 있는 노드의 개수\n",
    "count = 0\n",
    "# 도달할 수 있는 노드 중에서, 가장 멀리 있는 노드와의 최단 거리\n",
    "max_distance = 0\n",
    "for d in distance:\n",
    "    # 도달할 수 있는 노드인 경우\n",
    "    if d != 1e9:\n",
    "        count += 1\n",
    "        max_distance = max(max_distance, d)\n",
    "\n",
    "# 시작 노드는 제외해야 하므로 count - 1을 출력\n",
    "print(count - 1, max_distance)"
   ]
  }
 ],
 "metadata": {
  "kernelspec": {
   "display_name": "Python 3 (ipykernel)",
   "language": "python",
   "name": "python3"
  },
  "language_info": {
   "codemirror_mode": {
    "name": "ipython",
    "version": 3
   },
   "file_extension": ".py",
   "mimetype": "text/x-python",
   "name": "python",
   "nbconvert_exporter": "python",
   "pygments_lexer": "ipython3",
   "version": "3.8.5"
  }
 },
 "nbformat": 4,
 "nbformat_minor": 5
}
