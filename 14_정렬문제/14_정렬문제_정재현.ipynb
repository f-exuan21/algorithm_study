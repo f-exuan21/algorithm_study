{
 "cells": [
  {
   "cell_type": "markdown",
   "id": "686c9841",
   "metadata": {},
   "source": [
    "# Q23. 국영수\n",
    "- 도현이네 반 학생 N명의 이름과 국어, 영어, 수학 점수가 주어진다\n",
    "- 다음과 같은 조건으로 학생의 성적을 정렬하는 프로그램 작성\n",
    "    1. 국어 점수가 감소하는 순서로\n",
    "    2. 국어 점수가 같으면 영어 점수가 증가하는 순서로\n",
    "    3. 국어 점수와 영어 점수가 같으면 수학 점수가 감소하는 순서로\n",
    "    4. 모든 점수가 같으면 이름이 사전 순으로 증가하는 순서로"
   ]
  },
  {
   "cell_type": "code",
   "execution_count": 2,
   "id": "250bbfe8",
   "metadata": {},
   "outputs": [
    {
     "name": "stdout",
     "output_type": "stream",
     "text": [
      "5\n",
      "A 50 60 100\n",
      "B 80 60 50\n",
      "C 80 70 100\n",
      "D 50 60 90\n",
      "E 50 60 100\n",
      "B\n",
      "C\n",
      "A\n",
      "E\n",
      "D\n"
     ]
    }
   ],
   "source": [
    "n = int(input())\n",
    "students = [] # 학생 정보를 담을 리스트\n",
    "\n",
    "# 모든 학생 정보를 입력 받기\n",
    "for _ in range(n):\n",
    "    students.append(input().split())\n",
    "\n",
    "'''\n",
    "[ 정렬 기준 ]\n",
    "1) 두 번째 원소를 기준으로 내림차순 정렬\n",
    "2) 두 번째 원소가 같은 경우, 세 번째 원소를 기준으로 오름차순 정렬\n",
    "3) 세 번째 원소가 같은 경우, 네 번째 원소를 기준으로 내림차순 정렬\n",
    "4) 네 번째 원소가 같은 경우, 첫 번째 원소를 기준으로 오름차순 정렬\n",
    "'''\n",
    "students.sort(key=lambda x: (-int(x[1]), int(x[2]), -int(x[3]), x[0]))\n",
    "\n",
    "# 정렬된 학생 정보에서 이름만 출력\n",
    "for student in students:\n",
    "    print(student[0])"
   ]
  },
  {
   "cell_type": "markdown",
   "id": "e0b52137",
   "metadata": {},
   "source": [
    "# Q24. 안테나\n",
    "- 일질선상의 마을에 여러 채의 집이 위치해 있고 한 개의 안테나를 설치하고자 한다\n",
    "- 효율성을 위해 안테나로부터 모든 집까지의 거리의 총합이 최소가 되도록 설치하고자 한다\n",
    "- 안테나는 집이 위치한 곳에만 설치할 수 있고 논리적으로 동일한 위치에 여러 개의 집이 존재하는 것이 불가능\n",
    "- 집들의 위치값이 주어질 때 안테나를 설치할 위치를 선택하는 프로그램 작성"
   ]
  },
  {
   "cell_type": "code",
   "execution_count": 3,
   "id": "fe9e8bbd",
   "metadata": {},
   "outputs": [
    {
     "name": "stdout",
     "output_type": "stream",
     "text": [
      "4\n",
      "5 1 7 9\n",
      "5\n"
     ]
    }
   ],
   "source": [
    "n = int(input())\n",
    "a = list(map(int, input().split()))\n",
    "a.sort()\n",
    "\n",
    "# 중간값(median)을 출력\n",
    "print(a[(n - 1) // 2])"
   ]
  },
  {
   "cell_type": "markdown",
   "id": "42af8e71",
   "metadata": {},
   "source": [
    "# Q25. 실패율 \n",
    "- 실패율의 정의: 스테이지에 도달했으나 아직 클리어하지 못한 플레이어의 수 / 스테이지에 도달한 플레이어의 수\n",
    "- 전체 스테이지의 개수 N, 게임을 이용하는 사용자가 현재 멈춰있는 스테이지의 번호가 담긴 배열 stages가 매개변수로 주어질 때 실패율이 높은 스테이지부터 내림차순으로 스테이지의 번호가 담겨있는 배열을 return하는 함수 작성"
   ]
  },
  {
   "cell_type": "code",
   "execution_count": 4,
   "id": "0041db22",
   "metadata": {},
   "outputs": [],
   "source": [
    "def solution(N, stages):\n",
    "    answer = []\n",
    "    length = len(stages)\n",
    "\n",
    "    # 스테이지 번호를 1부터 N까지 증가시키며\n",
    "    for i in range(1, N + 1):\n",
    "        # 해당 스테이지에 머물러 있는 사람의 수 계산\n",
    "        count = stages.count(i)\n",
    "        \n",
    "        # 실패율 계산\n",
    "        if length == 0:\n",
    "            fail = 0\n",
    "        else:\n",
    "            fail = count / length\n",
    "        \n",
    "        # 리스트에 (스테이지 번호, 실패율) 원소 삽입\n",
    "        answer.append((i, fail))\n",
    "        length -= count\n",
    "\n",
    "    # 실패율을 기준으로 각 스테이지를 내림차순 정렬\n",
    "    answer = sorted(answer, key=lambda t: t[1], reverse=True)\n",
    "    \n",
    "    # 정렬된 스테이지 번호 반환\n",
    "    answer = [i[0] for i in answer]\n",
    "    return answer"
   ]
  },
  {
   "cell_type": "code",
   "execution_count": 5,
   "id": "eb72ae1e",
   "metadata": {},
   "outputs": [
    {
     "data": {
      "text/plain": [
       "[4, 1, 2, 3]"
      ]
     },
     "execution_count": 5,
     "metadata": {},
     "output_type": "execute_result"
    }
   ],
   "source": [
    "solution(4,[4,4,4,4,4])"
   ]
  },
  {
   "cell_type": "markdown",
   "id": "7a15b9b0",
   "metadata": {},
   "source": [
    "# Q26. 카드 정렬하기\n",
    "- 정렬된 두 묶음의 숫자 카드가 있을 때 각 묶음의 카드의 수를 A, B라 하면 보통 두 묶음을 합쳐서 하나로 만드는데에는 A + B번의 비교를 해야한다\n",
    "- N개의 숫자 카드 묶음의 각각의 크기가 주어질 때 최소한 몇 번의 비교가 필요한지를 구하는 프로그램 작성"
   ]
  },
  {
   "cell_type": "code",
   "execution_count": 6,
   "id": "5fb953d9",
   "metadata": {},
   "outputs": [
    {
     "name": "stdout",
     "output_type": "stream",
     "text": [
      "3\n",
      "10\n",
      "20\n",
      "40\n",
      "100\n"
     ]
    }
   ],
   "source": [
    "import heapq\n",
    "\n",
    "n = int(input())\n",
    "\n",
    "# 힙(Heap)에 초기 카드 묶음을 모두 삽입\n",
    "heap = []\n",
    "for i in range(n):\n",
    "    data = int(input())\n",
    "    heapq.heappush(heap, data)\n",
    "\n",
    "result = 0\n",
    "\n",
    "# 힙(Heap)에 원소가 1개 남을 때까지\n",
    "while len(heap) != 1:\n",
    "    # 가장 작은 2개의 카드 묶음 꺼내기\n",
    "    one = heapq.heappop(heap)\n",
    "    two = heapq.heappop(heap)\n",
    "    # 카드 묶음을 합쳐서 다시 삽입\n",
    "    sum_value = one + two\n",
    "    result += sum_value\n",
    "    heapq.heappush(heap, sum_value)\n",
    "\n",
    "print(result)"
   ]
  }
 ],
 "metadata": {
  "kernelspec": {
   "display_name": "Python 3 (ipykernel)",
   "language": "python",
   "name": "python3"
  },
  "language_info": {
   "codemirror_mode": {
    "name": "ipython",
    "version": 3
   },
   "file_extension": ".py",
   "mimetype": "text/x-python",
   "name": "python",
   "nbconvert_exporter": "python",
   "pygments_lexer": "ipython3",
   "version": "3.8.5"
  }
 },
 "nbformat": 4,
 "nbformat_minor": 5
}
