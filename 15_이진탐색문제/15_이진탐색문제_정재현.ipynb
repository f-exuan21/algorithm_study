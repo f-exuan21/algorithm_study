{
 "cells": [
  {
   "cell_type": "markdown",
   "id": "124c137e",
   "metadata": {},
   "source": [
    "# Q27. 정렬된 배열에서 특정 수의 개수 구하기\n",
    "- N개의 원소를 포함하고 있는 수열이 오름차순으로 정렬되어 있다\n",
    "- 이때 이 수열에서 x가 등장하는 횟수를 계산"
   ]
  },
  {
   "cell_type": "code",
   "execution_count": 1,
   "id": "c906e2b6",
   "metadata": {},
   "outputs": [
    {
     "name": "stdout",
     "output_type": "stream",
     "text": [
      "7 2\n",
      "1 1 2 2 2 2 3\n",
      "4\n"
     ]
    }
   ],
   "source": [
    "from bisect import bisect_left, bisect_right\n",
    "\n",
    "# 값이 [left_value, right_value]인 데이터의 개수를 반환하는 함수\n",
    "def count_by_range(array, left_value, right_value):\n",
    "    right_index = bisect_right(array, right_value)\n",
    "    left_index = bisect_left(array, left_value)\n",
    "    return right_index - left_index\n",
    "\n",
    "n, x = map(int, input().split()) # 데이터의 개수 N, 찾고자 하는 값 x 입력 받기\n",
    "array = list(map(int, input().split())) # 전체 데이터 입력 받기\n",
    "\n",
    "# 값이 [x, x] 범위에 있는 데이터의 개수 계산\n",
    "count = count_by_range(array, x, x)\n",
    "\n",
    "# 값이 x인 원소가 존재하지 않는다면\n",
    "if count == 0:\n",
    "    print(-1)\n",
    "# 값이 x인 원소가 존재한다면\n",
    "else:\n",
    "    print(count)"
   ]
  },
  {
   "cell_type": "markdown",
   "id": "ab01fce8",
   "metadata": {},
   "source": [
    "# Q28. 고정점 찾기\n",
    "- 고정점이란 수열의 원소 중에서 그 값이 인덱스와 동일한 원소를 의미\n",
    "- 하나의 수열이 N개의 서로 다른 원소를 포함하고 있으며 모든 원소가 오름차순으로 정렬되어 있다\n",
    "- 이때 이 수열에서 고정점이 있다면 고정점을 출력하는 프로그램 작성(고정점은 최대 1개만 존재)"
   ]
  },
  {
   "cell_type": "code",
   "execution_count": 2,
   "id": "8fda996d",
   "metadata": {},
   "outputs": [
    {
     "name": "stdout",
     "output_type": "stream",
     "text": [
      "5\n",
      "-15 6 1 3 7\n",
      "3\n"
     ]
    }
   ],
   "source": [
    "# 이진 탐색 소스코드 구현(재귀 함수)\n",
    "def binary_search(array, start, end):\n",
    "    if start > end:\n",
    "        return None\n",
    "    mid = (start + end) // 2\n",
    "    # 고정점을 찾은 경우 인덱스 반환\n",
    "    if array[mid] == mid:\n",
    "        return mid\n",
    "    # 중간점이 가리키는 값보다 중간점이 작은 경우 왼쪽 확인\n",
    "    elif array[mid] > mid:\n",
    "        return binary_search(array, start, mid - 1)\n",
    "    # 중간점이 가리키는 값보다 중간점이 큰 경우 오른쪽 확인\n",
    "    else:\n",
    "        return binary_search(array, mid + 1, end)\n",
    "\n",
    "n = int(input())\n",
    "array = list(map(int, input().split()))\n",
    "\n",
    "# 이진 탐색(Binary Search) 수행\n",
    "index = binary_search(array, 0, n - 1)\n",
    "\n",
    "# 고정점이 없는 경우 -1 출력\n",
    "if index == None:\n",
    "    print(-1)\n",
    "# 고정점이 있는 경우 해당 인덱스 출력\n",
    "else:\n",
    "    print(index)"
   ]
  },
  {
   "cell_type": "markdown",
   "id": "3b28080c",
   "metadata": {},
   "source": [
    "# Q29. 공유기 설치\n",
    "- 도현이의 집 N개가 수직선 위에 있고 각 집의 좌표는 $x_1,x_2,...,x_n$이다\n",
    "- 도현이는 언제 어디서나 와이파이를 즐기기 위해 집에 공유기 C개를 설치하고자 한다\n",
    "- 한 집에는 공유기를 하나만 설치할 수 있고 가장 인접한 두 공유기 사이의 거리를 가능한 크게하여 설치하고자 한다\n",
    "- C개의 공유기를 N개의 집에 적당히 설치해서 가장 인접한 두 공유기 사이의 거리를 최대로 하는 프로그램 작성"
   ]
  },
  {
   "cell_type": "code",
   "execution_count": 3,
   "id": "13211396",
   "metadata": {},
   "outputs": [
    {
     "name": "stdout",
     "output_type": "stream",
     "text": [
      "5 3\n",
      "1\n",
      "2\n",
      "8\n",
      "4\n",
      "9\n",
      "3\n"
     ]
    }
   ],
   "source": [
    "# 집의 개수(N)와 공유기의 개수(C)를 입력 받기\n",
    "n, c = list(map(int, input().split(' ')))\n",
    "\n",
    "# 전체 집의 좌표 정보를 입력 받기\n",
    "array = []\n",
    "for _ in range(n):\n",
    "     array.append(int(input()))\n",
    "array.sort() # 이진 탐색 수행을 위해 정렬 수행\n",
    "\n",
    "start = 1 # 가능한 최소 거리(min gap)\n",
    "end = array[-1] - array[0] # 가능한 최대 거리(max gap)\n",
    "result = 0\n",
    "\n",
    "while(start <= end):\n",
    "    mid = (start + end) // 2 # mid는 가장 인접한 두 공유기 사이의 거리(gap)을 의미\n",
    "    # 첫째 집에는 무조건 공유기를 설치한다고 가정\n",
    "    value = array[0]\n",
    "    count = 1\n",
    "    # 현재의 mid 값을 이용해 공유기를 설치하기\n",
    "    for i in range(1, n): # 앞에서부터 차근차근 설치 \n",
    "        if array[i] >= value + mid:\n",
    "            value = array[i]\n",
    "            count += 1\n",
    "    if count >= c: # C개 이상의 공유기를 설치할 수 있는 경우, 거리를 증가시키기\n",
    "        start = mid + 1\n",
    "        result = mid # 최적의 결과를 저장\n",
    "    else: # C개 이상의 공유기를 설치할 수 없는 경우, 거리를 감소시키기\n",
    "        end = mid - 1\n",
    "\n",
    "print(result)"
   ]
  },
  {
   "cell_type": "markdown",
   "id": "282f8a6f",
   "metadata": {},
   "source": [
    "# Q30. 기사 검색\n",
    "- 프로도는 좋아하는 노래 가사에 사용된 단어 중에 특정 키워드가 몇 개 포함되어 있는지 알려주는 프로그램을 개발 해달라는 제안을 받았다\n",
    "- 키워드는 와일드카드 문자 중 하나인 '?'가 포함된 패턴 형태의 문자열을 뜻한다\n",
    "- 가사에 사용된 모든 단어들이 담긴 배열 words와 찾고자 하는 키워드가 담긴 배열 queries가 주어질 때 각 키워드별로 매치된 단어가 몇 개 인지 순서대로 배열에 담아 반환하는 함수 작성"
   ]
  },
  {
   "cell_type": "code",
   "execution_count": 4,
   "id": "f22f1f81",
   "metadata": {},
   "outputs": [],
   "source": [
    "from bisect import bisect_left, bisect_right\n",
    "\n",
    "# 값이 [left_value, right_value]인 데이터의 개수를 반환하는 함수\n",
    "def count_by_range(a, left_value, right_value):\n",
    "    right_index = bisect_right(a, right_value)\n",
    "    left_index = bisect_left(a, left_value)\n",
    "    return right_index - left_index\n",
    "\n",
    "# 모든 단어들을 길이마다 나누어서 저장하기 위한 리스트\n",
    "array = [[] for _ in range(10001)]\n",
    "# 모든 단어들을 길이마다 나누어서 뒤집어 저장하기 위한 리스트\n",
    "reversed_array = [[] for _ in range(10001)]\n",
    "\n",
    "def solution(words, queries):\n",
    "    answer = []\n",
    "    for word in words: # 모든 단어를 접미사 와일드카드 배열, 접두사 와일드카드 배열에 각각 삽입\n",
    "        array[len(word)].append(word) # 단어를 삽입\n",
    "        reversed_array[len(word)].append(word[::-1]) # 단어를 뒤집어서 삽입\n",
    "\n",
    "    for i in range(10001): # 이진 탐색을 수행하기 위해 각 단어 리스트 정렬 수행\n",
    "        array[i].sort()\n",
    "        reversed_array[i].sort()\n",
    "\n",
    "    for q in queries: # 쿼리를 하나씩 확인하며 처리\n",
    "        if q[0] != '?': # 접미사에 와일드 카드가 붙은 경우\n",
    "            res = count_by_range(array[len(q)], q.replace('?', 'a'), q.replace('?', 'z'))\n",
    "        else: # 접두사에 와일드 카드가 붙은 경우\n",
    "            res = count_by_range(reversed_array[len(q)], q[::-1].replace('?', 'a'), q[::-1].replace('?', 'z'))\n",
    "        # 검색된 단어의 개수를 저장\n",
    "        answer.append(res)\n",
    "    return answer"
   ]
  },
  {
   "cell_type": "code",
   "execution_count": 5,
   "id": "712b5ea9",
   "metadata": {},
   "outputs": [
    {
     "data": {
      "text/plain": [
       "[3, 2, 0, 4, 1]"
      ]
     },
     "execution_count": 5,
     "metadata": {},
     "output_type": "execute_result"
    }
   ],
   "source": [
    "solution([\"frodo\", \"front\",\"frost\",\"frozen\",\"frame\",\"kakao\"], \n",
    "         [\"fro??\", \"????o\", \"pro?\", \"fr???\", \"fro???\", ])"
   ]
  }
 ],
 "metadata": {
  "kernelspec": {
   "display_name": "Python 3 (ipykernel)",
   "language": "python",
   "name": "python3"
  },
  "language_info": {
   "codemirror_mode": {
    "name": "ipython",
    "version": 3
   },
   "file_extension": ".py",
   "mimetype": "text/x-python",
   "name": "python",
   "nbconvert_exporter": "python",
   "pygments_lexer": "ipython3",
   "version": "3.8.5"
  }
 },
 "nbformat": 4,
 "nbformat_minor": 5
}
