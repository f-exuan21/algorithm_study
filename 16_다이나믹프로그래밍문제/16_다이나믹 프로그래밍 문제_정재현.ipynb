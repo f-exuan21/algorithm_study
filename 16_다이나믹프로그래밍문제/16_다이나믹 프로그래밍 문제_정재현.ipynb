{
 "cells": [
  {
   "cell_type": "markdown",
   "id": "19e73d9d",
   "metadata": {},
   "source": [
    "# CHAPTER 16. 다이나믹 프로그래밍 문제"
   ]
  },
  {
   "cell_type": "markdown",
   "id": "28095deb",
   "metadata": {},
   "source": [
    "## 31. 금광"
   ]
  },
  {
   "cell_type": "code",
   "execution_count": 1,
   "id": "d6eb2597",
   "metadata": {},
   "outputs": [
    {
     "name": "stdout",
     "output_type": "stream",
     "text": [
      "2\n",
      "3 4\n",
      "1 3 3 2 2 1 4 1 0 6 4 7\n",
      "19\n",
      "4 4\n",
      "1 3 1 5 2 2 4 1 5 0 2 3 0 6 1 2\n",
      "16\n"
     ]
    }
   ],
   "source": [
    "# 테스트 케이스(Test Case) 입력\n",
    "for tc in range(int(input())):\n",
    "    # 금광 정보 입력\n",
    "    n, m = map(int, input().split())\n",
    "    array = list(map(int, input().split()))\n",
    "\n",
    "    # 다이나믹 프로그래밍을 위한 2차원 DP 테이블 초기화\n",
    "    dp = []\n",
    "    index = 0\n",
    "    for i in range(n):\n",
    "        dp.append(array[index:index + m])\n",
    "        index += m\n",
    "\n",
    "    # 다이나믹 프로그래밍 진행\n",
    "    for j in range(1, m):\n",
    "        for i in range(n):\n",
    "            # 왼쪽 위에서 오는 경우\n",
    "            if i == 0:\n",
    "                left_up = 0\n",
    "            else:\n",
    "                left_up = dp[i - 1][j - 1]\n",
    "            # 왼쪽 아래에서 오는 경우\n",
    "            if i == n - 1:\n",
    "                left_down = 0\n",
    "            else:\n",
    "                left_down = dp[i + 1][j - 1]\n",
    "            # 왼쪽에서 오는 경우\n",
    "            left = dp[i][j - 1]\n",
    "            dp[i][j] = dp[i][j] + max(left_up, left_down, left)\n",
    "\n",
    "    result = 0\n",
    "    for i in range(n):\n",
    "        result = max(result, dp[i][m - 1])\n",
    "\n",
    "    print(result)"
   ]
  },
  {
   "cell_type": "markdown",
   "id": "36d1ddc0",
   "metadata": {},
   "source": [
    "## 32. 정수 삼각형"
   ]
  },
  {
   "cell_type": "code",
   "execution_count": 2,
   "id": "6abc0390",
   "metadata": {},
   "outputs": [
    {
     "name": "stdout",
     "output_type": "stream",
     "text": [
      "5\n",
      "7\n",
      "3 8\n",
      "8 1 0\n",
      "2 7 4 4\n",
      "4 5 2 6 5\n",
      "30\n"
     ]
    }
   ],
   "source": [
    "n = int(input())\n",
    "dp = [] # 다이나믹 프로그래밍을 위한 DP 테이블 초기화\n",
    "\n",
    "for _ in range(n):\n",
    "    dp.append(list(map(int, input().split())))\n",
    "\n",
    "# 다이나믹 프로그래밍으로 2번째 줄부터 내려가면서 확인\n",
    "for i in range(1, n):\n",
    "    for j in range(i + 1):\n",
    "        # 왼쪽 위에서 내려오는 경우\n",
    "        if j == 0:\n",
    "            up_left = 0\n",
    "        else:\n",
    "            up_left = dp[i - 1][j - 1]\n",
    "        # 바로 위에서 내려오는 경우\n",
    "        if j == i:\n",
    "            up = 0\n",
    "        else:\n",
    "            up = dp[i - 1][j]\n",
    "        # 최대 합을 저장\n",
    "        dp[i][j] = dp[i][j] + max(up_left, up)\n",
    "\n",
    "print(max(dp[n - 1]))"
   ]
  },
  {
   "cell_type": "markdown",
   "id": "7f46589b",
   "metadata": {},
   "source": [
    "## 33. 퇴사"
   ]
  },
  {
   "cell_type": "code",
   "execution_count": 3,
   "id": "96e18e66",
   "metadata": {},
   "outputs": [
    {
     "name": "stdout",
     "output_type": "stream",
     "text": [
      "7\n",
      "3 10\n",
      "5 20\n",
      "1 10\n",
      "1 20\n",
      "2 15\n",
      "4 40\n",
      "2 200\n",
      "45\n"
     ]
    }
   ],
   "source": [
    "n = int(input()) # 전체 상담 개수\n",
    "t = [] # 각 상담을 완료하는데 걸리는 기간\n",
    "p = [] # 각 상담을 완료했을 때 받을 수 있는 금액\n",
    "dp = [0] * (n + 1) # 다이나믹 프로그래밍을 위한 1차원 DP 테이블 초기화\n",
    "max_value = 0\n",
    "\n",
    "for _ in range(n):\n",
    "    x, y = map(int, input().split())\n",
    "    t.append(x)\n",
    "    p.append(y)\n",
    "\n",
    "# 리스트를 뒤에서부터 거꾸로 확인\n",
    "for i in range(n - 1, -1, -1):\n",
    "    time = t[i] + i\n",
    "    # 상담이 기간 안에 끝나는 경우\n",
    "    if time <= n:\n",
    "        # 점화식에 맞게, 현재까지의 최고 이익 계산\n",
    "        dp[i] = max(p[i] + dp[time], max_value)\n",
    "        max_value = dp[i]\n",
    "    # 상담이 기간을 벗어나는 경우\n",
    "    else:\n",
    "        dp[i] = max_value\n",
    "\n",
    "print(max_value)"
   ]
  },
  {
   "cell_type": "markdown",
   "id": "5b0f8054",
   "metadata": {},
   "source": [
    "## 34. 병사 배치하기"
   ]
  },
  {
   "cell_type": "code",
   "execution_count": 4,
   "id": "289bea81",
   "metadata": {},
   "outputs": [
    {
     "name": "stdout",
     "output_type": "stream",
     "text": [
      "7\n",
      "15 11 4 8 5 2 4\n",
      "2\n"
     ]
    }
   ],
   "source": [
    "n = int(input())\n",
    "array = list(map(int, input().split()))\n",
    "# 순서를 뒤집어 '최장 증가 부분 수열' 문제로 변환\n",
    "array.reverse()\n",
    "\n",
    "# 다이나믹 프로그래밍을 위한 1차원 DP 테이블 초기화\n",
    "dp = [1] * n\n",
    "\n",
    "# 가장 긴 증가하는 부분 수열(LIS) 알고리즘 수행\n",
    "for i in range(1, n):\n",
    "    for j in range(0, i):\n",
    "        if array[j] < array[i]:\n",
    "            dp[i] = max(dp[i], dp[j] + 1)\n",
    "\n",
    "# 열외해야 하는 병사의 최소 수를 출력\n",
    "print(n - max(dp))"
   ]
  },
  {
   "cell_type": "markdown",
   "id": "9f1952cc",
   "metadata": {},
   "source": [
    "## 35. 못생긴 수"
   ]
  },
  {
   "cell_type": "code",
   "execution_count": 5,
   "id": "f53f2358",
   "metadata": {},
   "outputs": [
    {
     "name": "stdout",
     "output_type": "stream",
     "text": [
      "10\n",
      "12\n"
     ]
    }
   ],
   "source": [
    "n = int(input())\n",
    "\n",
    "ugly = [0] * n # 못생긴 수를 담기 위한 테이블 (1차원 DP 테이블)\n",
    "ugly[0] = 1 # 첫 번째 못생긴 수는 1\n",
    "\n",
    "# 2배, 3배, 5배를 위한 인덱스\n",
    "i2 = i3 = i5 = 0\n",
    "# 처음에 곱셈 값을 초기화\n",
    "next2, next3, next5 = 2, 3, 5\n",
    "\n",
    "# 1부터 n까지의 못생긴 수들을 찾기\n",
    "for l in range(1, n):\n",
    "    # 가능한 곱셈 결과 중에서 가장 작은 수를 선택\n",
    "    ugly[l] = min(next2, next3, next5)\n",
    "    # 인덱스에 따라서 곱셈 결과를 증가\n",
    "    if ugly[l] == next2:\n",
    "        i2 += 1\n",
    "        next2 = ugly[i2] * 2\n",
    "    if ugly[l] == next3:\n",
    "        i3 += 1\n",
    "        next3 = ugly[i3] * 3\n",
    "    if ugly[l] == next5:\n",
    "        i5 += 1\n",
    "        next5 = ugly[i5] * 5\n",
    "\n",
    "# n번째 못생긴 수를 출력\n",
    "print(ugly[n - 1])"
   ]
  },
  {
   "cell_type": "markdown",
   "id": "23f26689",
   "metadata": {},
   "source": [
    "## 36. 편집 거리"
   ]
  },
  {
   "cell_type": "code",
   "execution_count": 6,
   "id": "294c7ee5",
   "metadata": {},
   "outputs": [
    {
     "name": "stdout",
     "output_type": "stream",
     "text": [
      "cat\n",
      "cut\n",
      "1\n"
     ]
    }
   ],
   "source": [
    "# 최소 편집 거리(Edit Distance) 계산을 위한 다이나믹 프로그래밍\n",
    "def edit_dist(str1, str2):\n",
    "    n = len(str1)\n",
    "    m = len(str2)\n",
    "\n",
    "    # 다이나믹 프로그래밍을 위한 2차원 DP 테이블 초기화\n",
    "    dp = [[0] * (m + 1) for _ in range(n + 1)]\n",
    "\n",
    "    # DP 테이블 초기 설정\n",
    "    for i in range(1, n + 1):\n",
    "        dp[i][0] = i\n",
    "    for j in range(1, m + 1):\n",
    "        dp[0][j] = j\n",
    "    \n",
    "    # 최소 편집 거리 계산\n",
    "    for i in range(1, n + 1):\n",
    "        for j in range(1, m + 1):\n",
    "            # 문자가 같다면, 왼쪽 위에 해당하는 수를 그대로 대입\n",
    "            if str1[i - 1] == str2[j - 1]:\n",
    "                dp[i][j] = dp[i - 1][j - 1]\n",
    "            # 문자가 다르다면, 세 가지 경우 중에서 최솟값 찾기\n",
    "            else: # 삽입(왼쪽), 삭제(위쪽), 교체(왼쪽 위) 중에서 최소 비용을 찾아 대입\n",
    "                dp[i][j] = 1 + min(dp[i][j - 1], dp[i - 1][j], dp[i - 1][j - 1])\n",
    "\n",
    "    return dp[n][m]\n",
    "\n",
    "# 두 문자열을 입력 받기\n",
    "str1 = input()\n",
    "str2 = input()\n",
    "\n",
    "# 최소 편집 거리 출력\n",
    "print(edit_dist(str1, str2))"
   ]
  }
 ],
 "metadata": {
  "kernelspec": {
   "display_name": "Python 3 (ipykernel)",
   "language": "python",
   "name": "python3"
  },
  "language_info": {
   "codemirror_mode": {
    "name": "ipython",
    "version": 3
   },
   "file_extension": ".py",
   "mimetype": "text/x-python",
   "name": "python",
   "nbconvert_exporter": "python",
   "pygments_lexer": "ipython3",
   "version": "3.8.5"
  }
 },
 "nbformat": 4,
 "nbformat_minor": 5
}
