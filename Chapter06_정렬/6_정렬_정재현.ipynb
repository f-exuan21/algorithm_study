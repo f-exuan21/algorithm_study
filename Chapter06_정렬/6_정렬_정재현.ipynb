{
 "cells": [
  {
   "cell_type": "markdown",
   "id": "df6d1fbd",
   "metadata": {},
   "source": [
    "# Chapter06. 정렬"
   ]
  },
  {
   "cell_type": "markdown",
   "id": "99f0f82b",
   "metadata": {},
   "source": [
    "## 1) 기준에 따라 데이터를 정렬\n",
    "- 정렬(sorting): 데이터를 특정한 기준에 따라서 순서대로 나열하는 것\n",
    "- 데이터를 정렬하면 이진 탐색(Binary Search)이 가능해진다.\n"
   ]
  },
  {
   "cell_type": "markdown",
   "id": "bcc63f3f",
   "metadata": {},
   "source": [
    "### 선택 정렬\n",
    "- 가장 작은 것은 선택해 바꾸며 정렬하는 알고리즘\n"
   ]
  },
  {
   "cell_type": "code",
   "execution_count": 10,
   "id": "4f22e4b0",
   "metadata": {},
   "outputs": [
    {
     "name": "stdout",
     "output_type": "stream",
     "text": [
      "[0, 1, 2, 3, 4, 5, 6, 7, 8, 9]\n"
     ]
    }
   ],
   "source": [
    "array = [7, 5, 9, 0, 3, 1, 6, 2, 4, 8]\n",
    "\n",
    "for i in range(len(array)):\n",
    "    min_index = i # 가장 작은 원소의 인덱스\n",
    "    for j in range(i + 1, len(array)):\n",
    "        if array[min_index] > array[j]:\n",
    "            min_index = j\n",
    "    array[i], array[min_index] = array[min_index], array[i] # 스와프\n",
    "\n",
    "print(array)"
   ]
  },
  {
   "cell_type": "markdown",
   "id": "cfaff5bd",
   "metadata": {},
   "source": [
    "- 스와프(Swap): 특정한 리스트가 주어졌을 때 두 변수의 위치를 변경하는 작업"
   ]
  },
  {
   "cell_type": "code",
   "execution_count": 11,
   "id": "4fc4091e",
   "metadata": {},
   "outputs": [
    {
     "name": "stdout",
     "output_type": "stream",
     "text": [
      "[5, 3]\n"
     ]
    }
   ],
   "source": [
    "# 0 인덱스와 1 인덱스의 원소 교체하기\n",
    "\n",
    "array = [3, 5]\n",
    "array[0], array[1] = array[1], array[0]\n",
    "\n",
    "print(array)"
   ]
  },
  {
   "cell_type": "markdown",
   "id": "7e93dea1",
   "metadata": {},
   "source": [
    "- 선택 정렬의 시간 복잡도는 $O(N^2)$이다"
   ]
  },
  {
   "cell_type": "markdown",
   "id": "6bb6f87b",
   "metadata": {},
   "source": [
    "### 삽입 정렬\n",
    "- 삽입 정렬(Insertion Sort): 특정한 데이터를 적절한 위치에 삽입하여 정렬"
   ]
  },
  {
   "cell_type": "code",
   "execution_count": 12,
   "id": "90aa7d51",
   "metadata": {},
   "outputs": [
    {
     "name": "stdout",
     "output_type": "stream",
     "text": [
      "[0, 1, 2, 3, 4, 5, 6, 7, 8, 9]\n"
     ]
    }
   ],
   "source": [
    "array = [7, 5, 9, 0, 3, 1, 6, 2, 4, 8]\n",
    "\n",
    "for i in range(1, len(array)):\n",
    "    for j in range(i, 0, -1): # 인덱스 i부터 1까지 1씩 감소하며 반복하는 문법\n",
    "        if array[j] < array[j - 1]: # 한 칸씩 왼쪽으로 이동\n",
    "            array[j], array[j - 1] = array[j - 1], array[j]\n",
    "        else: # 자기보다 작은 데이터를 만나면 그 위치에서 멈춤\n",
    "            break\n",
    "\n",
    "print(array)"
   ]
  },
  {
   "cell_type": "markdown",
   "id": "5ffea007",
   "metadata": {},
   "source": [
    "- 삽입 정렬의 시간 복잡도는 최악의 경우 $O(N^2)$이고 최선의 경우는  $O(N)$이다"
   ]
  },
  {
   "cell_type": "markdown",
   "id": "d8c945f7",
   "metadata": {},
   "source": [
    "### 퀵 정렬\n",
    "- 기준 데이터를 설정하고 그 기준보다 큰 데이터와 작은 데이터의 위치를 바꾸는 알고리즘\n",
    "- 기준을 설정한 다음 큰 수와 작은 수를 교환한 후 리스트를 반으로 나누느 방식으로 동작한다.\n",
    "- 가장 많이 사용되는 알고리즘\n",
    "- 퀵 정렬과 비교할 만큼 빠른 알고리즘으로 '병합 정렬'이 있다.\n"
   ]
  },
  {
   "cell_type": "code",
   "execution_count": 13,
   "id": "02949e52",
   "metadata": {},
   "outputs": [
    {
     "name": "stdout",
     "output_type": "stream",
     "text": [
      "[0, 1, 2, 3, 4, 5, 6, 7, 8, 9]\n"
     ]
    }
   ],
   "source": [
    "array = [5, 7, 9, 0, 3, 1, 6, 2, 4, 8]\n",
    "\n",
    "def quick_sort(array, start, end):\n",
    "    if start >= end: # 원소가 1개인 경우 종료\n",
    "        return\n",
    "    pivot = start # 피벗은 첫 번째 원소\n",
    "    left = start + 1\n",
    "    right = end\n",
    "    while(left <= right):\n",
    "        # 피벗보다 큰 데이터를 찾을 때까지 반복 \n",
    "        while(left <= end and array[left] <= array[pivot]):\n",
    "            left += 1\n",
    "        # 피벗보다 작은 데이터를 찾을 때까지 반복\n",
    "        while(right > start and array[right] >= array[pivot]):\n",
    "            right -= 1\n",
    "        if(left > right): # 엇갈렸다면 작은 데이터와 피벗을 교체\n",
    "            array[right], array[pivot] = array[pivot], array[right]\n",
    "        else: # 엇갈리지 않았다면 작은 데이터와 큰 데이터를 교체\n",
    "            array[left], array[right] = array[right], array[left]\n",
    "    # 분할 이후 왼쪽 부분과 오른쪽 부분에서 각각 정렬 수행\n",
    "    quick_sort(array, start, right - 1)\n",
    "    quick_sort(array, right + 1, end)\n",
    "\n",
    "quick_sort(array, 0, len(array) - 1)\n",
    "print(array)"
   ]
  },
  {
   "cell_type": "markdown",
   "id": "6a37f8d6",
   "metadata": {},
   "source": [
    "- 퀵 정렬의 시간복잡도는 $O(NlogN)$이다"
   ]
  },
  {
   "cell_type": "markdown",
   "id": "5e3da8c9",
   "metadata": {},
   "source": [
    "### 계수 정렬\n",
    "- 특정한 조건이 부합할 때만 사용할 수 있지만 매우 빠른 정렬 알고리즘\n",
    "- 별도의 리스트를 선언하고 그 안에 정렬에 대한 정보를 담는다는 특징이 있다."
   ]
  },
  {
   "cell_type": "code",
   "execution_count": 14,
   "id": "e76b547c",
   "metadata": {},
   "outputs": [
    {
     "name": "stdout",
     "output_type": "stream",
     "text": [
      "0 0 1 1 2 2 3 4 5 5 6 7 8 9 9 "
     ]
    }
   ],
   "source": [
    "# 모든 원소의 값이 0보다 크거나 같다고 가정\n",
    "array = [7, 5, 9, 0, 3, 1, 6, 2, 9, 1, 4, 8, 0, 5, 2]\n",
    "# 모든 범위를 포함하는 리스트 선언 (모든 값은 0으로 초기화)\n",
    "count = [0] * (max(array) + 1)\n",
    "\n",
    "for i in range(len(array)):\n",
    "    count[array[i]] += 1 # 각 데이터에 해당하는 인덱스의 값 증가\n",
    "\n",
    "for i in range(len(count)): # 리스트에 기록된 정렬 정보 확인\n",
    "    for j in range(count[i]):\n",
    "        print(i, end=' ') # 띄어쓰기를 구분으로 등장한 횟수만큼 인덱스 출력"
   ]
  },
  {
   "cell_type": "markdown",
   "id": "d2ce1ed0",
   "metadata": {},
   "source": [
    "- 계수 정렬의 시간 복잡도는 데이터의 개수를 N, 최대값의 크기를 K라고 할 때 $O(N + K)$이다.\n",
    "- 계쑤 정렬의 공간 복잡도 또한 $O(N + K)$이다."
   ]
  },
  {
   "cell_type": "markdown",
   "id": "6f5a8046",
   "metadata": {},
   "source": [
    "### 파이썬의 정렬 라이브러리\n",
    "- sorted(): 병합 정렬 기반으로 만들어 졌고 일반적으로 퀵 정렬보다 느리나 $O(NlogN)$의 시간 복잡도를 보장\n",
    "- sort(): 리스트에 내장된 함수"
   ]
  },
  {
   "cell_type": "code",
   "execution_count": 15,
   "id": "23e02ce3",
   "metadata": {},
   "outputs": [
    {
     "name": "stdout",
     "output_type": "stream",
     "text": [
      "[0, 1, 2, 3, 4, 5, 6, 7, 8, 9]\n"
     ]
    }
   ],
   "source": [
    "array = [7, 5, 9, 0, 3, 1, 6, 2, 4, 8]\n",
    "\n",
    "result = sorted(array)\n",
    "print(result)"
   ]
  },
  {
   "cell_type": "code",
   "execution_count": 16,
   "id": "a87e02b7",
   "metadata": {},
   "outputs": [
    {
     "name": "stdout",
     "output_type": "stream",
     "text": [
      "[0, 1, 2, 3, 4, 5, 6, 7, 8, 9]\n"
     ]
    }
   ],
   "source": [
    "array = [7, 5, 9, 0, 3, 1, 6, 2, 4, 8]\n",
    "\n",
    "array.sort()\n",
    "print(array)"
   ]
  },
  {
   "cell_type": "markdown",
   "id": "9b66ce22",
   "metadata": {},
   "source": [
    "- key 매개변수를 입력으로 받을 수도 있다."
   ]
  },
  {
   "cell_type": "code",
   "execution_count": 17,
   "id": "1fc2b75d",
   "metadata": {},
   "outputs": [
    {
     "name": "stdout",
     "output_type": "stream",
     "text": [
      "[('바나나', 2), ('당근', 3), ('사과', 5)]\n"
     ]
    }
   ],
   "source": [
    "array = [('바나나', 2), ('사과', 5), ('당근', 3)]\n",
    "\n",
    "def setting(data):\n",
    "    return data[1]\n",
    "\n",
    "result = sorted(array, key=setting)\n",
    "print(result)"
   ]
  },
  {
   "cell_type": "markdown",
   "id": "1547436b",
   "metadata": {},
   "source": [
    "- 정렬 라이브러리는 시간 복잡도 $O(NlogN)$을 보장한다."
   ]
  },
  {
   "cell_type": "markdown",
   "id": "6604d5d6",
   "metadata": {},
   "source": [
    "## 2) 위에서 아래로\n",
    "- 수열을 내림차순으로 정렬하는 프로그램 만들기"
   ]
  },
  {
   "cell_type": "code",
   "execution_count": 18,
   "id": "136d9885",
   "metadata": {},
   "outputs": [
    {
     "name": "stdout",
     "output_type": "stream",
     "text": [
      "3\n",
      "15\n",
      "27\n",
      "12\n",
      "27 15 12 "
     ]
    }
   ],
   "source": [
    "# N 입력 받기\n",
    "n = int(input())\n",
    "\n",
    "# N개의 정수를 입력 받아 리스트에 저장\n",
    "array = []\n",
    "for i in range(n):\n",
    "    array.append(int(input()))\n",
    "\n",
    "# 파이썬 정렬 라이브러리를 이용하여 내림차순 정렬 수행\n",
    "array = sorted(array, reverse=True)\n",
    "\n",
    "# 정렬이 수행된 결과를 출력\n",
    "for i in array:\n",
    "    print(i, end=' ')"
   ]
  },
  {
   "cell_type": "markdown",
   "id": "816c82fc",
   "metadata": {},
   "source": [
    "- 기본 라이브러리 이용하는 것이 효과적"
   ]
  },
  {
   "cell_type": "markdown",
   "id": "a6d5cdab",
   "metadata": {},
   "source": [
    "## 3) 성적이 낮은 순서로 학생 출력하기\n",
    "- N명의 학생 이름과 성적을 입력\n",
    "- 성적이 낮은 순으로 학생 이름을 출력"
   ]
  },
  {
   "cell_type": "code",
   "execution_count": 22,
   "id": "710c801b",
   "metadata": {},
   "outputs": [
    {
     "name": "stdout",
     "output_type": "stream",
     "text": [
      "5\n",
      "A 23\n",
      "B 55\n",
      "C 12\n",
      "D 77\n",
      "E 29\n",
      "C A E B D "
     ]
    }
   ],
   "source": [
    "# N 입력 받기\n",
    "n = int(input())\n",
    "\n",
    "# N명의 학생 정보를 입력 받아 리스트에 저장\n",
    "array = []\n",
    "for i in range(n):\n",
    "    input_data = input().split()\n",
    "    # 이름은 문자열 그대로, 점수는 정수형으로 변환하여 저장\n",
    "    array.append((input_data[0], int(input_data[1])))\n",
    "\n",
    "# 키(Key)를 이용하여, 점수를 기준으로 정렬\n",
    "array = sorted(array, key=lambda student: student[1])\n",
    "\n",
    "# 정렬이 수행된 결과를 출력\n",
    "for student in array:\n",
    "    print(student[0], end=' ')"
   ]
  },
  {
   "cell_type": "markdown",
   "id": "b71fed67",
   "metadata": {},
   "source": [
    "## 4) 두 배열의 원소 교체\n",
    "- 두 개의 배열 A와 B가 있다.\n",
    "- 배열의 원소는 모두 자연수이다.\n",
    "- 배열 A에 있는 원소 하나와 배열 B에 있는 원소 하나를 골라 두 원소를 바꾸는 것을 바꿔치기 연산이라고 한다.\n",
    "- 배열 A의 모든 원소의 합이 최대가 되도록 하는 것이 목표\n",
    "- N은 각 배열의 원소 수이고 K는 바꿔치기 연산 횟수이다."
   ]
  },
  {
   "cell_type": "code",
   "execution_count": 23,
   "id": "95bb9969",
   "metadata": {},
   "outputs": [
    {
     "name": "stdout",
     "output_type": "stream",
     "text": [
      "5 3\n",
      "1 2 5 4 3\n",
      "5 5 6 6 4\n",
      "26\n"
     ]
    }
   ],
   "source": [
    "n, k = map(int, input().split()) # N과 K를 입력 받기\n",
    "a = list(map(int, input().split())) # 배열 A의 모든 원소를 입력받기\n",
    "b = list(map(int, input().split())) # 배열 B의 모든 원소를 입력받기\n",
    "\n",
    "a.sort() # 배열 A는 오름차순 정렬 수행\n",
    "b.sort(reverse=True) # 배열 B는 내림차순 정렬 수행\n",
    "\n",
    "# 첫 번째 인덱스부터 확인하며, 두 배열의 원소를 최대 K번 비교\n",
    "for i in range(k):\n",
    "    # A의 원소가 B의 원소보다 작은 경우\n",
    "    if a[i] < b[i]:\n",
    "        # 두 원소를 교체\n",
    "        a[i], b[i] = b[i], a[i]\n",
    "    else: # A의 원소가 B의 원소보다 크거나 같을 때, 반복문을 탈출\n",
    "        break\n",
    "\n",
    "print(sum(a)) # 배열 A의 모든 원소의 합을 출력"
   ]
  },
  {
   "cell_type": "markdown",
   "id": "e166ffa0",
   "metadata": {},
   "source": [
    " - 기본적인 아이디어는 배열A에 있는 가장 작은 원소를 골라서 배열 B의 가장 큰 원소와 교체하는 것이다\n",
    " - 즉 A의 원소를 오름차순으로 정렬하고 B의 원소를 내림차순으로 정렬하여 A의 원소가 B의 원소보다 작을 때에만 교체를 수행한다.\n",
    " - 두 배열의 원소가 최대 100,000개까지 입력될 수 있으므로 $O(NlogN)$을 보장하는 정렬 알고리즘을 이용해야한다."
   ]
  }
 ],
 "metadata": {
  "kernelspec": {
   "display_name": "Python 3 (ipykernel)",
   "language": "python",
   "name": "python3"
  },
  "language_info": {
   "codemirror_mode": {
    "name": "ipython",
    "version": 3
   },
   "file_extension": ".py",
   "mimetype": "text/x-python",
   "name": "python",
   "nbconvert_exporter": "python",
   "pygments_lexer": "ipython3",
   "version": "3.8.5"
  }
 },
 "nbformat": 4,
 "nbformat_minor": 5
}
